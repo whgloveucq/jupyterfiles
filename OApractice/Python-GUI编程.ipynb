{
 "cells": [
  {
   "cell_type": "code",
   "execution_count": null,
   "metadata": {},
   "outputs": [
    {
     "name": "stderr",
     "output_type": "stream",
     "text": [
      "No traceback available to show.\n"
     ]
    }
   ],
   "source": [
    "from PyQt5.Qt import *\n",
    "import sys\n",
    "#创建应用程序对象\n",
    "%tb\n",
    "app=QApplication(sys.argv)\n",
    "# 控件的操作\n",
    "#控件的大小、位置、样式、事件、信号的处理\n",
    "#创建控件\n",
    "window=QWidget()\n",
    "label=QLabel(window)\n",
    "\n",
    "#设置控件\n",
    "# window.setText(\"hello,whg\")\n",
    "window.setWindowTitle(\"社会\")\n",
    "window .resize(400,400)\n",
    "# label.setWindowTitle(\"test22\")  ,不是顶层控件的子控件，其WidowTitle不必设置\n",
    "label.setText(\"test\")\n",
    "label.move(200,200)\n",
    "#展示控件\n",
    "window.show()\n",
    "# label.show()\n",
    "sys.exit(app.exec_())"
   ]
  },
  {
   "cell_type": "code",
   "execution_count": 24,
   "metadata": {},
   "outputs": [],
   "source": [
    "# print(app.arguments())  \n",
    "# print(qApp.arguments())"
   ]
  },
  {
   "cell_type": "code",
   "execution_count": 26,
   "metadata": {},
   "outputs": [],
   "source": []
  }
 ],
 "metadata": {
  "kernelspec": {
   "display_name": "Python 3",
   "language": "python",
   "name": "python3"
  },
  "language_info": {
   "codemirror_mode": {
    "name": "ipython",
    "version": 3
   },
   "file_extension": ".py",
   "mimetype": "text/x-python",
   "name": "python",
   "nbconvert_exporter": "python",
   "pygments_lexer": "ipython3",
   "version": "3.7.6"
  }
 },
 "nbformat": 4,
 "nbformat_minor": 4
}
