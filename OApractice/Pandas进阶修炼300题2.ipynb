{
 "cells": [
  {
   "cell_type": "markdown",
   "id": "10bb613e",
   "metadata": {},
   "source": [
    "# 初始化"
   ]
  },
  {
   "cell_type": "code",
   "execution_count": 5,
   "id": "12cf423f",
   "metadata": {},
   "outputs": [
    {
     "name": "stdout",
     "output_type": "stream",
     "text": [
      "***************正在初始化***************\n",
      "*************读取到配置文件*************\n",
      "***************初始化成功***************\n"
     ]
    }
   ],
   "source": [
    "import sys\n",
    "import os\n",
    "import pandas as pd\n",
    "os.chdir('data4')\n",
    "from inits import initialize,ans\n",
    "res = initialize(\"answer-4.txt\")"
   ]
  },
  {
   "cell_type": "code",
   "execution_count": 32,
   "id": "a8f71ab8",
   "metadata": {},
   "outputs": [],
   "source": [
    "# !dir"
   ]
  },
  {
   "cell_type": "markdown",
   "id": "bc819edc",
   "metadata": {},
   "source": [
    "# 加载数据"
   ]
  },
  {
   "cell_type": "code",
   "execution_count": 6,
   "id": "d8571cbb",
   "metadata": {},
   "outputs": [],
   "source": [
    "import pandas as pd\n",
    "df = pd.read_excel(\"2020年中国大学排名.xlsx\")"
   ]
  },
  {
   "cell_type": "markdown",
   "id": "89c823dc",
   "metadata": {},
   "source": [
    "## 1.查看数据"
   ]
  },
  {
   "cell_type": "code",
   "execution_count": 9,
   "id": "a7ad1aee",
   "metadata": {},
   "outputs": [
    {
     "data": {
      "text/html": [
       "<div>\n",
       "<style scoped>\n",
       "    .dataframe tbody tr th:only-of-type {\n",
       "        vertical-align: middle;\n",
       "    }\n",
       "\n",
       "    .dataframe tbody tr th {\n",
       "        vertical-align: top;\n",
       "    }\n",
       "\n",
       "    .dataframe thead th {\n",
       "        text-align: right;\n",
       "    }\n",
       "</style>\n",
       "<table border=\"1\" class=\"dataframe\">\n",
       "  <thead>\n",
       "    <tr style=\"text-align: right;\">\n",
       "      <th></th>\n",
       "      <th>排名</th>\n",
       "      <th>学校名称</th>\n",
       "      <th>省市</th>\n",
       "      <th>学校类型</th>\n",
       "      <th>总分</th>\n",
       "      <th>办学层次得分</th>\n",
       "      <th>学科水平得分</th>\n",
       "      <th>办学资源得分</th>\n",
       "      <th>师资规模与结构得分</th>\n",
       "      <th>人才培养得分</th>\n",
       "      <th>科学研究得分</th>\n",
       "      <th>社会服务得分</th>\n",
       "      <th>高端人才得分</th>\n",
       "      <th>重大项目与成果得分</th>\n",
       "      <th>国际竞争力得分</th>\n",
       "    </tr>\n",
       "  </thead>\n",
       "  <tbody>\n",
       "    <tr>\n",
       "      <th>0</th>\n",
       "      <td>1</td>\n",
       "      <td>清华大学</td>\n",
       "      <td>北京</td>\n",
       "      <td>综合</td>\n",
       "      <td>852.5</td>\n",
       "      <td>38.2</td>\n",
       "      <td>72.4</td>\n",
       "      <td>39.6</td>\n",
       "      <td>48.4</td>\n",
       "      <td>256.8</td>\n",
       "      <td>69.1</td>\n",
       "      <td>40.6</td>\n",
       "      <td>76.5</td>\n",
       "      <td>131.0</td>\n",
       "      <td>79.9</td>\n",
       "    </tr>\n",
       "    <tr>\n",
       "      <th>1</th>\n",
       "      <td>2</td>\n",
       "      <td>北京大学</td>\n",
       "      <td>北京</td>\n",
       "      <td>综合</td>\n",
       "      <td>746.7</td>\n",
       "      <td>36.1</td>\n",
       "      <td>73.1</td>\n",
       "      <td>24.6</td>\n",
       "      <td>49.2</td>\n",
       "      <td>237.6</td>\n",
       "      <td>71.0</td>\n",
       "      <td>16.2</td>\n",
       "      <td>71.9</td>\n",
       "      <td>105.8</td>\n",
       "      <td>61.2</td>\n",
       "    </tr>\n",
       "  </tbody>\n",
       "</table>\n",
       "</div>"
      ],
      "text/plain": [
       "   排名  学校名称  省市 学校类型     总分  办学层次得分  学科水平得分  办学资源得分  师资规模与结构得分  人才培养得分   \n",
       "0   1  清华大学  北京   综合  852.5    38.2    72.4    39.6       48.4   256.8  \\\n",
       "1   2  北京大学  北京   综合  746.7    36.1    73.1    24.6       49.2   237.6   \n",
       "\n",
       "   科学研究得分  社会服务得分  高端人才得分  重大项目与成果得分  国际竞争力得分  \n",
       "0    69.1    40.6    76.5      131.0     79.9  \n",
       "1    71.0    16.2    71.9      105.8     61.2  "
      ]
     },
     "execution_count": 9,
     "metadata": {},
     "output_type": "execute_result"
    }
   ],
   "source": [
    "df.head(2)"
   ]
  },
  {
   "cell_type": "markdown",
   "id": "e7d19d78",
   "metadata": {},
   "source": [
    "### 2 修改索引"
   ]
  },
  {
   "cell_type": "code",
   "execution_count": 16,
   "id": "ac869627",
   "metadata": {},
   "outputs": [],
   "source": [
    "# 创建示例数据框  \n",
    "df = pd.DataFrame({'name': ['Alice', 'Bob', 'Charlie'], 'age': [25, 30, 35]})  \n",
    "  \n",
    "# 设置索引  \n",
    "# df.set_index('name', inplace=True)  \n",
    "  \n",
    "# 重新设置索引  \n",
    "# df.reset_index(inplace=True)\n",
    "# 将索引重命名为 'names'  \n",
    "df.rename_axis('names', axis=0, inplace=True)"
   ]
  },
  {
   "cell_type": "code",
   "execution_count": null,
   "id": "41228bc6",
   "metadata": {},
   "outputs": [],
   "source": []
  },
  {
   "cell_type": "markdown",
   "id": "df2223c9",
   "metadata": {},
   "source": [
    "### 3 - 查看数据量"
   ]
  },
  {
   "cell_type": "code",
   "execution_count": 20,
   "id": "42c2ca39",
   "metadata": {},
   "outputs": [
    {
     "name": "stdout",
     "output_type": "stream",
     "text": [
      "数据量为：$100 \\times 15 = 1500$\n"
     ]
    }
   ],
   "source": [
    "# 查看数据量  \n",
    "size = df.shape[0] * df.shape[1]  \n",
    "print(f\"数据量为：${df.shape[0]} \\\\times {df.shape[1]} = {size}$\")\n",
    "# df.shape 返回数据框的行数和列数，分别存储在 df.shape[0] 和 df.shape[1] 中。通过将行数和列数相乘，即可得到数据框的总单元格数量。"
   ]
  },
  {
   "cell_type": "markdown",
   "id": "f9ac9cd3",
   "metadata": {},
   "source": [
    "### 4 - 数据排序"
   ]
  },
  {
   "cell_type": "code",
   "execution_count": 25,
   "id": "9dd4b7fb",
   "metadata": {},
   "outputs": [],
   "source": [
    "# df_sorted = df.sort_values(by='总分', ascending=True)  \n",
    "df_sorted = df.sort_values(by='高端人才得分', ascending=False)\n",
    "df_sorted = df_sorted.head(20)  \n",
    "# print(df_sorted)"
   ]
  },
  {
   "cell_type": "markdown",
   "id": "7b3d213d",
   "metadata": {},
   "source": [
    "### 6 - 分列排名"
   ]
  },
  {
   "cell_type": "code",
   "execution_count": 35,
   "id": "8560fb44",
   "metadata": {},
   "outputs": [
    {
     "data": {
      "text/html": [
       "<div>\n",
       "<style scoped>\n",
       "    .dataframe tbody tr th:only-of-type {\n",
       "        vertical-align: middle;\n",
       "    }\n",
       "\n",
       "    .dataframe tbody tr th {\n",
       "        vertical-align: top;\n",
       "    }\n",
       "\n",
       "    .dataframe thead th {\n",
       "        text-align: right;\n",
       "    }\n",
       "</style>\n",
       "<table border=\"1\" class=\"dataframe\">\n",
       "  <thead>\n",
       "    <tr style=\"text-align: right;\">\n",
       "      <th>学校类型</th>\n",
       "      <th>农业</th>\n",
       "      <th>师范</th>\n",
       "      <th>林业</th>\n",
       "      <th>理工</th>\n",
       "      <th>综合</th>\n",
       "      <th>Total</th>\n",
       "    </tr>\n",
       "    <tr>\n",
       "      <th>学校名称</th>\n",
       "      <th></th>\n",
       "      <th></th>\n",
       "      <th></th>\n",
       "      <th></th>\n",
       "      <th></th>\n",
       "      <th></th>\n",
       "    </tr>\n",
       "  </thead>\n",
       "  <tbody>\n",
       "    <tr>\n",
       "      <th>上海交通大学</th>\n",
       "      <td>0.00</td>\n",
       "      <td>0.00</td>\n",
       "      <td>0.0</td>\n",
       "      <td>0.000000</td>\n",
       "      <td>625.900000</td>\n",
       "      <td>625.9</td>\n",
       "    </tr>\n",
       "    <tr>\n",
       "      <th>上海大学</th>\n",
       "      <td>0.00</td>\n",
       "      <td>0.00</td>\n",
       "      <td>0.0</td>\n",
       "      <td>0.000000</td>\n",
       "      <td>290.000000</td>\n",
       "      <td>290.0</td>\n",
       "    </tr>\n",
       "    <tr>\n",
       "      <th>上海师范大学</th>\n",
       "      <td>0.00</td>\n",
       "      <td>212.80</td>\n",
       "      <td>0.0</td>\n",
       "      <td>0.000000</td>\n",
       "      <td>0.000000</td>\n",
       "      <td>212.8</td>\n",
       "    </tr>\n",
       "    <tr>\n",
       "      <th>上海理工大学</th>\n",
       "      <td>0.00</td>\n",
       "      <td>0.00</td>\n",
       "      <td>0.0</td>\n",
       "      <td>221.400000</td>\n",
       "      <td>0.000000</td>\n",
       "      <td>221.4</td>\n",
       "    </tr>\n",
       "    <tr>\n",
       "      <th>上海科技大学</th>\n",
       "      <td>0.00</td>\n",
       "      <td>0.00</td>\n",
       "      <td>0.0</td>\n",
       "      <td>0.000000</td>\n",
       "      <td>261.500000</td>\n",
       "      <td>261.5</td>\n",
       "    </tr>\n",
       "    <tr>\n",
       "      <th>...</th>\n",
       "      <td>...</td>\n",
       "      <td>...</td>\n",
       "      <td>...</td>\n",
       "      <td>...</td>\n",
       "      <td>...</td>\n",
       "      <td>...</td>\n",
       "    </tr>\n",
       "    <tr>\n",
       "      <th>重庆大学</th>\n",
       "      <td>0.00</td>\n",
       "      <td>0.00</td>\n",
       "      <td>0.0</td>\n",
       "      <td>0.000000</td>\n",
       "      <td>320.900000</td>\n",
       "      <td>320.9</td>\n",
       "    </tr>\n",
       "    <tr>\n",
       "      <th>长安大学</th>\n",
       "      <td>0.00</td>\n",
       "      <td>0.00</td>\n",
       "      <td>0.0</td>\n",
       "      <td>218.900000</td>\n",
       "      <td>0.000000</td>\n",
       "      <td>218.9</td>\n",
       "    </tr>\n",
       "    <tr>\n",
       "      <th>陕西师范大学</th>\n",
       "      <td>0.00</td>\n",
       "      <td>239.90</td>\n",
       "      <td>0.0</td>\n",
       "      <td>0.000000</td>\n",
       "      <td>0.000000</td>\n",
       "      <td>239.9</td>\n",
       "    </tr>\n",
       "    <tr>\n",
       "      <th>首都师范大学</th>\n",
       "      <td>0.00</td>\n",
       "      <td>233.40</td>\n",
       "      <td>0.0</td>\n",
       "      <td>0.000000</td>\n",
       "      <td>0.000000</td>\n",
       "      <td>233.4</td>\n",
       "    </tr>\n",
       "    <tr>\n",
       "      <th>Total</th>\n",
       "      <td>282.68</td>\n",
       "      <td>281.76</td>\n",
       "      <td>242.3</td>\n",
       "      <td>296.042857</td>\n",
       "      <td>365.307143</td>\n",
       "      <td>322.5</td>\n",
       "    </tr>\n",
       "  </tbody>\n",
       "</table>\n",
       "<p>101 rows × 6 columns</p>\n",
       "</div>"
      ],
      "text/plain": [
       "学校类型        农业      师范     林业          理工          综合  Total\n",
       "学校名称                                                        \n",
       "上海交通大学    0.00    0.00    0.0    0.000000  625.900000  625.9\n",
       "上海大学      0.00    0.00    0.0    0.000000  290.000000  290.0\n",
       "上海师范大学    0.00  212.80    0.0    0.000000    0.000000  212.8\n",
       "上海理工大学    0.00    0.00    0.0  221.400000    0.000000  221.4\n",
       "上海科技大学    0.00    0.00    0.0    0.000000  261.500000  261.5\n",
       "...        ...     ...    ...         ...         ...    ...\n",
       "重庆大学      0.00    0.00    0.0    0.000000  320.900000  320.9\n",
       "长安大学      0.00    0.00    0.0  218.900000    0.000000  218.9\n",
       "陕西师范大学    0.00  239.90    0.0    0.000000    0.000000  239.9\n",
       "首都师范大学    0.00  233.40    0.0    0.000000    0.000000  233.4\n",
       "Total   282.68  281.76  242.3  296.042857  365.307143  322.5\n",
       "\n",
       "[101 rows x 6 columns]"
      ]
     },
     "execution_count": 35,
     "metadata": {},
     "output_type": "execute_result"
    }
   ],
   "source": [
    "# 按照得分降序排列  \n",
    "df_sorted = df.sort_values(by='总分', ascending=False)  \n",
    "  \n",
    "# 获取排名第一的学校名称  \n",
    "top_school = df_sorted.iloc[0]['学校名称']  \n",
    "  \n",
    "# 按照各项得分进行分列排名  \n",
    "df_ranked = df.pivot_table(values='总分', index='学校名称', columns='学校类型', fill_value=0, margins=True, margins_name='Total')  \n",
    "  \n",
    "# 打印结果  \n",
    "df_ranked\n",
    "# top_school"
   ]
  },
  {
   "cell_type": "markdown",
   "id": "21e8a3b2",
   "metadata": {},
   "source": [
    "### 7 - 统计信息｜均值"
   ]
  },
  {
   "cell_type": "code",
   "execution_count": 34,
   "id": "42b75a3b",
   "metadata": {},
   "outputs": [
    {
     "name": "stdout",
     "output_type": "stream",
     "text": [
      "总分列的均值为：322.5\n"
     ]
    }
   ],
   "source": [
    "# 计算总分列的均值  \n",
    "total_score_mean = df['总分'].mean()  \n",
    "  \n",
    "# 打印结果  \n",
    "print(f\"总分列的均值为：{total_score_mean}\")"
   ]
  },
  {
   "cell_type": "markdown",
   "id": "87b84cce",
   "metadata": {},
   "source": [
    "### 8 - 统计信息｜中位数"
   ]
  },
  {
   "cell_type": "code",
   "execution_count": 37,
   "id": "ef8a1e7c",
   "metadata": {},
   "outputs": [
    {
     "name": "stdout",
     "output_type": "stream",
     "text": [
      "总分列的中位数为：279.65\n"
     ]
    }
   ],
   "source": [
    "# 计算总分列的中位数  \n",
    "total_score_median = df['总分'].median()  \n",
    "  \n",
    "# 打印结果  \n",
    "print(f\"总分列的中位数为：{total_score_median}\")"
   ]
  },
  {
   "cell_type": "markdown",
   "id": "d5f65482",
   "metadata": {},
   "source": [
    "### 9 - 统计信息｜众数"
   ]
  },
  {
   "cell_type": "code",
   "execution_count": 38,
   "id": "257a5c7b",
   "metadata": {},
   "outputs": [
    {
     "name": "stdout",
     "output_type": "stream",
     "text": [
      "总分列的众数为：233.4\n"
     ]
    }
   ],
   "source": [
    "# 计算总分列的众数  \n",
    "total_score_mode = df['总分'].mode()[0]  \n",
    "  \n",
    "# 打印结果  \n",
    "print(f\"总分列的众数为：{total_score_mode}\")\n"
   ]
  },
  {
   "cell_type": "markdown",
   "id": "32caa6d7",
   "metadata": {},
   "source": [
    "### 10 -统计信息｜部分"
   ]
  },
  {
   "cell_type": "code",
   "execution_count": 49,
   "id": "8fea892c",
   "metadata": {},
   "outputs": [],
   "source": [
    "# 计算总分、高端人才得分和办学层次得分  \n",
    "total_score = df['总分']\n",
    "high_talent_score = df['高端人才得分']\n",
    "level_score = df['学科水平得分']  \n",
    "  \n",
    "# 计算总分的最大值、最小值、中位数和均值  \n",
    "total_score_max = total_score.max()  \n",
    "total_score_min = total_score.min()  \n",
    "total_score_median = total_score.median()  \n",
    "total_score_mean = total_score.mean()  \n",
    "  \n",
    "# 计算高端人才得分的最大值、最小值、中位数和均值  \n",
    "high_talent_score_max = high_talent_score.max()  \n",
    "high_talent_score_min = high_talent_score.min()  \n",
    "high_talent_score_median = high_talent_score.median()  \n",
    "high_talent_score_mean = high_talent_score.mean()  \n",
    "  \n",
    "# 计算办学层次得分的最大值、最小值、中位数和均值  \n",
    "level_score_max = level_score.max()  \n",
    "# print(total_score_max)"
   ]
  },
  {
   "cell_type": "markdown",
   "id": "abb18013",
   "metadata": {},
   "source": [
    "### 11 - 统计信息｜完整"
   ]
  },
  {
   "cell_type": "code",
   "execution_count": 54,
   "id": "65a8a594",
   "metadata": {},
   "outputs": [
    {
     "name": "stdout",
     "output_type": "stream",
     "text": [
      "均值：322.5\n",
      "中位数：279.65\n",
      "四分位数：第一季度：244.18，第三季度：378.8\n"
     ]
    }
   ],
   "source": [
    "import numpy as np\n",
    "# 计算均值并保留两位小数  \n",
    "mean_value = round(np.mean(df['总分']) , 2)  \n",
    "print(f\"均值：{mean_value}\")  \n",
    "  \n",
    "# 计算中位数并保留两位小数  \n",
    "median_value = round(np.median(df['总分']), 2)  \n",
    "print(f\"中位数：{median_value}\")  \n",
    "  \n",
    "# 计算分位数并保留两位小数  \n",
    "q1_value = round(np.percentile(df['总分'], 25), 2)  \n",
    "q3_value = round(np.percentile(df['总分'], 75), 2)  \n",
    "print(f\"四分位数：第一季度：{q1_value}，第三季度：{q3_value}\")\n"
   ]
  },
  {
   "cell_type": "markdown",
   "id": "74b39d3b",
   "metadata": {},
   "source": [
    "### 12 - 统计信息｜分组"
   ]
  },
  {
   "cell_type": "code",
   "execution_count": 67,
   "id": "d1db545c",
   "metadata": {},
   "outputs": [],
   "source": [
    "# 计算各省市总分均值\n",
    "# 按省市进行分组，并计算总分均值  \n",
    "grouped_data = df.groupby('省市')['总分'].mean()\n",
    "# grouped_data.items()\n",
    "# 打印结果  \n",
    "for province, mean_score in grouped_data.items():  \n",
    "#     print(f\"{province}: {round(mean_score,2)}\")\n",
    "    pass\n"
   ]
  },
  {
   "cell_type": "markdown",
   "id": "dcf631df",
   "metadata": {},
   "source": [
    "### 13 - 统计信息｜相关系数"
   ]
  },
  {
   "cell_type": "code",
   "execution_count": 83,
   "id": "d5efad01",
   "metadata": {},
   "outputs": [
    {
     "data": {
      "text/html": [
       "<div>\n",
       "<style scoped>\n",
       "    .dataframe tbody tr th:only-of-type {\n",
       "        vertical-align: middle;\n",
       "    }\n",
       "\n",
       "    .dataframe tbody tr th {\n",
       "        vertical-align: top;\n",
       "    }\n",
       "\n",
       "    .dataframe thead th {\n",
       "        text-align: right;\n",
       "    }\n",
       "</style>\n",
       "<table border=\"1\" class=\"dataframe\">\n",
       "  <thead>\n",
       "    <tr style=\"text-align: right;\">\n",
       "      <th></th>\n",
       "      <th>排名</th>\n",
       "      <th>学校名称</th>\n",
       "      <th>省市</th>\n",
       "      <th>学校类型</th>\n",
       "      <th>总分</th>\n",
       "      <th>办学层次得分</th>\n",
       "      <th>学科水平得分</th>\n",
       "      <th>办学资源得分</th>\n",
       "      <th>师资规模与结构得分</th>\n",
       "      <th>人才培养得分</th>\n",
       "      <th>科学研究得分</th>\n",
       "      <th>社会服务得分</th>\n",
       "      <th>高端人才得分</th>\n",
       "      <th>重大项目与成果得分</th>\n",
       "      <th>国际竞争力得分</th>\n",
       "    </tr>\n",
       "  </thead>\n",
       "  <tbody>\n",
       "    <tr>\n",
       "      <th>0</th>\n",
       "      <td>1</td>\n",
       "      <td>清华大学</td>\n",
       "      <td>北京</td>\n",
       "      <td>综合</td>\n",
       "      <td>852.5</td>\n",
       "      <td>38.2</td>\n",
       "      <td>72.4</td>\n",
       "      <td>39.6</td>\n",
       "      <td>48.4</td>\n",
       "      <td>256.8</td>\n",
       "      <td>69.1</td>\n",
       "      <td>40.6</td>\n",
       "      <td>76.5</td>\n",
       "      <td>131.0</td>\n",
       "      <td>79.9</td>\n",
       "    </tr>\n",
       "    <tr>\n",
       "      <th>1</th>\n",
       "      <td>2</td>\n",
       "      <td>北京大学</td>\n",
       "      <td>北京</td>\n",
       "      <td>综合</td>\n",
       "      <td>746.7</td>\n",
       "      <td>36.1</td>\n",
       "      <td>73.1</td>\n",
       "      <td>24.6</td>\n",
       "      <td>49.2</td>\n",
       "      <td>237.6</td>\n",
       "      <td>71.0</td>\n",
       "      <td>16.2</td>\n",
       "      <td>71.9</td>\n",
       "      <td>105.8</td>\n",
       "      <td>61.2</td>\n",
       "    </tr>\n",
       "  </tbody>\n",
       "</table>\n",
       "</div>"
      ],
      "text/plain": [
       "   排名  学校名称  省市 学校类型     总分  办学层次得分  学科水平得分  办学资源得分  师资规模与结构得分  人才培养得分   \n",
       "0   1  清华大学  北京   综合  852.5    38.2    72.4    39.6       48.4   256.8  \\\n",
       "1   2  北京大学  北京   综合  746.7    36.1    73.1    24.6       49.2   237.6   \n",
       "\n",
       "   科学研究得分  社会服务得分  高端人才得分  重大项目与成果得分  国际竞争力得分  \n",
       "0    69.1    40.6    76.5      131.0     79.9  \n",
       "1    71.0    16.2    71.9      105.8     61.2  "
      ]
     },
     "execution_count": 83,
     "metadata": {},
     "output_type": "execute_result"
    }
   ],
   "source": [
    "df.head(2)"
   ]
  },
  {
   "cell_type": "code",
   "execution_count": 82,
   "id": "1eb6a2ff",
   "metadata": {},
   "outputs": [
    {
     "data": {
      "text/html": [
       "<div>\n",
       "<style scoped>\n",
       "    .dataframe tbody tr th:only-of-type {\n",
       "        vertical-align: middle;\n",
       "    }\n",
       "\n",
       "    .dataframe tbody tr th {\n",
       "        vertical-align: top;\n",
       "    }\n",
       "\n",
       "    .dataframe thead th {\n",
       "        text-align: right;\n",
       "    }\n",
       "</style>\n",
       "<table border=\"1\" class=\"dataframe\">\n",
       "  <thead>\n",
       "    <tr style=\"text-align: right;\">\n",
       "      <th></th>\n",
       "      <th>总分</th>\n",
       "      <th>办学层次得分</th>\n",
       "      <th>学科水平得分</th>\n",
       "      <th>师资规模与结构得分</th>\n",
       "      <th>科学研究得分</th>\n",
       "    </tr>\n",
       "  </thead>\n",
       "  <tbody>\n",
       "    <tr>\n",
       "      <th>总分</th>\n",
       "      <td>1.000000</td>\n",
       "      <td>0.793589</td>\n",
       "      <td>0.934838</td>\n",
       "      <td>0.829229</td>\n",
       "      <td>0.942001</td>\n",
       "    </tr>\n",
       "    <tr>\n",
       "      <th>办学层次得分</th>\n",
       "      <td>0.793589</td>\n",
       "      <td>1.000000</td>\n",
       "      <td>0.703688</td>\n",
       "      <td>0.755698</td>\n",
       "      <td>0.711259</td>\n",
       "    </tr>\n",
       "    <tr>\n",
       "      <th>学科水平得分</th>\n",
       "      <td>0.934838</td>\n",
       "      <td>0.703688</td>\n",
       "      <td>1.000000</td>\n",
       "      <td>0.778855</td>\n",
       "      <td>0.929943</td>\n",
       "    </tr>\n",
       "    <tr>\n",
       "      <th>师资规模与结构得分</th>\n",
       "      <td>0.829229</td>\n",
       "      <td>0.755698</td>\n",
       "      <td>0.778855</td>\n",
       "      <td>1.000000</td>\n",
       "      <td>0.806259</td>\n",
       "    </tr>\n",
       "    <tr>\n",
       "      <th>科学研究得分</th>\n",
       "      <td>0.942001</td>\n",
       "      <td>0.711259</td>\n",
       "      <td>0.929943</td>\n",
       "      <td>0.806259</td>\n",
       "      <td>1.000000</td>\n",
       "    </tr>\n",
       "  </tbody>\n",
       "</table>\n",
       "</div>"
      ],
      "text/plain": [
       "                 总分    办学层次得分    学科水平得分  师资规模与结构得分    科学研究得分\n",
       "总分         1.000000  0.793589  0.934838   0.829229  0.942001\n",
       "办学层次得分     0.793589  1.000000  0.703688   0.755698  0.711259\n",
       "学科水平得分     0.934838  0.703688  1.000000   0.778855  0.929943\n",
       "师资规模与结构得分  0.829229  0.755698  0.778855   1.000000  0.806259\n",
       "科学研究得分     0.942001  0.711259  0.929943   0.806259  1.000000"
      ]
     },
     "execution_count": 82,
     "metadata": {},
     "output_type": "execute_result"
    }
   ],
   "source": [
    "# 计算相关系数矩阵  \n",
    "correlation_matrix = df[['总分','办学层次得分','学科水平得分','师资规模与结构得分','科学研究得分']].corr()  \n",
    "  \n",
    "# 打印结果  \n",
    "correlation_matrix\n",
    "# print(correlation_matrix)\n",
    "# 测试结果未出"
   ]
  },
  {
   "cell_type": "markdown",
   "id": "4446efe8",
   "metadata": {},
   "source": [
    "### 14 - 相关系数｜热力图"
   ]
  },
  {
   "cell_type": "code",
   "execution_count": 8,
   "id": "3201fee9",
   "metadata": {},
   "outputs": [
    {
     "data": {
      "text/plain": [
       "Text(48.26909722222221, 0.5, 'Variables')"
      ]
     },
     "execution_count": 8,
     "metadata": {},
     "output_type": "execute_result"
    },
    {
     "data": {
      "image/png": "[encoded data removed]",
      "text/plain": [
       "<Figure size 640x480 with 2 Axes>"
      ]
     },
     "metadata": {},
     "output_type": "display_data"
    }
   ],
   "source": [
    "import matplotlib.pyplot as plt  \n",
    "import seaborn as sns  \n",
    "plt.rcParams['font.family'] = ['SimHei']  # 黑体字体  \n",
    "plt.rcParams['font.size'] = 12  # 字体大小\n",
    "correlation_matrix = df[['总分','办学层次得分','学科水平得分','师资规模与结构得分','科学研究得分']].corr()  \n",
    "\n",
    "# 绘制热力图  \n",
    "sns.heatmap(correlation_matrix, annot=True, cmap=\"coolwarm\")  \n",
    "  \n",
    "# 添加标题和标签  \n",
    "plt.title(\"Correlation Heatmap\")  \n",
    "plt.xlabel(\"Variables\")  \n",
    "plt.ylabel(\"Variables\")  \n",
    "  \n",
    "# 显示图像  \n",
    "# plt.show()"
   ]
  },
  {
   "cell_type": "markdown",
   "id": "6dd61c77",
   "metadata": {},
   "source": [
    "### 15 - 统计信息｜频率"
   ]
  },
  {
   "cell_type": "code",
   "execution_count": 34,
   "id": "bd19ade5",
   "metadata": {},
   "outputs": [],
   "source": [
    "# 计算各省市出现的次数\n",
    "count=df['省市'].value_counts()\n",
    "# count[:2]"
   ]
  },
  {
   "cell_type": "markdown",
   "id": "e2007cbc",
   "metadata": {},
   "source": [
    "### 16 - 统计信息｜热力地图"
   ]
  },
  {
   "cell_type": "code",
   "execution_count": 62,
   "id": "0ab49d68",
   "metadata": {},
   "outputs": [
    {
     "data": {
      "text/plain": [
       "'F:\\\\jupyterfiles\\\\OApractice\\\\data4\\\\college_ranking_heatmap.html'"
      ]
     },
     "execution_count": 62,
     "metadata": {},
     "output_type": "execute_result"
    }
   ],
   "source": [
    "from pyecharts import options as opts  \n",
    "from pyecharts.charts import Map  \n",
    "\n",
    "# 设置地图的基本属性  \n",
    "map_chart = Map()  \n",
    "map_chart.set_global_opts(  \n",
    "    title_opts=opts.TitleOpts(title=\"各省市高校上榜数量热力地图\"),  \n",
    "    visualmap_opts=opts.VisualMapOpts(max_=20, is_piecewise=True),  \n",
    ")\n",
    "# 添加数据  \n",
    "# data = [(\"北京市\", 20), (\"上海市\", 30), (\"河北省\", 10), (\"广东省\", 15), (\"湖南省\", 25)]  \n",
    "count=df['省市'].value_counts().to_frame().reset_index()\n",
    "count_list=[tuple(x) for x in count.values.tolist()][:10]\n",
    "# count_list=[tuple(x) for x in count.values.tolist()]\n",
    "map_chart.add(\"ww2\", count_list, maptype=\"china\")\n",
    "map_chart.render(\"college_ranking_heatmap.html\")\n",
    "#有点问题"
   ]
  },
  {
   "cell_type": "code",
   "execution_count": 63,
   "id": "f34578eb",
   "metadata": {},
   "outputs": [
    {
     "name": "stderr",
     "output_type": "stream",
     "text": [
      "D:\\python310\\lib\\site-packages\\IPython\\core\\pylabtools.py:152: UserWarning: Glyph 8722 (\\N{MINUS SIGN}) missing from current font.\n",
      "  fig.canvas.print_figure(bytes_io, **kw)\n"
     ]
    },
    {
     "data": {
      "image/png": "[encoded data removed]",
      "text/plain": [
       "<Figure size 640x480 with 1 Axes>"
      ]
     },
     "metadata": {},
     "output_type": "display_data"
    }
   ],
   "source": [
    "import matplotlib.pyplot as plt  \n",
    "import numpy as np  \n",
    "# 生成随机数据  \n",
    "data = np.random.normal(size=1000)    \n",
    "# 绘制直方图  \n",
    "plt.hist(data, bins=30)  \n",
    "# 设置图形标题和坐标轴标签  \n",
    "plt.title(\"Histogram of Random Data\")  \n",
    "plt.xlabel(\"Value\")  \n",
    "plt.ylabel(\"Frequency\")  \n",
    "# 显示图形  \n",
    "plt.show()"
   ]
  },
  {
   "cell_type": "markdown",
   "id": "dbf510de",
   "metadata": {},
   "source": [
    "### 18 - pandas_profiling"
   ]
  },
  {
   "cell_type": "code",
   "execution_count": 65,
   "id": "de0fb4bb",
   "metadata": {},
   "outputs": [],
   "source": [
    "# 在 pandas 之外，还有两个插件可以快速实现 EDA"
   ]
  },
  {
   "cell_type": "code",
   "execution_count": 69,
   "id": "5a59b775",
   "metadata": {},
   "outputs": [],
   "source": [
    "# import pandas_profiling\n",
    "import ydata_profiling"
   ]
  },
  {
   "cell_type": "code",
   "execution_count": 83,
   "id": "41b9d231",
   "metadata": {},
   "outputs": [
    {
     "ename": "ImportError",
     "evalue": "\n`load_boston` has been removed from scikit-learn since version 1.2.\n\nThe Boston housing prices dataset has an ethical problem: as\ninvestigated in [1], the authors of this dataset engineered a\nnon-invertible variable \"B\" assuming that racial self-segregation had a\npositive impact on house prices [2]. Furthermore the goal of the\nresearch that led to the creation of this dataset was to study the\nimpact of air quality but it did not give adequate demonstration of the\nvalidity of this assumption.\n\nThe scikit-learn maintainers therefore strongly discourage the use of\nthis dataset unless the purpose of the code is to study and educate\nabout ethical issues in data science and machine learning.\n\nIn this special case, you can fetch the dataset from the original\nsource::\n\n    import pandas as pd\n    import numpy as np\n\n    data_url = \"http://lib.stat.cmu.edu/datasets/boston\"\n    raw_df = pd.read_csv(data_url, sep=\"\\s+\", skiprows=22, header=None)\n    data = np.hstack([raw_df.values[::2, :], raw_df.values[1::2, :2]])\n    target = raw_df.values[1::2, 2]\n\nAlternative datasets include the California housing dataset and the\nAmes housing dataset. You can load the datasets as follows::\n\n    from sklearn.datasets import fetch_california_housing\n    housing = fetch_california_housing()\n\nfor the California housing dataset and::\n\n    from sklearn.datasets import fetch_openml\n    housing = fetch_openml(name=\"house_prices\", as_frame=True)\n\nfor the Ames housing dataset.\n\n[1] M Carlisle.\n\"Racist data destruction?\"\n<https://medium.com/@docintangible/racist-data-destruction-113e3eff54a8>\n\n[2] Harrison Jr, David, and Daniel L. Rubinfeld.\n\"Hedonic housing prices and the demand for clean air.\"\nJournal of environmental economics and management 5.1 (1978): 81-102.\n<https://www.researchgate.net/publication/4974606_Hedonic_housing_prices_and_the_demand_for_clean_air>\n",
     "output_type": "error",
     "traceback": [
      "\u001b[1;31m---------------------------------------------------------------------------\u001b[0m",
      "\u001b[1;31mImportError\u001b[0m                               Traceback (most recent call last)",
      "Cell \u001b[1;32mIn[83], line 7\u001b[0m\n\u001b[0;32m      4\u001b[0m \u001b[38;5;28;01mfrom\u001b[39;00m \u001b[38;5;21;01msklearn\u001b[39;00m\u001b[38;5;21;01m.\u001b[39;00m\u001b[38;5;21;01mmetrics\u001b[39;00m \u001b[38;5;28;01mimport\u001b[39;00m mean_squared_error  \n\u001b[0;32m      6\u001b[0m \u001b[38;5;66;03m# 加载数据集  \u001b[39;00m\n\u001b[1;32m----> 7\u001b[0m boston \u001b[38;5;241m=\u001b[39m \u001b[43mdatasets\u001b[49m\u001b[38;5;241;43m.\u001b[39;49m\u001b[43mload_boston\u001b[49m()  \n\u001b[0;32m      8\u001b[0m X \u001b[38;5;241m=\u001b[39m boston\u001b[38;5;241m.\u001b[39mdata  \n\u001b[0;32m      9\u001b[0m y \u001b[38;5;241m=\u001b[39m boston\u001b[38;5;241m.\u001b[39mtarget  \n",
      "File \u001b[1;32mD:\\python310\\lib\\site-packages\\sklearn\\datasets\\__init__.py:157\u001b[0m, in \u001b[0;36m__getattr__\u001b[1;34m(name)\u001b[0m\n\u001b[0;32m    108\u001b[0m \u001b[38;5;28;01mif\u001b[39;00m name \u001b[38;5;241m==\u001b[39m \u001b[38;5;124m\"\u001b[39m\u001b[38;5;124mload_boston\u001b[39m\u001b[38;5;124m\"\u001b[39m:\n\u001b[0;32m    109\u001b[0m     msg \u001b[38;5;241m=\u001b[39m textwrap\u001b[38;5;241m.\u001b[39mdedent(\u001b[38;5;124m\"\"\"\u001b[39m\n\u001b[0;32m    110\u001b[0m \u001b[38;5;124m        `load_boston` has been removed from scikit-learn since version 1.2.\u001b[39m\n\u001b[0;32m    111\u001b[0m \n\u001b[1;32m   (...)\u001b[0m\n\u001b[0;32m    155\u001b[0m \u001b[38;5;124m        <https://www.researchgate.net/publication/4974606_Hedonic_housing_prices_and_the_demand_for_clean_air>\u001b[39m\n\u001b[0;32m    156\u001b[0m \u001b[38;5;124m        \u001b[39m\u001b[38;5;124m\"\"\"\u001b[39m)\n\u001b[1;32m--> 157\u001b[0m     \u001b[38;5;28;01mraise\u001b[39;00m \u001b[38;5;167;01mImportError\u001b[39;00m(msg)\n\u001b[0;32m    158\u001b[0m \u001b[38;5;28;01mtry\u001b[39;00m:\n\u001b[0;32m    159\u001b[0m     \u001b[38;5;28;01mreturn\u001b[39;00m \u001b[38;5;28mglobals\u001b[39m()[name]\n",
      "\u001b[1;31mImportError\u001b[0m: \n`load_boston` has been removed from scikit-learn since version 1.2.\n\nThe Boston housing prices dataset has an ethical problem: as\ninvestigated in [1], the authors of this dataset engineered a\nnon-invertible variable \"B\" assuming that racial self-segregation had a\npositive impact on house prices [2]. Furthermore the goal of the\nresearch that led to the creation of this dataset was to study the\nimpact of air quality but it did not give adequate demonstration of the\nvalidity of this assumption.\n\nThe scikit-learn maintainers therefore strongly discourage the use of\nthis dataset unless the purpose of the code is to study and educate\nabout ethical issues in data science and machine learning.\n\nIn this special case, you can fetch the dataset from the original\nsource::\n\n    import pandas as pd\n    import numpy as np\n\n    data_url = \"http://lib.stat.cmu.edu/datasets/boston\"\n    raw_df = pd.read_csv(data_url, sep=\"\\s+\", skiprows=22, header=None)\n    data = np.hstack([raw_df.values[::2, :], raw_df.values[1::2, :2]])\n    target = raw_df.values[1::2, 2]\n\nAlternative datasets include the California housing dataset and the\nAmes housing dataset. You can load the datasets as follows::\n\n    from sklearn.datasets import fetch_california_housing\n    housing = fetch_california_housing()\n\nfor the California housing dataset and::\n\n    from sklearn.datasets import fetch_openml\n    housing = fetch_openml(name=\"house_prices\", as_frame=True)\n\nfor the Ames housing dataset.\n\n[1] M Carlisle.\n\"Racist data destruction?\"\n<https://medium.com/@docintangible/racist-data-destruction-113e3eff54a8>\n\n[2] Harrison Jr, David, and Daniel L. Rubinfeld.\n\"Hedonic housing prices and the demand for clean air.\"\nJournal of environmental economics and management 5.1 (1978): 81-102.\n<https://www.researchgate.net/publication/4974606_Hedonic_housing_prices_and_the_demand_for_clean_air>\n"
     ]
    }
   ],
   "source": [
    "from sklearn import datasets, preprocessing  \n",
    "from sklearn.model_selection import train_test_split  \n",
    "from sklearn.linear_model import LinearRegression  \n",
    "from sklearn.metrics import mean_squared_error  \n",
    "  \n",
    "# 加载数据集  \n",
    "boston = datasets.load_boston()  \n",
    "X = boston.data  \n",
    "y = boston.target  \n",
    "  \n",
    "# 将数据集拆分为训练集和测试集  \n",
    "X_train, X_test, y_train, y_test = train_test_split(X, y, test_size=0.2, random_state=42)  \n",
    "  \n",
    "# 创建线性回归模型并拟合训练数据  \n",
    "model = LinearRegression()  \n",
    "model.fit(X_train, y_train)  \n",
    "  \n",
    "# 在测试集上进行预测并计算均方误差  \n",
    "y_pred = model.predict(X_test)  \n",
    "mse = mean_squared_error(y_test, y_pred)  \n",
    "print(\"Mean squared error: %.2f\" % mse)"
   ]
  },
  {
   "cell_type": "markdown",
   "id": "5b5e51e7",
   "metadata": {},
   "source": [
    "### 19 - sweetviz"
   ]
  },
  {
   "cell_type": "code",
   "execution_count": 86,
   "id": "558c950c",
   "metadata": {},
   "outputs": [
    {
     "data": {
      "image/png": "[encoded data removed]",
      "text/plain": [
       "<Figure size 640x480 with 1 Axes>"
      ]
     },
     "metadata": {},
     "output_type": "display_data"
    }
   ],
   "source": [
    "import matplotlib.pyplot as plt  \n",
    "  \n",
    "# 创建数据  \n",
    "data = [  \n",
    "    {\"label\": \"A\", \"value\": 20},  \n",
    "    {\"label\": \"B\", \"value\": 30},  \n",
    "    {\"label\": \"C\", \"value\": 40},  \n",
    "    {\"label\": \"D\", \"value\": 50},  \n",
    "    {\"label\": \"E\", \"value\": 60}  \n",
    "]  \n",
    "  \n",
    "# 创建柱状图  \n",
    "labels = [item['label'] for item in data]  \n",
    "values = [item['value'] for item in data]  \n",
    "plt.bar(labels, values)  \n",
    "  \n",
    "# 显示图表  \n",
    "plt.show()"
   ]
  },
  {
   "cell_type": "markdown",
   "id": "2692a03f",
   "metadata": {},
   "source": [
    "## 5 - 数据筛选与修改"
   ]
  },
  {
   "cell_type": "code",
   "execution_count": null,
   "id": "6b879b2b",
   "metadata": {},
   "outputs": [],
   "source": [
    "# 现在，终于来到 pandas 数据分析中最高频的操作，没有之一————数据的增删改查\n",
    "\n",
    "# 在后面的分组、聚合、透视、可视化等多个操作中，数据的筛选、修改操作也会不断出现。\n",
    "\n",
    "# 因此在本章节，我整理了 40 余个常用操作\n",
    "\n",
    "# 以习题的形式，带大家回顾利用 pandas 进行数据的增删改查。"
   ]
  },
  {
   "cell_type": "code",
   "execution_count": 8,
   "id": "61c861a8",
   "metadata": {},
   "outputs": [
    {
     "name": "stdout",
     "output_type": "stream",
     "text": [
      "***************正在初始化***************\n",
      "*************读取到配置文件*************\n",
      "***************初始化成功***************\n"
     ]
    }
   ],
   "source": [
    "import sys\n",
    "import os\n",
    "import pandas as pd\n",
    "os.chdir('../data5')\n",
    "from inits import initialize,ans\n",
    "res = initialize(\"answer-5.txt\")"
   ]
  },
  {
   "cell_type": "markdown",
   "id": "79d0ef0b",
   "metadata": {},
   "source": [
    "### 加载数据"
   ]
  },
  {
   "cell_type": "code",
   "execution_count": 26,
   "id": "c683d744",
   "metadata": {},
   "outputs": [],
   "source": [
    "import pandas as pd\n",
    "\n",
    "df = pd.read_csv(\"东京奥运会奖牌数据.csv\") "
   ]
  },
  {
   "cell_type": "code",
   "execution_count": 54,
   "id": "1979b2b2",
   "metadata": {},
   "outputs": [
    {
     "data": {
      "text/html": [
       "<div>\n",
       "<style scoped>\n",
       "    .dataframe tbody tr th:only-of-type {\n",
       "        vertical-align: middle;\n",
       "    }\n",
       "\n",
       "    .dataframe tbody tr th {\n",
       "        vertical-align: top;\n",
       "    }\n",
       "\n",
       "    .dataframe thead th {\n",
       "        text-align: right;\n",
       "    }\n",
       "</style>\n",
       "<table border=\"1\" class=\"dataframe\">\n",
       "  <thead>\n",
       "    <tr style=\"text-align: right;\">\n",
       "      <th></th>\n",
       "      <th>排名</th>\n",
       "      <th>备注3</th>\n",
       "      <th>国家奥委会</th>\n",
       "      <th>金牌数</th>\n",
       "      <th>银牌数</th>\n",
       "      <th>铜牌数</th>\n",
       "      <th>总分</th>\n",
       "      <th>按总数排名</th>\n",
       "      <th>国家奥委会代码</th>\n",
       "      <th>金银牌总数</th>\n",
       "    </tr>\n",
       "    <tr>\n",
       "      <th>金牌排名</th>\n",
       "      <th></th>\n",
       "      <th></th>\n",
       "      <th></th>\n",
       "      <th></th>\n",
       "      <th></th>\n",
       "      <th></th>\n",
       "      <th></th>\n",
       "      <th></th>\n",
       "      <th></th>\n",
       "      <th></th>\n",
       "    </tr>\n",
       "  </thead>\n",
       "  <tbody>\n",
       "    <tr>\n",
       "      <th>0</th>\n",
       "      <td>1</td>\n",
       "      <td>需要时填写</td>\n",
       "      <td>美国</td>\n",
       "      <td>39</td>\n",
       "      <td>41.0</td>\n",
       "      <td>33.0</td>\n",
       "      <td>113</td>\n",
       "      <td>1</td>\n",
       "      <td>USA</td>\n",
       "      <td>80.0</td>\n",
       "    </tr>\n",
       "    <tr>\n",
       "      <th>1</th>\n",
       "      <td>2</td>\n",
       "      <td>需要时填写</td>\n",
       "      <td>中国</td>\n",
       "      <td>38</td>\n",
       "      <td>32.0</td>\n",
       "      <td>18.0</td>\n",
       "      <td>88</td>\n",
       "      <td>2</td>\n",
       "      <td>CHN</td>\n",
       "      <td>70.0</td>\n",
       "    </tr>\n",
       "    <tr>\n",
       "      <th>2</th>\n",
       "      <td>3</td>\n",
       "      <td>需要时填写</td>\n",
       "      <td>日本</td>\n",
       "      <td>27</td>\n",
       "      <td>14.0</td>\n",
       "      <td>17.0</td>\n",
       "      <td>58</td>\n",
       "      <td>5</td>\n",
       "      <td>JPN</td>\n",
       "      <td>41.0</td>\n",
       "    </tr>\n",
       "    <tr>\n",
       "      <th>3</th>\n",
       "      <td>4</td>\n",
       "      <td>需要时填写</td>\n",
       "      <td>英国</td>\n",
       "      <td>22</td>\n",
       "      <td>21.0</td>\n",
       "      <td>22.0</td>\n",
       "      <td>65</td>\n",
       "      <td>4</td>\n",
       "      <td>GBR</td>\n",
       "      <td>43.0</td>\n",
       "    </tr>\n",
       "    <tr>\n",
       "      <th>4</th>\n",
       "      <td>5</td>\n",
       "      <td>需要时填写</td>\n",
       "      <td>俄奥委会</td>\n",
       "      <td>20</td>\n",
       "      <td>28.0</td>\n",
       "      <td>23.0</td>\n",
       "      <td>71</td>\n",
       "      <td>3</td>\n",
       "      <td>ROC</td>\n",
       "      <td>48.0</td>\n",
       "    </tr>\n",
       "    <tr>\n",
       "      <th>5</th>\n",
       "      <td>6</td>\n",
       "      <td>需要时填写</td>\n",
       "      <td>澳大利亚</td>\n",
       "      <td>17</td>\n",
       "      <td>7.0</td>\n",
       "      <td>22.0</td>\n",
       "      <td>46</td>\n",
       "      <td>6</td>\n",
       "      <td>AUS</td>\n",
       "      <td>24.0</td>\n",
       "    </tr>\n",
       "    <tr>\n",
       "      <th>6</th>\n",
       "      <td>7</td>\n",
       "      <td>需要时填写</td>\n",
       "      <td>荷兰</td>\n",
       "      <td>10</td>\n",
       "      <td>12.0</td>\n",
       "      <td>14.0</td>\n",
       "      <td>36</td>\n",
       "      <td>9</td>\n",
       "      <td>NED</td>\n",
       "      <td>22.0</td>\n",
       "    </tr>\n",
       "    <tr>\n",
       "      <th>7</th>\n",
       "      <td>8</td>\n",
       "      <td>需要时填写</td>\n",
       "      <td>法国</td>\n",
       "      <td>10</td>\n",
       "      <td>12.0</td>\n",
       "      <td>11.0</td>\n",
       "      <td>33</td>\n",
       "      <td>10</td>\n",
       "      <td>FRA</td>\n",
       "      <td>22.0</td>\n",
       "    </tr>\n",
       "    <tr>\n",
       "      <th>8</th>\n",
       "      <td>9</td>\n",
       "      <td>需要时填写</td>\n",
       "      <td>德国</td>\n",
       "      <td>10</td>\n",
       "      <td>11.0</td>\n",
       "      <td>16.0</td>\n",
       "      <td>37</td>\n",
       "      <td>8</td>\n",
       "      <td>GER</td>\n",
       "      <td>21.0</td>\n",
       "    </tr>\n",
       "    <tr>\n",
       "      <th>9</th>\n",
       "      <td>10</td>\n",
       "      <td>需要时填写</td>\n",
       "      <td>意大利</td>\n",
       "      <td>10</td>\n",
       "      <td>10.0</td>\n",
       "      <td>20.0</td>\n",
       "      <td>40</td>\n",
       "      <td>7</td>\n",
       "      <td>ITA</td>\n",
       "      <td>20.0</td>\n",
       "    </tr>\n",
       "  </tbody>\n",
       "</table>\n",
       "</div>"
      ],
      "text/plain": [
       "      排名    备注3 国家奥委会 金牌数   银牌数   铜牌数   总分  按总数排名 国家奥委会代码 金银牌总数\n",
       "金牌排名                                                           \n",
       "0      1  需要时填写    美国  39  41.0  33.0  113      1     USA  80.0\n",
       "1      2  需要时填写    中国  38  32.0  18.0   88      2     CHN  70.0\n",
       "2      3  需要时填写    日本  27  14.0  17.0   58      5     JPN  41.0\n",
       "3      4  需要时填写    英国  22  21.0  22.0   65      4     GBR  43.0\n",
       "4      5  需要时填写  俄奥委会  20  28.0  23.0   71      3     ROC  48.0\n",
       "5      6  需要时填写  澳大利亚  17   7.0  22.0   46      6     AUS  24.0\n",
       "6      7  需要时填写    荷兰  10  12.0  14.0   36      9     NED  22.0\n",
       "7      8  需要时填写    法国  10  12.0  11.0   33     10     FRA  22.0\n",
       "8      9  需要时填写    德国  10  11.0  16.0   37      8     GER  21.0\n",
       "9     10  需要时填写   意大利  10  10.0  20.0   40      7     ITA  20.0"
      ]
     },
     "execution_count": 54,
     "metadata": {},
     "output_type": "execute_result"
    }
   ],
   "source": [
    "df.head(10)"
   ]
  },
  {
   "cell_type": "markdown",
   "id": "07d4dc42",
   "metadata": {},
   "source": [
    "## 5-1 数据修改"
   ]
  },
  {
   "cell_type": "markdown",
   "id": "439ad721",
   "metadata": {},
   "source": [
    "### 1- 数据修改｜列名"
   ]
  },
  {
   "cell_type": "code",
   "execution_count": 28,
   "id": "e07e2f66",
   "metadata": {},
   "outputs": [],
   "source": [
    "df=df.rename(columns={'Unnamed: 2':'金牌数','Unnamed: 3':'银牌数','Unnamed: 4':'铜牌数'})"
   ]
  },
  {
   "cell_type": "markdown",
   "id": "d6bb6918",
   "metadata": {},
   "source": [
    "## 2 - 数据修改｜行索引"
   ]
  },
  {
   "cell_type": "code",
   "execution_count": 55,
   "id": "70e7351f",
   "metadata": {},
   "outputs": [
    {
     "data": {
      "text/html": [
       "<div>\n",
       "<style scoped>\n",
       "    .dataframe tbody tr th:only-of-type {\n",
       "        vertical-align: middle;\n",
       "    }\n",
       "\n",
       "    .dataframe tbody tr th {\n",
       "        vertical-align: top;\n",
       "    }\n",
       "\n",
       "    .dataframe thead th {\n",
       "        text-align: right;\n",
       "    }\n",
       "</style>\n",
       "<table border=\"1\" class=\"dataframe\">\n",
       "  <thead>\n",
       "    <tr style=\"text-align: right;\">\n",
       "      <th></th>\n",
       "      <th>备注3</th>\n",
       "      <th>国家奥委会</th>\n",
       "      <th>金牌数</th>\n",
       "      <th>银牌数</th>\n",
       "      <th>铜牌数</th>\n",
       "      <th>总分</th>\n",
       "      <th>按总数排名</th>\n",
       "      <th>国家奥委会代码</th>\n",
       "      <th>金银牌总数</th>\n",
       "    </tr>\n",
       "    <tr>\n",
       "      <th>排名</th>\n",
       "      <th></th>\n",
       "      <th></th>\n",
       "      <th></th>\n",
       "      <th></th>\n",
       "      <th></th>\n",
       "      <th></th>\n",
       "      <th></th>\n",
       "      <th></th>\n",
       "      <th></th>\n",
       "    </tr>\n",
       "  </thead>\n",
       "  <tbody>\n",
       "    <tr>\n",
       "      <th>1</th>\n",
       "      <td>需要时填写</td>\n",
       "      <td>美国</td>\n",
       "      <td>39</td>\n",
       "      <td>41.0</td>\n",
       "      <td>33.0</td>\n",
       "      <td>113</td>\n",
       "      <td>1</td>\n",
       "      <td>USA</td>\n",
       "      <td>80.0</td>\n",
       "    </tr>\n",
       "    <tr>\n",
       "      <th>2</th>\n",
       "      <td>需要时填写</td>\n",
       "      <td>中国</td>\n",
       "      <td>38</td>\n",
       "      <td>32.0</td>\n",
       "      <td>18.0</td>\n",
       "      <td>88</td>\n",
       "      <td>2</td>\n",
       "      <td>CHN</td>\n",
       "      <td>70.0</td>\n",
       "    </tr>\n",
       "    <tr>\n",
       "      <th>3</th>\n",
       "      <td>需要时填写</td>\n",
       "      <td>日本</td>\n",
       "      <td>27</td>\n",
       "      <td>14.0</td>\n",
       "      <td>17.0</td>\n",
       "      <td>58</td>\n",
       "      <td>5</td>\n",
       "      <td>JPN</td>\n",
       "      <td>41.0</td>\n",
       "    </tr>\n",
       "    <tr>\n",
       "      <th>4</th>\n",
       "      <td>需要时填写</td>\n",
       "      <td>英国</td>\n",
       "      <td>22</td>\n",
       "      <td>21.0</td>\n",
       "      <td>22.0</td>\n",
       "      <td>65</td>\n",
       "      <td>4</td>\n",
       "      <td>GBR</td>\n",
       "      <td>43.0</td>\n",
       "    </tr>\n",
       "    <tr>\n",
       "      <th>5</th>\n",
       "      <td>需要时填写</td>\n",
       "      <td>俄奥委会</td>\n",
       "      <td>20</td>\n",
       "      <td>28.0</td>\n",
       "      <td>23.0</td>\n",
       "      <td>71</td>\n",
       "      <td>3</td>\n",
       "      <td>ROC</td>\n",
       "      <td>48.0</td>\n",
       "    </tr>\n",
       "    <tr>\n",
       "      <th>...</th>\n",
       "      <td>...</td>\n",
       "      <td>...</td>\n",
       "      <td>...</td>\n",
       "      <td>...</td>\n",
       "      <td>...</td>\n",
       "      <td>...</td>\n",
       "      <td>...</td>\n",
       "      <td>...</td>\n",
       "      <td>...</td>\n",
       "    </tr>\n",
       "    <tr>\n",
       "      <th>86</th>\n",
       "      <td>需要时填写</td>\n",
       "      <td>加纳</td>\n",
       "      <td>&lt;NA&gt;</td>\n",
       "      <td>NaN</td>\n",
       "      <td>1.0</td>\n",
       "      <td>1</td>\n",
       "      <td>77</td>\n",
       "      <td>GHA</td>\n",
       "      <td>&lt;NA&gt;</td>\n",
       "    </tr>\n",
       "    <tr>\n",
       "      <th>86</th>\n",
       "      <td>需要时填写</td>\n",
       "      <td>格林纳达</td>\n",
       "      <td>&lt;NA&gt;</td>\n",
       "      <td>NaN</td>\n",
       "      <td>1.0</td>\n",
       "      <td>1</td>\n",
       "      <td>77</td>\n",
       "      <td>GRN</td>\n",
       "      <td>&lt;NA&gt;</td>\n",
       "    </tr>\n",
       "    <tr>\n",
       "      <th>86</th>\n",
       "      <td>需要时填写</td>\n",
       "      <td>科威特</td>\n",
       "      <td>&lt;NA&gt;</td>\n",
       "      <td>NaN</td>\n",
       "      <td>1.0</td>\n",
       "      <td>1</td>\n",
       "      <td>77</td>\n",
       "      <td>KUW</td>\n",
       "      <td>&lt;NA&gt;</td>\n",
       "    </tr>\n",
       "    <tr>\n",
       "      <th>86</th>\n",
       "      <td>需要时填写</td>\n",
       "      <td>摩尔多瓦</td>\n",
       "      <td>&lt;NA&gt;</td>\n",
       "      <td>NaN</td>\n",
       "      <td>1.0</td>\n",
       "      <td>1</td>\n",
       "      <td>77</td>\n",
       "      <td>MDA</td>\n",
       "      <td>&lt;NA&gt;</td>\n",
       "    </tr>\n",
       "    <tr>\n",
       "      <th>86</th>\n",
       "      <td>需要时填写</td>\n",
       "      <td>叙利亚</td>\n",
       "      <td>&lt;NA&gt;</td>\n",
       "      <td>NaN</td>\n",
       "      <td>1.0</td>\n",
       "      <td>1</td>\n",
       "      <td>77</td>\n",
       "      <td>SYR</td>\n",
       "      <td>&lt;NA&gt;</td>\n",
       "    </tr>\n",
       "  </tbody>\n",
       "</table>\n",
       "<p>93 rows × 9 columns</p>\n",
       "</div>"
      ],
      "text/plain": [
       "      备注3 国家奥委会   金牌数   银牌数   铜牌数   总分  按总数排名 国家奥委会代码 金银牌总数\n",
       "排名                                                         \n",
       "1   需要时填写    美国    39  41.0  33.0  113      1     USA  80.0\n",
       "2   需要时填写    中国    38  32.0  18.0   88      2     CHN  70.0\n",
       "3   需要时填写    日本    27  14.0  17.0   58      5     JPN  41.0\n",
       "4   需要时填写    英国    22  21.0  22.0   65      4     GBR  43.0\n",
       "5   需要时填写  俄奥委会    20  28.0  23.0   71      3     ROC  48.0\n",
       "..    ...   ...   ...   ...   ...  ...    ...     ...   ...\n",
       "86  需要时填写    加纳  <NA>   NaN   1.0    1     77     GHA  <NA>\n",
       "86  需要时填写  格林纳达  <NA>   NaN   1.0    1     77     GRN  <NA>\n",
       "86  需要时填写   科威特  <NA>   NaN   1.0    1     77     KUW  <NA>\n",
       "86  需要时填写  摩尔多瓦  <NA>   NaN   1.0    1     77     MDA  <NA>\n",
       "86  需要时填写   叙利亚  <NA>   NaN   1.0    1     77     SYR  <NA>\n",
       "\n",
       "[93 rows x 9 columns]"
      ]
     },
     "execution_count": 55,
     "metadata": {},
     "output_type": "execute_result"
    }
   ],
   "source": [
    "# 将第一列（排名）设置为索引\n",
    "df.set_index(['排名'])\n",
    "# df.set_index(0)\n",
    "# df.reset_index(inplace=True)\n",
    "\n",
    "# df= df.rename(index={'': '索引'},inplace=True)\n",
    "\n",
    "\n"
   ]
  },
  {
   "cell_type": "markdown",
   "id": "802753ef",
   "metadata": {},
   "source": [
    "### 3 - 数据修改｜修改索引名"
   ]
  },
  {
   "cell_type": "code",
   "execution_count": 29,
   "id": "78116210",
   "metadata": {},
   "outputs": [],
   "source": [
    "# 修改索引名为“金牌排名”  \n",
    "df.index.name = '金牌排名'  "
   ]
  },
  {
   "cell_type": "markdown",
   "id": "7b2ca2f8",
   "metadata": {},
   "source": [
    "### 4 - 数据修改｜修改值"
   ]
  },
  {
   "cell_type": "code",
   "execution_count": 30,
   "id": "3c254b53",
   "metadata": {},
   "outputs": [],
   "source": [
    "# 将 ROC（第一列第五行）修改为 俄奥委会\n",
    "df.iloc[4,1]='俄奥委会'\n",
    "# print(df.iloc[4,1])"
   ]
  },
  {
   "cell_type": "markdown",
   "id": "eb235780",
   "metadata": {},
   "source": [
    "### 5 - 数据修改｜替换值（单值）"
   ]
  },
  {
   "cell_type": "code",
   "execution_count": 31,
   "id": "21b0c9f4",
   "metadata": {},
   "outputs": [],
   "source": [
    "# 将金牌数列中的数字 0 替换为无  \n",
    "df['金牌数'] = df['金牌数'].replace(0, '无') "
   ]
  },
  {
   "cell_type": "markdown",
   "id": "ff3cd1b7",
   "metadata": {},
   "source": [
    "### 6 - <font color = '#FB8E00'>数据修改</font>｜替换值（多值）"
   ]
  },
  {
   "cell_type": "code",
   "execution_count": 36,
   "id": "d44155c7",
   "metadata": {},
   "outputs": [],
   "source": [
    "# 同时替换将 无 替换为 缺失值,将 0 替换为 None .\n",
    "# df['金牌数'] = df['金牌数'].replace({'无': pd.NA, 0: None})\n",
    "df = df.replace({'无': pd.NA, 0: None})"
   ]
  },
  {
   "cell_type": "markdown",
   "id": "fbe2ed18",
   "metadata": {},
   "source": [
    "### 7 - 数据查看"
   ]
  },
  {
   "cell_type": "code",
   "execution_count": 56,
   "id": "acd352e6",
   "metadata": {},
   "outputs": [
    {
     "data": {
      "text/plain": [
       "排名           int64\n",
       "备注3         object\n",
       "国家奥委会       object\n",
       "金牌数         object\n",
       "银牌数        float64\n",
       "铜牌数        float64\n",
       "总分           int64\n",
       "按总数排名        int64\n",
       "国家奥委会代码     object\n",
       "金银牌总数       object\n",
       "dtype: object"
      ]
     },
     "execution_count": 56,
     "metadata": {},
     "output_type": "execute_result"
    }
   ],
   "source": [
    "# 查看各列数据类型\n",
    "# df.info()\n",
    "df.dtypes"
   ]
  },
  {
   "cell_type": "markdown",
   "id": "13baed18",
   "metadata": {},
   "source": [
    "### 8 - 数据修改｜修改类型"
   ]
  },
  {
   "cell_type": "code",
   "execution_count": 61,
   "id": "17d4ef1d",
   "metadata": {},
   "outputs": [],
   "source": [
    "# df['金牌数'].isnull()"
   ]
  },
  {
   "cell_type": "code",
   "execution_count": 62,
   "id": "f0a32fc1",
   "metadata": {},
   "outputs": [
    {
     "ename": "TypeError",
     "evalue": "int() argument must be a string, a bytes-like object or a real number, not 'NAType'",
     "output_type": "error",
     "traceback": [
      "\u001b[1;31m---------------------------------------------------------------------------\u001b[0m",
      "\u001b[1;31mTypeError\u001b[0m                                 Traceback (most recent call last)",
      "Cell \u001b[1;32mIn[62], line 4\u001b[0m\n\u001b[0;32m      1\u001b[0m \u001b[38;5;66;03m# 将金牌数列的类型修改为 int \u001b[39;00m\n\u001b[0;32m      2\u001b[0m \u001b[38;5;66;03m# df['金牌数'] = df['金牌数'].replace('None', 0)\u001b[39;00m\n\u001b[0;32m      3\u001b[0m df[\u001b[38;5;124m'\u001b[39m\u001b[38;5;124m金牌数\u001b[39m\u001b[38;5;124m'\u001b[39m] \u001b[38;5;241m=\u001b[39m df[\u001b[38;5;124m'\u001b[39m\u001b[38;5;124m金牌数\u001b[39m\u001b[38;5;124m'\u001b[39m]\u001b[38;5;241m.\u001b[39mreplace(\u001b[38;5;124m'\u001b[39m\u001b[38;5;124m<NA>\u001b[39m\u001b[38;5;124m'\u001b[39m, \u001b[38;5;124m'\u001b[39m\u001b[38;5;124m0\u001b[39m\u001b[38;5;124m'\u001b[39m)\n\u001b[1;32m----> 4\u001b[0m df[\u001b[38;5;124m'\u001b[39m\u001b[38;5;124m金牌数\u001b[39m\u001b[38;5;124m'\u001b[39m] \u001b[38;5;241m=\u001b[39m \u001b[43mdf\u001b[49m\u001b[43m[\u001b[49m\u001b[38;5;124;43m'\u001b[39;49m\u001b[38;5;124;43m金牌数\u001b[39;49m\u001b[38;5;124;43m'\u001b[39;49m\u001b[43m]\u001b[49m\u001b[38;5;241;43m.\u001b[39;49m\u001b[43mastype\u001b[49m\u001b[43m(\u001b[49m\u001b[38;5;28;43mint\u001b[39;49m\u001b[43m)\u001b[49m \n",
      "File \u001b[1;32mD:\\python310\\lib\\site-packages\\pandas\\core\\generic.py:6324\u001b[0m, in \u001b[0;36mNDFrame.astype\u001b[1;34m(self, dtype, copy, errors)\u001b[0m\n\u001b[0;32m   6317\u001b[0m     results \u001b[38;5;241m=\u001b[39m [\n\u001b[0;32m   6318\u001b[0m         \u001b[38;5;28mself\u001b[39m\u001b[38;5;241m.\u001b[39miloc[:, i]\u001b[38;5;241m.\u001b[39mastype(dtype, copy\u001b[38;5;241m=\u001b[39mcopy)\n\u001b[0;32m   6319\u001b[0m         \u001b[38;5;28;01mfor\u001b[39;00m i \u001b[38;5;129;01min\u001b[39;00m \u001b[38;5;28mrange\u001b[39m(\u001b[38;5;28mlen\u001b[39m(\u001b[38;5;28mself\u001b[39m\u001b[38;5;241m.\u001b[39mcolumns))\n\u001b[0;32m   6320\u001b[0m     ]\n\u001b[0;32m   6322\u001b[0m \u001b[38;5;28;01melse\u001b[39;00m:\n\u001b[0;32m   6323\u001b[0m     \u001b[38;5;66;03m# else, only a single dtype is given\u001b[39;00m\n\u001b[1;32m-> 6324\u001b[0m     new_data \u001b[38;5;241m=\u001b[39m \u001b[38;5;28;43mself\u001b[39;49m\u001b[38;5;241;43m.\u001b[39;49m\u001b[43m_mgr\u001b[49m\u001b[38;5;241;43m.\u001b[39;49m\u001b[43mastype\u001b[49m\u001b[43m(\u001b[49m\u001b[43mdtype\u001b[49m\u001b[38;5;241;43m=\u001b[39;49m\u001b[43mdtype\u001b[49m\u001b[43m,\u001b[49m\u001b[43m \u001b[49m\u001b[43mcopy\u001b[49m\u001b[38;5;241;43m=\u001b[39;49m\u001b[43mcopy\u001b[49m\u001b[43m,\u001b[49m\u001b[43m \u001b[49m\u001b[43merrors\u001b[49m\u001b[38;5;241;43m=\u001b[39;49m\u001b[43merrors\u001b[49m\u001b[43m)\u001b[49m\n\u001b[0;32m   6325\u001b[0m     \u001b[38;5;28;01mreturn\u001b[39;00m \u001b[38;5;28mself\u001b[39m\u001b[38;5;241m.\u001b[39m_constructor(new_data)\u001b[38;5;241m.\u001b[39m__finalize__(\u001b[38;5;28mself\u001b[39m, method\u001b[38;5;241m=\u001b[39m\u001b[38;5;124m\"\u001b[39m\u001b[38;5;124mastype\u001b[39m\u001b[38;5;124m\"\u001b[39m)\n\u001b[0;32m   6327\u001b[0m \u001b[38;5;66;03m# GH 33113: handle empty frame or series\u001b[39;00m\n",
      "File \u001b[1;32mD:\\python310\\lib\\site-packages\\pandas\\core\\internals\\managers.py:451\u001b[0m, in \u001b[0;36mBaseBlockManager.astype\u001b[1;34m(self, dtype, copy, errors)\u001b[0m\n\u001b[0;32m    448\u001b[0m \u001b[38;5;28;01melif\u001b[39;00m using_copy_on_write():\n\u001b[0;32m    449\u001b[0m     copy \u001b[38;5;241m=\u001b[39m \u001b[38;5;28;01mFalse\u001b[39;00m\n\u001b[1;32m--> 451\u001b[0m \u001b[38;5;28;01mreturn\u001b[39;00m \u001b[38;5;28;43mself\u001b[39;49m\u001b[38;5;241;43m.\u001b[39;49m\u001b[43mapply\u001b[49m\u001b[43m(\u001b[49m\n\u001b[0;32m    452\u001b[0m \u001b[43m    \u001b[49m\u001b[38;5;124;43m\"\u001b[39;49m\u001b[38;5;124;43mastype\u001b[39;49m\u001b[38;5;124;43m\"\u001b[39;49m\u001b[43m,\u001b[49m\n\u001b[0;32m    453\u001b[0m \u001b[43m    \u001b[49m\u001b[43mdtype\u001b[49m\u001b[38;5;241;43m=\u001b[39;49m\u001b[43mdtype\u001b[49m\u001b[43m,\u001b[49m\n\u001b[0;32m    454\u001b[0m \u001b[43m    \u001b[49m\u001b[43mcopy\u001b[49m\u001b[38;5;241;43m=\u001b[39;49m\u001b[43mcopy\u001b[49m\u001b[43m,\u001b[49m\n\u001b[0;32m    455\u001b[0m \u001b[43m    \u001b[49m\u001b[43merrors\u001b[49m\u001b[38;5;241;43m=\u001b[39;49m\u001b[43merrors\u001b[49m\u001b[43m,\u001b[49m\n\u001b[0;32m    456\u001b[0m \u001b[43m    \u001b[49m\u001b[43musing_cow\u001b[49m\u001b[38;5;241;43m=\u001b[39;49m\u001b[43musing_copy_on_write\u001b[49m\u001b[43m(\u001b[49m\u001b[43m)\u001b[49m\u001b[43m,\u001b[49m\n\u001b[0;32m    457\u001b[0m \u001b[43m\u001b[49m\u001b[43m)\u001b[49m\n",
      "File \u001b[1;32mD:\\python310\\lib\\site-packages\\pandas\\core\\internals\\managers.py:352\u001b[0m, in \u001b[0;36mBaseBlockManager.apply\u001b[1;34m(self, f, align_keys, **kwargs)\u001b[0m\n\u001b[0;32m    350\u001b[0m         applied \u001b[38;5;241m=\u001b[39m b\u001b[38;5;241m.\u001b[39mapply(f, \u001b[38;5;241m*\u001b[39m\u001b[38;5;241m*\u001b[39mkwargs)\n\u001b[0;32m    351\u001b[0m     \u001b[38;5;28;01melse\u001b[39;00m:\n\u001b[1;32m--> 352\u001b[0m         applied \u001b[38;5;241m=\u001b[39m \u001b[38;5;28mgetattr\u001b[39m(b, f)(\u001b[38;5;241m*\u001b[39m\u001b[38;5;241m*\u001b[39mkwargs)\n\u001b[0;32m    353\u001b[0m     result_blocks \u001b[38;5;241m=\u001b[39m extend_blocks(applied, result_blocks)\n\u001b[0;32m    355\u001b[0m out \u001b[38;5;241m=\u001b[39m \u001b[38;5;28mtype\u001b[39m(\u001b[38;5;28mself\u001b[39m)\u001b[38;5;241m.\u001b[39mfrom_blocks(result_blocks, \u001b[38;5;28mself\u001b[39m\u001b[38;5;241m.\u001b[39maxes)\n",
      "File \u001b[1;32mD:\\python310\\lib\\site-packages\\pandas\\core\\internals\\blocks.py:511\u001b[0m, in \u001b[0;36mBlock.astype\u001b[1;34m(self, dtype, copy, errors, using_cow)\u001b[0m\n\u001b[0;32m    491\u001b[0m \u001b[38;5;250m\u001b[39m\u001b[38;5;124;03m\"\"\"\u001b[39;00m\n\u001b[0;32m    492\u001b[0m \u001b[38;5;124;03mCoerce to the new dtype.\u001b[39;00m\n\u001b[0;32m    493\u001b[0m \n\u001b[1;32m   (...)\u001b[0m\n\u001b[0;32m    507\u001b[0m \u001b[38;5;124;03mBlock\u001b[39;00m\n\u001b[0;32m    508\u001b[0m \u001b[38;5;124;03m\"\"\"\u001b[39;00m\n\u001b[0;32m    509\u001b[0m values \u001b[38;5;241m=\u001b[39m \u001b[38;5;28mself\u001b[39m\u001b[38;5;241m.\u001b[39mvalues\n\u001b[1;32m--> 511\u001b[0m new_values \u001b[38;5;241m=\u001b[39m \u001b[43mastype_array_safe\u001b[49m\u001b[43m(\u001b[49m\u001b[43mvalues\u001b[49m\u001b[43m,\u001b[49m\u001b[43m \u001b[49m\u001b[43mdtype\u001b[49m\u001b[43m,\u001b[49m\u001b[43m \u001b[49m\u001b[43mcopy\u001b[49m\u001b[38;5;241;43m=\u001b[39;49m\u001b[43mcopy\u001b[49m\u001b[43m,\u001b[49m\u001b[43m \u001b[49m\u001b[43merrors\u001b[49m\u001b[38;5;241;43m=\u001b[39;49m\u001b[43merrors\u001b[49m\u001b[43m)\u001b[49m\n\u001b[0;32m    513\u001b[0m new_values \u001b[38;5;241m=\u001b[39m maybe_coerce_values(new_values)\n\u001b[0;32m    515\u001b[0m refs \u001b[38;5;241m=\u001b[39m \u001b[38;5;28;01mNone\u001b[39;00m\n",
      "File \u001b[1;32mD:\\python310\\lib\\site-packages\\pandas\\core\\dtypes\\astype.py:242\u001b[0m, in \u001b[0;36mastype_array_safe\u001b[1;34m(values, dtype, copy, errors)\u001b[0m\n\u001b[0;32m    239\u001b[0m     dtype \u001b[38;5;241m=\u001b[39m dtype\u001b[38;5;241m.\u001b[39mnumpy_dtype\n\u001b[0;32m    241\u001b[0m \u001b[38;5;28;01mtry\u001b[39;00m:\n\u001b[1;32m--> 242\u001b[0m     new_values \u001b[38;5;241m=\u001b[39m \u001b[43mastype_array\u001b[49m\u001b[43m(\u001b[49m\u001b[43mvalues\u001b[49m\u001b[43m,\u001b[49m\u001b[43m \u001b[49m\u001b[43mdtype\u001b[49m\u001b[43m,\u001b[49m\u001b[43m \u001b[49m\u001b[43mcopy\u001b[49m\u001b[38;5;241;43m=\u001b[39;49m\u001b[43mcopy\u001b[49m\u001b[43m)\u001b[49m\n\u001b[0;32m    243\u001b[0m \u001b[38;5;28;01mexcept\u001b[39;00m (\u001b[38;5;167;01mValueError\u001b[39;00m, \u001b[38;5;167;01mTypeError\u001b[39;00m):\n\u001b[0;32m    244\u001b[0m     \u001b[38;5;66;03m# e.g. _astype_nansafe can fail on object-dtype of strings\u001b[39;00m\n\u001b[0;32m    245\u001b[0m     \u001b[38;5;66;03m#  trying to convert to float\u001b[39;00m\n\u001b[0;32m    246\u001b[0m     \u001b[38;5;28;01mif\u001b[39;00m errors \u001b[38;5;241m==\u001b[39m \u001b[38;5;124m\"\u001b[39m\u001b[38;5;124mignore\u001b[39m\u001b[38;5;124m\"\u001b[39m:\n",
      "File \u001b[1;32mD:\\python310\\lib\\site-packages\\pandas\\core\\dtypes\\astype.py:187\u001b[0m, in \u001b[0;36mastype_array\u001b[1;34m(values, dtype, copy)\u001b[0m\n\u001b[0;32m    184\u001b[0m     values \u001b[38;5;241m=\u001b[39m values\u001b[38;5;241m.\u001b[39mastype(dtype, copy\u001b[38;5;241m=\u001b[39mcopy)\n\u001b[0;32m    186\u001b[0m \u001b[38;5;28;01melse\u001b[39;00m:\n\u001b[1;32m--> 187\u001b[0m     values \u001b[38;5;241m=\u001b[39m \u001b[43m_astype_nansafe\u001b[49m\u001b[43m(\u001b[49m\u001b[43mvalues\u001b[49m\u001b[43m,\u001b[49m\u001b[43m \u001b[49m\u001b[43mdtype\u001b[49m\u001b[43m,\u001b[49m\u001b[43m \u001b[49m\u001b[43mcopy\u001b[49m\u001b[38;5;241;43m=\u001b[39;49m\u001b[43mcopy\u001b[49m\u001b[43m)\u001b[49m\n\u001b[0;32m    189\u001b[0m \u001b[38;5;66;03m# in pandas we don't store numpy str dtypes, so convert to object\u001b[39;00m\n\u001b[0;32m    190\u001b[0m \u001b[38;5;28;01mif\u001b[39;00m \u001b[38;5;28misinstance\u001b[39m(dtype, np\u001b[38;5;241m.\u001b[39mdtype) \u001b[38;5;129;01mand\u001b[39;00m \u001b[38;5;28missubclass\u001b[39m(values\u001b[38;5;241m.\u001b[39mdtype\u001b[38;5;241m.\u001b[39mtype, \u001b[38;5;28mstr\u001b[39m):\n",
      "File \u001b[1;32mD:\\python310\\lib\\site-packages\\pandas\\core\\dtypes\\astype.py:138\u001b[0m, in \u001b[0;36m_astype_nansafe\u001b[1;34m(arr, dtype, copy, skipna)\u001b[0m\n\u001b[0;32m    134\u001b[0m     \u001b[38;5;28;01mraise\u001b[39;00m \u001b[38;5;167;01mValueError\u001b[39;00m(msg)\n\u001b[0;32m    136\u001b[0m \u001b[38;5;28;01mif\u001b[39;00m copy \u001b[38;5;129;01mor\u001b[39;00m is_object_dtype(arr\u001b[38;5;241m.\u001b[39mdtype) \u001b[38;5;129;01mor\u001b[39;00m is_object_dtype(dtype):\n\u001b[0;32m    137\u001b[0m     \u001b[38;5;66;03m# Explicit copy, or required since NumPy can't view from / to object.\u001b[39;00m\n\u001b[1;32m--> 138\u001b[0m     \u001b[38;5;28;01mreturn\u001b[39;00m \u001b[43marr\u001b[49m\u001b[38;5;241;43m.\u001b[39;49m\u001b[43mastype\u001b[49m\u001b[43m(\u001b[49m\u001b[43mdtype\u001b[49m\u001b[43m,\u001b[49m\u001b[43m \u001b[49m\u001b[43mcopy\u001b[49m\u001b[38;5;241;43m=\u001b[39;49m\u001b[38;5;28;43;01mTrue\u001b[39;49;00m\u001b[43m)\u001b[49m\n\u001b[0;32m    140\u001b[0m \u001b[38;5;28;01mreturn\u001b[39;00m arr\u001b[38;5;241m.\u001b[39mastype(dtype, copy\u001b[38;5;241m=\u001b[39mcopy)\n",
      "\u001b[1;31mTypeError\u001b[0m: int() argument must be a string, a bytes-like object or a real number, not 'NAType'"
     ]
    }
   ],
   "source": [
    "# 将金牌数列的类型修改为 int \n",
    "# df['金牌数'] = df['金牌数'].replace('None', 0)\n",
    "df['金牌数'] = df['金牌数'].replace('<NA>', '0')\n",
    "df['金牌数'] = df['金牌数'].astype(int) "
   ]
  },
  {
   "cell_type": "markdown",
   "id": "2c9b1e4f",
   "metadata": {},
   "source": [
    "### 9 - 数据增加｜新增列（固定值）"
   ]
  },
  {
   "cell_type": "code",
   "execution_count": 40,
   "id": "5e83b585",
   "metadata": {},
   "outputs": [
    {
     "name": "stdout",
     "output_type": "stream",
     "text": [
      "      排名    备注3 国家奥委会  金牌数   银牌数   铜牌数   总分  按总数排名 国家奥委会代码\n",
      "金牌排名                                                      \n",
      "0      1  需要时填写    美国   39  41.0  33.0  113      1     USA\n",
      "1      2  需要时填写    中国   38  32.0  18.0   88      2     CHN\n",
      "2      3  需要时填写    日本   27  14.0  17.0   58      5     JPN\n",
      "3      4  需要时填写    英国   22  21.0  22.0   65      4     GBR\n",
      "4      5  需要时填写  俄奥委会   20  28.0  23.0   71      3     ROC\n",
      "...   ..    ...   ...  ...   ...   ...  ...    ...     ...\n",
      "88    86  需要时填写    加纳  NaN   NaN   1.0    1     77     GHA\n",
      "89    86  需要时填写  格林纳达  NaN   NaN   1.0    1     77     GRN\n",
      "90    86  需要时填写   科威特  NaN   NaN   1.0    1     77     KUW\n",
      "91    86  需要时填写  摩尔多瓦  NaN   NaN   1.0    1     77     MDA\n",
      "92    86  需要时填写   叙利亚  NaN   NaN   1.0    1     77     SYR\n",
      "\n",
      "[93 rows x 9 columns]\n"
     ]
    }
   ],
   "source": [
    "# 添加一列固定值（例如，10）  \n",
    "# df['备注'] = '需要时填写'  \n",
    "df.insert(1, '备注3', '需要时填写') \n",
    "# 显示修改后的 DataFrame  \n",
    "print(df)"
   ]
  },
  {
   "cell_type": "markdown",
   "id": "7722531d",
   "metadata": {},
   "source": [
    "### 10 - 数据增加｜新增列（计算值）"
   ]
  },
  {
   "cell_type": "code",
   "execution_count": 41,
   "id": "398bc80f",
   "metadata": {},
   "outputs": [],
   "source": [
    "# 新增一列 金银牌总数列，值为该国家金银牌总数\n",
    "# 添加一列金银牌总数  \n",
    "df['金银牌总数'] = df.apply(lambda x: x['金牌数'] + x['银牌数'], axis=1) "
   ]
  },
  {
   "cell_type": "markdown",
   "id": "06c8bf64",
   "metadata": {},
   "source": [
    "### 11 -数据增加｜新增列（比较值"
   ]
  },
  {
   "cell_type": "code",
   "execution_count": 42,
   "id": "309e58f3",
   "metadata": {},
   "outputs": [
    {
     "ename": "NameError",
     "evalue": "name 'np' is not defined",
     "output_type": "error",
     "traceback": [
      "\u001b[1;31m---------------------------------------------------------------------------\u001b[0m",
      "\u001b[1;31mNameError\u001b[0m                                 Traceback (most recent call last)",
      "Cell \u001b[1;32mIn[42], line 8\u001b[0m\n\u001b[0;32m      1\u001b[0m \u001b[38;5;66;03m# df[df['铜牌数'].isnull()]\u001b[39;00m\n\u001b[0;32m      2\u001b[0m \u001b[38;5;66;03m# df['铜牌数'] = df['铜牌数'].replace('None', pd.NA)\u001b[39;00m\n\u001b[0;32m      3\u001b[0m \u001b[38;5;66;03m# df['铜牌数'] =df['铜牌数'].astype(int)\u001b[39;00m\n\u001b[1;32m   (...)\u001b[0m\n\u001b[0;32m      6\u001b[0m \u001b[38;5;66;03m# df['铜牌数'] = df['铜牌数'].replace('None', pd.NA)\u001b[39;00m\n\u001b[0;32m      7\u001b[0m \u001b[38;5;66;03m# df['铜牌数'] =0\u001b[39;00m\n\u001b[1;32m----> 8\u001b[0m df[\u001b[38;5;124m'\u001b[39m\u001b[38;5;124m铜牌数\u001b[39m\u001b[38;5;124m'\u001b[39m]\u001b[38;5;241m=\u001b[39m\u001b[43mnp\u001b[49m\u001b[38;5;241m.\u001b[39mrandom\u001b[38;5;241m.\u001b[39mrandint(\u001b[38;5;241m1\u001b[39m, \u001b[38;5;241m50\u001b[39m, size\u001b[38;5;241m=\u001b[39mdf\u001b[38;5;241m.\u001b[39mshape[\u001b[38;5;241m0\u001b[39m])\n\u001b[0;32m      9\u001b[0m \u001b[38;5;66;03m# df['铜牌数'] = df['铜牌数'].replace('<NA>', '0')\u001b[39;00m\n\u001b[0;32m     10\u001b[0m \u001b[38;5;66;03m# df['铜牌数'] = df['铜牌数'].astype(int) \u001b[39;00m\n\u001b[0;32m     11\u001b[0m \n\u001b[0;32m     12\u001b[0m \u001b[38;5;66;03m#  int(value if value is not None else 0)\u001b[39;00m\n",
      "\u001b[1;31mNameError\u001b[0m: name 'np' is not defined"
     ]
    }
   ],
   "source": [
    "# df[df['铜牌数'].isnull()]\n",
    "# df['铜牌数'] = df['铜牌数'].replace('None', pd.NA)\n",
    "# df['铜牌数'] =df['铜牌数'].astype(int)\n",
    "\n",
    "\n",
    "# df['铜牌数'] = df['铜牌数'].replace('None', pd.NA)\n",
    "# df['铜牌数'] =0\n",
    "df['铜牌数']=np.random.randint(1, 50, size=df.shape[0])\n",
    "# df['铜牌数'] = df['铜牌数'].replace('<NA>', '0')\n",
    "# df['铜牌数'] = df['铜牌数'].astype(int) \n",
    "\n",
    "#  int(value if value is not None else 0)\n"
   ]
  },
  {
   "cell_type": "code",
   "execution_count": 235,
   "id": "9341d9ea",
   "metadata": {},
   "outputs": [],
   "source": [
    "# 为每个国家新增一列“最多奖牌数量”  \n",
    "df['max_medals'] = df.apply(lambda row: max(row['金牌数'], row['银牌数'], row['铜牌数']), axis=1)  \n",
    "  \n",
    "# 打印结果  \n",
    "# df"
   ]
  },
  {
   "cell_type": "markdown",
   "id": "0c7b685a",
   "metadata": {},
   "source": [
    "### 12 - 数据增加｜新增列（判断值）"
   ]
  },
  {
   "cell_type": "code",
   "execution_count": 43,
   "id": "a38e4bae",
   "metadata": {},
   "outputs": [
    {
     "ename": "TypeError",
     "evalue": "boolean value of NA is ambiguous",
     "output_type": "error",
     "traceback": [
      "\u001b[1;31m---------------------------------------------------------------------------\u001b[0m",
      "\u001b[1;31mTypeError\u001b[0m                                 Traceback (most recent call last)",
      "Cell \u001b[1;32mIn[43], line 12\u001b[0m\n\u001b[0;32m      8\u001b[0m         \u001b[38;5;28;01mreturn\u001b[39;00m \u001b[38;5;124m\"\u001b[39m\u001b[38;5;124m否\u001b[39m\u001b[38;5;124m\"\u001b[39m  \n\u001b[0;32m     10\u001b[0m \u001b[38;5;66;03m# df[\"金牌数大于30\"] = df.apply(has_30_gold_medals, axis=1)\u001b[39;00m\n\u001b[1;32m---> 12\u001b[0m df[\u001b[38;5;124m\"\u001b[39m\u001b[38;5;124m金牌数大于30\u001b[39m\u001b[38;5;124m\"\u001b[39m] \u001b[38;5;241m=\u001b[39m \u001b[43mdf\u001b[49m\u001b[38;5;241;43m.\u001b[39;49m\u001b[43mapply\u001b[49m\u001b[43m(\u001b[49m\u001b[38;5;28;43;01mlambda\u001b[39;49;00m\u001b[43m \u001b[49m\u001b[43mx\u001b[49m\u001b[43m:\u001b[49m\u001b[43m \u001b[49m\u001b[38;5;124;43m'\u001b[39;49m\u001b[38;5;124;43m是\u001b[39;49m\u001b[38;5;124;43m'\u001b[39;49m\u001b[43m \u001b[49m\u001b[38;5;28;43;01mif\u001b[39;49;00m\u001b[43m \u001b[49m\u001b[43mx\u001b[49m\u001b[43m[\u001b[49m\u001b[38;5;124;43m\"\u001b[39;49m\u001b[38;5;124;43m金牌数\u001b[39;49m\u001b[38;5;124;43m\"\u001b[39;49m\u001b[43m]\u001b[49m\u001b[38;5;241;43m>\u001b[39;49m\u001b[38;5;241;43m30\u001b[39;49m\u001b[43m \u001b[49m\u001b[38;5;28;43;01melse\u001b[39;49;00m\u001b[43m \u001b[49m\u001b[38;5;124;43m'\u001b[39;49m\u001b[38;5;124;43m否\u001b[39;49m\u001b[38;5;124;43m'\u001b[39;49m\u001b[43m,\u001b[49m\u001b[43m \u001b[49m\u001b[43maxis\u001b[49m\u001b[38;5;241;43m=\u001b[39;49m\u001b[38;5;241;43m1\u001b[39;49m\u001b[43m)\u001b[49m\n",
      "File \u001b[1;32mD:\\python310\\lib\\site-packages\\pandas\\core\\frame.py:9428\u001b[0m, in \u001b[0;36mDataFrame.apply\u001b[1;34m(self, func, axis, raw, result_type, args, **kwargs)\u001b[0m\n\u001b[0;32m   9417\u001b[0m \u001b[38;5;28;01mfrom\u001b[39;00m \u001b[38;5;21;01mpandas\u001b[39;00m\u001b[38;5;21;01m.\u001b[39;00m\u001b[38;5;21;01mcore\u001b[39;00m\u001b[38;5;21;01m.\u001b[39;00m\u001b[38;5;21;01mapply\u001b[39;00m \u001b[38;5;28;01mimport\u001b[39;00m frame_apply\n\u001b[0;32m   9419\u001b[0m op \u001b[38;5;241m=\u001b[39m frame_apply(\n\u001b[0;32m   9420\u001b[0m     \u001b[38;5;28mself\u001b[39m,\n\u001b[0;32m   9421\u001b[0m     func\u001b[38;5;241m=\u001b[39mfunc,\n\u001b[1;32m   (...)\u001b[0m\n\u001b[0;32m   9426\u001b[0m     kwargs\u001b[38;5;241m=\u001b[39mkwargs,\n\u001b[0;32m   9427\u001b[0m )\n\u001b[1;32m-> 9428\u001b[0m \u001b[38;5;28;01mreturn\u001b[39;00m \u001b[43mop\u001b[49m\u001b[38;5;241;43m.\u001b[39;49m\u001b[43mapply\u001b[49m\u001b[43m(\u001b[49m\u001b[43m)\u001b[49m\u001b[38;5;241m.\u001b[39m__finalize__(\u001b[38;5;28mself\u001b[39m, method\u001b[38;5;241m=\u001b[39m\u001b[38;5;124m\"\u001b[39m\u001b[38;5;124mapply\u001b[39m\u001b[38;5;124m\"\u001b[39m)\n",
      "File \u001b[1;32mD:\\python310\\lib\\site-packages\\pandas\\core\\apply.py:678\u001b[0m, in \u001b[0;36mFrameApply.apply\u001b[1;34m(self)\u001b[0m\n\u001b[0;32m    675\u001b[0m \u001b[38;5;28;01melif\u001b[39;00m \u001b[38;5;28mself\u001b[39m\u001b[38;5;241m.\u001b[39mraw:\n\u001b[0;32m    676\u001b[0m     \u001b[38;5;28;01mreturn\u001b[39;00m \u001b[38;5;28mself\u001b[39m\u001b[38;5;241m.\u001b[39mapply_raw()\n\u001b[1;32m--> 678\u001b[0m \u001b[38;5;28;01mreturn\u001b[39;00m \u001b[38;5;28;43mself\u001b[39;49m\u001b[38;5;241;43m.\u001b[39;49m\u001b[43mapply_standard\u001b[49m\u001b[43m(\u001b[49m\u001b[43m)\u001b[49m\n",
      "File \u001b[1;32mD:\\python310\\lib\\site-packages\\pandas\\core\\apply.py:798\u001b[0m, in \u001b[0;36mFrameApply.apply_standard\u001b[1;34m(self)\u001b[0m\n\u001b[0;32m    797\u001b[0m \u001b[38;5;28;01mdef\u001b[39;00m \u001b[38;5;21mapply_standard\u001b[39m(\u001b[38;5;28mself\u001b[39m):\n\u001b[1;32m--> 798\u001b[0m     results, res_index \u001b[38;5;241m=\u001b[39m \u001b[38;5;28;43mself\u001b[39;49m\u001b[38;5;241;43m.\u001b[39;49m\u001b[43mapply_series_generator\u001b[49m\u001b[43m(\u001b[49m\u001b[43m)\u001b[49m\n\u001b[0;32m    800\u001b[0m     \u001b[38;5;66;03m# wrap results\u001b[39;00m\n\u001b[0;32m    801\u001b[0m     \u001b[38;5;28;01mreturn\u001b[39;00m \u001b[38;5;28mself\u001b[39m\u001b[38;5;241m.\u001b[39mwrap_results(results, res_index)\n",
      "File \u001b[1;32mD:\\python310\\lib\\site-packages\\pandas\\core\\apply.py:814\u001b[0m, in \u001b[0;36mFrameApply.apply_series_generator\u001b[1;34m(self)\u001b[0m\n\u001b[0;32m    811\u001b[0m \u001b[38;5;28;01mwith\u001b[39;00m option_context(\u001b[38;5;124m\"\u001b[39m\u001b[38;5;124mmode.chained_assignment\u001b[39m\u001b[38;5;124m\"\u001b[39m, \u001b[38;5;28;01mNone\u001b[39;00m):\n\u001b[0;32m    812\u001b[0m     \u001b[38;5;28;01mfor\u001b[39;00m i, v \u001b[38;5;129;01min\u001b[39;00m \u001b[38;5;28menumerate\u001b[39m(series_gen):\n\u001b[0;32m    813\u001b[0m         \u001b[38;5;66;03m# ignore SettingWithCopy here in case the user mutates\u001b[39;00m\n\u001b[1;32m--> 814\u001b[0m         results[i] \u001b[38;5;241m=\u001b[39m \u001b[38;5;28;43mself\u001b[39;49m\u001b[38;5;241;43m.\u001b[39;49m\u001b[43mf\u001b[49m\u001b[43m(\u001b[49m\u001b[43mv\u001b[49m\u001b[43m)\u001b[49m\n\u001b[0;32m    815\u001b[0m         \u001b[38;5;28;01mif\u001b[39;00m \u001b[38;5;28misinstance\u001b[39m(results[i], ABCSeries):\n\u001b[0;32m    816\u001b[0m             \u001b[38;5;66;03m# If we have a view on v, we need to make a copy because\u001b[39;00m\n\u001b[0;32m    817\u001b[0m             \u001b[38;5;66;03m#  series_generator will swap out the underlying data\u001b[39;00m\n\u001b[0;32m    818\u001b[0m             results[i] \u001b[38;5;241m=\u001b[39m results[i]\u001b[38;5;241m.\u001b[39mcopy(deep\u001b[38;5;241m=\u001b[39m\u001b[38;5;28;01mFalse\u001b[39;00m)\n",
      "Cell \u001b[1;32mIn[43], line 12\u001b[0m, in \u001b[0;36m<lambda>\u001b[1;34m(x)\u001b[0m\n\u001b[0;32m      8\u001b[0m         \u001b[38;5;28;01mreturn\u001b[39;00m \u001b[38;5;124m\"\u001b[39m\u001b[38;5;124m否\u001b[39m\u001b[38;5;124m\"\u001b[39m  \n\u001b[0;32m     10\u001b[0m \u001b[38;5;66;03m# df[\"金牌数大于30\"] = df.apply(has_30_gold_medals, axis=1)\u001b[39;00m\n\u001b[1;32m---> 12\u001b[0m df[\u001b[38;5;124m\"\u001b[39m\u001b[38;5;124m金牌数大于30\u001b[39m\u001b[38;5;124m\"\u001b[39m] \u001b[38;5;241m=\u001b[39m df\u001b[38;5;241m.\u001b[39mapply(\u001b[38;5;28;01mlambda\u001b[39;00m x: \u001b[38;5;124m'\u001b[39m\u001b[38;5;124m是\u001b[39m\u001b[38;5;124m'\u001b[39m \u001b[38;5;28;01mif\u001b[39;00m \u001b[43mx\u001b[49m\u001b[43m[\u001b[49m\u001b[38;5;124;43m\"\u001b[39;49m\u001b[38;5;124;43m金牌数\u001b[39;49m\u001b[38;5;124;43m\"\u001b[39;49m\u001b[43m]\u001b[49m\u001b[38;5;241;43m>\u001b[39;49m\u001b[38;5;241;43m30\u001b[39;49m \u001b[38;5;28;01melse\u001b[39;00m \u001b[38;5;124m'\u001b[39m\u001b[38;5;124m否\u001b[39m\u001b[38;5;124m'\u001b[39m, axis\u001b[38;5;241m=\u001b[39m\u001b[38;5;241m1\u001b[39m)\n",
      "File \u001b[1;32mD:\\python310\\lib\\site-packages\\pandas\\_libs\\missing.pyx:388\u001b[0m, in \u001b[0;36mpandas._libs.missing.NAType.__bool__\u001b[1;34m()\u001b[0m\n",
      "\u001b[1;31mTypeError\u001b[0m: boolean value of NA is ambiguous"
     ]
    }
   ],
   "source": [
    "# 新增一列 金牌大于30，如果一个国家的金牌数大于 30 则值为 是，反之为 否\n",
    "\n",
    "# 添加新列  \n",
    "def has_30_gold_medals(row):  \n",
    "    if row[\"金牌数\"] > 30:  \n",
    "        return \"是\"  \n",
    "    else:  \n",
    "        return \"否\"  \n",
    "  \n",
    "# df[\"金牌数大于30\"] = df.apply(has_30_gold_medals, axis=1)\n",
    "\n",
    "df[\"金牌数大于30\"] = df.apply(lambda x: '是' if x[\"金牌数\"]>30 else '否', axis=1)"
   ]
  },
  {
   "cell_type": "markdown",
   "id": "cf84fff6",
   "metadata": {},
   "source": [
    "### 13 - 数据增加｜增加多列"
   ]
  },
  {
   "cell_type": "code",
   "execution_count": 242,
   "id": "8a7c2117",
   "metadata": {},
   "outputs": [],
   "source": [
    "df = df.assign(金铜牌总数=df['金牌数'] + df['铜牌数'],  \n",
    "              银铜牌总数=df['银牌数'] + df['铜牌数'])  \n",
    "  \n",
    "# 显示修改后的DataFrame  \n",
    "# df"
   ]
  },
  {
   "cell_type": "markdown",
   "id": "f71da7cc",
   "metadata": {},
   "source": [
    "### 14 - 数据增加｜新增列（引用变量）"
   ]
  },
  {
   "cell_type": "code",
   "execution_count": 243,
   "id": "c6df7b4f",
   "metadata": {},
   "outputs": [],
   "source": [
    "# 新增一列金牌占比，为各国金牌数除以总金牌数（gold_sum）\n",
    "# 计算总金牌数  \n",
    "gold_sum = df['金牌数'].sum()  \n",
    "  \n",
    "# 计算金牌占比列  \n",
    "df = df.assign(金牌占比=df['金牌数']/gold_sum)  \n",
    "  "
   ]
  },
  {
   "cell_type": "markdown",
   "id": "3cb62ff5",
   "metadata": {},
   "source": [
    "### 15-数据增加｜新增行（末尾追加）"
   ]
  },
  {
   "cell_type": "code",
   "execution_count": 259,
   "id": "93ccbd92",
   "metadata": {},
   "outputs": [
    {
     "name": "stdout",
     "output_type": "stream",
     "text": [
      "        备注2    备注3  排名 国家奥委会  金牌数  银牌数  铜牌数   总分 按总数排名 国家奥委会代码     备注  金银牌总数   \n",
      "金牌排名                                                                           \n",
      "0     需要时填写  需要时填写   1    美国   39   41   34  113     1     USA  需要时填写     80  \\\n",
      "1     需要时填写  需要时填写   2    中国   38   32   30   88     2     CHN  需要时填写     70   \n",
      "2     需要时填写  需要时填写   3    日本   27   14    6   58     5     JPN  需要时填写     41   \n",
      "3     需要时填写  需要时填写   4    英国   22   21   16   65     4     GBR  需要时填写     43   \n",
      "4     需要时填写  需要时填写   5  俄奥委会   20   28   23   71     3     ROC  需要时填写     48   \n",
      "...     ...    ...  ..   ...  ...  ...  ...  ...   ...     ...    ...    ...   \n",
      "89    需要时填写  需要时填写  86  格林纳达    0    0    1    1    77     GRN  需要时填写      0   \n",
      "90    需要时填写  需要时填写  86   科威特    0    0   10    1    77     KUW  需要时填写      0   \n",
      "91    需要时填写  需要时填写  86  摩尔多瓦    0    0   45    1    77     MDA  需要时填写      0   \n",
      "92    需要时填写  需要时填写  86   叙利亚    0    0    7    1    77     SYR  需要时填写      0   \n",
      "93        0      1   2     3    4    5    6    7     8       9     10     11   \n",
      "\n",
      "      max_medals 金牌数大于30  金铜牌总数  银铜牌总数       金牌占比  \n",
      "金牌排名                                               \n",
      "0             41       是     73     75   0.114706  \n",
      "1             38       是     68     62   0.111765  \n",
      "2             27       否     33     20   0.079412  \n",
      "3             22       否     38     37   0.064706  \n",
      "4             28       否     43     51   0.058824  \n",
      "...          ...     ...    ...    ...        ...  \n",
      "89             1       否      1      1   0.000000  \n",
      "90            10       否     10     10   0.000000  \n",
      "91            45       否     45     45   0.000000  \n",
      "92             7       否      7      7   0.000000  \n",
      "93            12      13     14     15  16.000000  \n",
      "\n",
      "[94 rows x 17 columns]\n"
     ]
    }
   ],
   "source": [
    "# 计算新行的列长度  \n",
    "new_row_length = len(df.columns)  \n",
    "  \n",
    "# 创建新行数据，内容为 0,1,2,..., new_row_length - 1  \n",
    "new_row_data = [i for i in range(new_row_length)]  \n",
    "  \n",
    "# # 在 DataFrame 的末尾追加新行  \n",
    "# # df = df.append(pd.Series(new_row_data, index=df.columns), ignore_index=True)  \n",
    "# df.loc[len(df)]=new_row_data\n",
    "df1 = pd.DataFrame([[i+1 for i in range(len(df.columns))]], columns=df.columns)\n",
    "df_new = pd.concat([df,df1])\n",
    "# 显示修改后的 DataFrame  \n",
    "# print(df)\n",
    "print(df_new)\n",
    "# pd.Series(new_row_data, index=df.columns)"
   ]
  },
  {
   "cell_type": "markdown",
   "id": "ebad43a8",
   "metadata": {},
   "source": [
    "### 16 -数据增加｜新增行（指定位置）"
   ]
  },
  {
   "cell_type": "code",
   "execution_count": 273,
   "id": "9570c4b3",
   "metadata": {},
   "outputs": [],
   "source": [
    "# df.loc[73]"
   ]
  },
  {
   "cell_type": "code",
   "execution_count": 9,
   "id": "d6e9123c",
   "metadata": {},
   "outputs": [
    {
     "name": "stdout",
     "output_type": "stream",
     "text": [
      "91\n"
     ]
    },
    {
     "name": "stderr",
     "output_type": "stream",
     "text": [
      "C:\\Users\\admin\\AppData\\Local\\Temp\\ipykernel_2132\\3300182593.py:9: SettingWithCopyWarning: \n",
      "A value is trying to be set on a copy of a slice from a DataFrame\n",
      "\n",
      "See the caveats in the documentation: https://pandas.pydata.org/pandas-docs/stable/user_guide/indexing.html#returning-a-view-versus-a-copy\n",
      "  selected_row['银牌数'] = selected_row['银牌数'] * 2\n"
     ]
    }
   ],
   "source": [
    "# 在第 2 行新增一行数据，即美国和中国之间 新增一行\n",
    "\n",
    "# 随机选取一行并修改 +\n",
    "import random\n",
    "\n",
    "random_index = random.randint(0, len(df)-1)  \n",
    "print(random_index)\n",
    "selected_row = df.iloc[random_index]  \n",
    "selected_row['银牌数'] = selected_row['银牌数'] * 2  \n",
    "df = df.insert(1, 'China',selected_row)  # 在第2行（索引为1）新增一行数据 \n",
    "\n",
    "# df.loc[1] = selected_row #这是修改，不是插入\n",
    "##这个有问题，不是插入了，是修改了。20230703"
   ]
  },
  {
   "cell_type": "markdown",
   "id": "2235cbfe",
   "metadata": {},
   "source": [
    "### 17 - 数据删除｜删除行"
   ]
  },
  {
   "cell_type": "code",
   "execution_count": 64,
   "id": "b13e7374",
   "metadata": {},
   "outputs": [
    {
     "name": "stdout",
     "output_type": "stream",
     "text": [
      "      排名    备注3 国家奥委会  金牌数   银牌数   铜牌数  总分  按总数排名 国家奥委会代码 金银牌总数\n",
      "金牌排名                                                           \n",
      "1      2  需要时填写    中国   38  32.0  18.0  88      2     CHN  70.0\n",
      "2      3  需要时填写    日本   27  14.0  17.0  58      5     JPN  41.0\n",
      "3      4  需要时填写    英国   22  21.0  22.0  65      4     GBR  43.0\n",
      "4      5  需要时填写  俄奥委会   20  28.0  23.0  71      3     ROC  48.0\n",
      "5      6  需要时填写  澳大利亚   17   7.0  22.0  46      6     AUS  24.0\n",
      "...   ..    ...   ...  ...   ...   ...  ..    ...     ...   ...\n",
      "88    86  需要时填写    加纳  NaN   NaN   1.0   1     77     GHA   NaN\n",
      "89    86  需要时填写  格林纳达  NaN   NaN   1.0   1     77     GRN   NaN\n",
      "90    86  需要时填写   科威特  NaN   NaN   1.0   1     77     KUW   NaN\n",
      "91    86  需要时填写  摩尔多瓦  NaN   NaN   1.0   1     77     MDA   NaN\n",
      "92    86  需要时填写   叙利亚  NaN   NaN   1.0   1     77     SYR   NaN\n",
      "\n",
      "[92 rows x 10 columns]\n"
     ]
    }
   ],
   "source": [
    "# 删除第一行  \n",
    "df = df.drop(index=df.index[0], axis=0)  \n",
    "print(df)"
   ]
  },
  {
   "cell_type": "markdown",
   "id": "2dbcbee2",
   "metadata": {},
   "source": [
    "### 18 - 数据删除｜删除列"
   ]
  },
  {
   "cell_type": "code",
   "execution_count": 68,
   "id": "c447f1f1",
   "metadata": {},
   "outputs": [],
   "source": [
    "df = df.drop(index=df.index[0], axis=1)\n",
    "# 删除指定列的列标签  \n",
    "df.drop(columns=['column1', 'column2'])\n",
    "# 删除指定行的索引标签  \n",
    "df.drop(index=[0, 1])  \n",
    "  \n",
    "# 删除指定行的行标签  \n",
    "df.drop(labels=['row1', 'row2'])  \n",
    "  \n",
    "# 删除所有行的前两行  \n",
    "df.drop(index=df.index[0:2])"
   ]
  },
  {
   "cell_type": "markdown",
   "id": "e5881260",
   "metadata": {},
   "source": [
    "### 20 - 数据删除｜删除列（按列号"
   ]
  },
  {
   "cell_type": "code",
   "execution_count": null,
   "id": "2327e165",
   "metadata": {},
   "outputs": [],
   "source": [
    "# 删除第 2 列（B）  \n",
    "df = df.drop(columns=[1])"
   ]
  },
  {
   "cell_type": "markdown",
   "id": "c32760f5",
   "metadata": {},
   "source": [
    "## 5-2 数据筛选"
   ]
  },
  {
   "cell_type": "code",
   "execution_count": 9,
   "id": "c8a094b1",
   "metadata": {},
   "outputs": [],
   "source": [
    "df = pd.read_csv(\"东京奥运会奖牌数据.csv\")  # 如果未联网可以使用这条命令加载数据\n",
    "\n",
    "df.rename(columns={'Unnamed: 2':'金牌数',\n",
    "                  'Unnamed: 3':'银牌数',\n",
    "                  'Unnamed: 4':'铜牌数'},inplace=True)"
   ]
  },
  {
   "cell_type": "code",
   "execution_count": 10,
   "id": "b1b0ce72",
   "metadata": {},
   "outputs": [
    {
     "data": {
      "text/html": [
       "<div>\n",
       "<style scoped>\n",
       "    .dataframe tbody tr th:only-of-type {\n",
       "        vertical-align: middle;\n",
       "    }\n",
       "\n",
       "    .dataframe tbody tr th {\n",
       "        vertical-align: top;\n",
       "    }\n",
       "\n",
       "    .dataframe thead th {\n",
       "        text-align: right;\n",
       "    }\n",
       "</style>\n",
       "<table border=\"1\" class=\"dataframe\">\n",
       "  <thead>\n",
       "    <tr style=\"text-align: right;\">\n",
       "      <th></th>\n",
       "      <th>排名</th>\n",
       "      <th>国家奥委会</th>\n",
       "      <th>金牌数</th>\n",
       "      <th>银牌数</th>\n",
       "      <th>铜牌数</th>\n",
       "      <th>总分</th>\n",
       "      <th>按总数排名</th>\n",
       "      <th>国家奥委会代码</th>\n",
       "    </tr>\n",
       "  </thead>\n",
       "  <tbody>\n",
       "    <tr>\n",
       "      <th>0</th>\n",
       "      <td>1</td>\n",
       "      <td>美国</td>\n",
       "      <td>39</td>\n",
       "      <td>41</td>\n",
       "      <td>33</td>\n",
       "      <td>113</td>\n",
       "      <td>1</td>\n",
       "      <td>USA</td>\n",
       "    </tr>\n",
       "    <tr>\n",
       "      <th>1</th>\n",
       "      <td>2</td>\n",
       "      <td>中国</td>\n",
       "      <td>38</td>\n",
       "      <td>32</td>\n",
       "      <td>18</td>\n",
       "      <td>88</td>\n",
       "      <td>2</td>\n",
       "      <td>CHN</td>\n",
       "    </tr>\n",
       "    <tr>\n",
       "      <th>2</th>\n",
       "      <td>3</td>\n",
       "      <td>日本</td>\n",
       "      <td>27</td>\n",
       "      <td>14</td>\n",
       "      <td>17</td>\n",
       "      <td>58</td>\n",
       "      <td>5</td>\n",
       "      <td>JPN</td>\n",
       "    </tr>\n",
       "    <tr>\n",
       "      <th>3</th>\n",
       "      <td>4</td>\n",
       "      <td>英国</td>\n",
       "      <td>22</td>\n",
       "      <td>21</td>\n",
       "      <td>22</td>\n",
       "      <td>65</td>\n",
       "      <td>4</td>\n",
       "      <td>GBR</td>\n",
       "    </tr>\n",
       "    <tr>\n",
       "      <th>4</th>\n",
       "      <td>5</td>\n",
       "      <td>ROC</td>\n",
       "      <td>20</td>\n",
       "      <td>28</td>\n",
       "      <td>23</td>\n",
       "      <td>71</td>\n",
       "      <td>3</td>\n",
       "      <td>ROC</td>\n",
       "    </tr>\n",
       "    <tr>\n",
       "      <th>5</th>\n",
       "      <td>6</td>\n",
       "      <td>澳大利亚</td>\n",
       "      <td>17</td>\n",
       "      <td>7</td>\n",
       "      <td>22</td>\n",
       "      <td>46</td>\n",
       "      <td>6</td>\n",
       "      <td>AUS</td>\n",
       "    </tr>\n",
       "    <tr>\n",
       "      <th>6</th>\n",
       "      <td>7</td>\n",
       "      <td>荷兰</td>\n",
       "      <td>10</td>\n",
       "      <td>12</td>\n",
       "      <td>14</td>\n",
       "      <td>36</td>\n",
       "      <td>9</td>\n",
       "      <td>NED</td>\n",
       "    </tr>\n",
       "    <tr>\n",
       "      <th>7</th>\n",
       "      <td>8</td>\n",
       "      <td>法国</td>\n",
       "      <td>10</td>\n",
       "      <td>12</td>\n",
       "      <td>11</td>\n",
       "      <td>33</td>\n",
       "      <td>10</td>\n",
       "      <td>FRA</td>\n",
       "    </tr>\n",
       "    <tr>\n",
       "      <th>8</th>\n",
       "      <td>9</td>\n",
       "      <td>德国</td>\n",
       "      <td>10</td>\n",
       "      <td>11</td>\n",
       "      <td>16</td>\n",
       "      <td>37</td>\n",
       "      <td>8</td>\n",
       "      <td>GER</td>\n",
       "    </tr>\n",
       "    <tr>\n",
       "      <th>9</th>\n",
       "      <td>10</td>\n",
       "      <td>意大利</td>\n",
       "      <td>10</td>\n",
       "      <td>10</td>\n",
       "      <td>20</td>\n",
       "      <td>40</td>\n",
       "      <td>7</td>\n",
       "      <td>ITA</td>\n",
       "    </tr>\n",
       "  </tbody>\n",
       "</table>\n",
       "</div>"
      ],
      "text/plain": [
       "   排名 国家奥委会  金牌数  银牌数  铜牌数   总分  按总数排名 国家奥委会代码\n",
       "0   1    美国   39   41   33  113      1     USA\n",
       "1   2    中国   38   32   18   88      2     CHN\n",
       "2   3    日本   27   14   17   58      5     JPN\n",
       "3   4    英国   22   21   22   65      4     GBR\n",
       "4   5   ROC   20   28   23   71      3     ROC\n",
       "5   6  澳大利亚   17    7   22   46      6     AUS\n",
       "6   7    荷兰   10   12   14   36      9     NED\n",
       "7   8    法国   10   12   11   33     10     FRA\n",
       "8   9    德国   10   11   16   37      8     GER\n",
       "9  10   意大利   10   10   20   40      7     ITA"
      ]
     },
     "execution_count": 10,
     "metadata": {},
     "output_type": "execute_result"
    }
   ],
   "source": [
    "df.head(10)"
   ]
  },
  {
   "cell_type": "markdown",
   "id": "8ccde3d5",
   "metadata": {},
   "source": [
    "### 22 - 筛选列｜通过列号"
   ]
  },
  {
   "cell_type": "code",
   "execution_count": 11,
   "id": "996306fc",
   "metadata": {},
   "outputs": [
    {
     "name": "stdout",
     "output_type": "stream",
     "text": [
      "   排名  金牌数\n",
      "0   1   39\n",
      "1   2   38\n"
     ]
    }
   ],
   "source": [
    "# 通过列号提取特定列  \n",
    "selected_columns = df.iloc[:, [0, 2]]  # 提取第 1 列和第 3 列  \n",
    "# 打印结果  \n",
    "print(selected_columns.head(2))"
   ]
  },
  {
   "cell_type": "markdown",
   "id": "45b09a26",
   "metadata": {},
   "source": [
    "### 23 - 筛选列｜通过列名"
   ]
  },
  {
   "cell_type": "code",
   "execution_count": 12,
   "id": "5c79e6b7",
   "metadata": {},
   "outputs": [],
   "source": [
    "# 通过列名筛选特定列  \n",
    "selected_columns = df.filter(items=['金牌数', '铜牌数'])\n",
    "# df[['金牌数','铜牌数']]"
   ]
  },
  {
   "cell_type": "markdown",
   "id": "165d298d",
   "metadata": {},
   "source": [
    "### 24 - 筛选列｜条件（列号）"
   ]
  },
  {
   "cell_type": "code",
   "execution_count": 13,
   "id": "4a9a7345",
   "metadata": {},
   "outputs": [],
   "source": [
    "#  使用iloc方法选择奇数列\n",
    "odd_columns = df.iloc[:, ::2]\n",
    "# 使用iloc方法选择偶数列  \n",
    "even_columns_iloc = df.iloc[:, 1::2]\n",
    "# 选择偶数行  \n",
    "even_rows = df[df.index % 2 == 0]\n",
    "# even_rows_iloc = df.iloc[::2]"
   ]
  },
  {
   "cell_type": "markdown",
   "id": "42ab39cb",
   "metadata": {},
   "source": [
    "### 25筛选列｜条件（列名）"
   ]
  },
  {
   "cell_type": "code",
   "execution_count": 15,
   "id": "6861434a",
   "metadata": {},
   "outputs": [],
   "source": [
    "# 提取全部列名中以 “数” 结尾的列\n",
    "result = df.filter(regex='^.*数$')\n",
    "\n",
    "# # 获取列名为“数”结尾的列名列表  \n",
    "# column_names = [name for name in df.columns if name.endswith('_数')]  \n",
    "  \n",
    "# # 筛选这些列  \n",
    "# df_filtered = df[column_names]"
   ]
  },
  {
   "cell_type": "markdown",
   "id": "480f4136",
   "metadata": {},
   "source": [
    "### 26 - 筛选列｜组合（行号+列名）"
   ]
  },
  {
   "cell_type": "code",
   "execution_count": null,
   "id": "d403f105",
   "metadata": {},
   "outputs": [],
   "source": [
    "# 提取倒数后三列的10-20行\n",
    "# 组合行号和列名，提取倒数后三列的10-20行\n",
    "\n",
    "# result = df.iloc[-10:-7, ['三数', '四', '二']]\n",
    "\n",
    "# print(result)\n",
    "\n",
    " 获取倒数后三列的列名列表  \n",
    "last_three_columns = df.columns[-3:]  \n",
    "  \n",
    "# 筛选行号在10到20之间的数据  \n",
    "df_filtered = df.iloc[9:12, :]  \n",
    "  \n",
    "# 筛选符合条件的行和列  \n",
    "df_filtered = df_filtered[last_three_columns]"
   ]
  },
  {
   "cell_type": "markdown",
   "id": "477d0286",
   "metadata": {},
   "source": [
    "### 27 -筛选行｜通过行号"
   ]
  },
  {
   "cell_type": "code",
   "execution_count": 16,
   "id": "b9be48ef",
   "metadata": {},
   "outputs": [],
   "source": [
    "# 提取第 10 行\n",
    "result = df.iloc[9]"
   ]
  },
  {
   "cell_type": "markdown",
   "id": "621c64fe",
   "metadata": {},
   "source": [
    "### 28 - 筛选行｜通过行号（多行）"
   ]
  },
  {
   "cell_type": "code",
   "execution_count": 20,
   "id": "b3b278c7",
   "metadata": {},
   "outputs": [],
   "source": [
    "# 提取第 10 行之后的全部行\n",
    "result = df.iloc[10:]\n",
    "\n",
    "# print(result)"
   ]
  },
  {
   "cell_type": "markdown",
   "id": "b54cc018",
   "metadata": {},
   "source": [
    "### 29 - 筛选行｜固定间隔"
   ]
  },
  {
   "cell_type": "code",
   "execution_count": null,
   "id": "76eb4254",
   "metadata": {},
   "outputs": [],
   "source": [
    "# 提取 0-50 行，间隔为 3\n",
    "# 筛选每隔 3 行  \n",
    "df_filtered = df.iloc[::3]  \n",
    "  \n",
    "# 筛选行号在 0 到 50 之间的数据  \n",
    "df_filtered = df_filtered[:50]"
   ]
  },
  {
   "cell_type": "markdown",
   "id": "0b1ff8a8",
   "metadata": {},
   "source": [
    "### 30 - 筛选行｜判断（大于）"
   ]
  },
  {
   "cell_type": "code",
   "execution_count": 22,
   "id": "a967cf85",
   "metadata": {},
   "outputs": [],
   "source": [
    "# 筛选大于 7 的数据  \n",
    "# df_filtered = df[df['A'] > 7]\n",
    "result = df.query('一 > 30')\n",
    "\n",
    "print(result)"
   ]
  },
  {
   "cell_type": "markdown",
   "id": "f743ca3c",
   "metadata": {},
   "source": [
    "### 31 - >筛选行｜判断（等于）"
   ]
  },
  {
   "cell_type": "code",
   "execution_count": 23,
   "id": "060db124",
   "metadata": {},
   "outputs": [],
   "source": [
    "# 提取 金牌数 等于 10 的行"
   ]
  },
  {
   "cell_type": "code",
   "execution_count": null,
   "id": "4311a58f",
   "metadata": {},
   "outputs": [],
   "source": [
    "# 筛选出名次为金牌的行  \n",
    "df_filtered = df[df['名次'] == '金牌']\n",
    "# result = df.query('三数 == 10')"
   ]
  },
  {
   "cell_type": "code",
   "execution_count": 25,
   "id": "fa52497c",
   "metadata": {},
   "outputs": [],
   "source": [
    "# 筛选行|判断(不等于)提取金牌数不等于10的行\n",
    "\n",
    "result = df.query('金牌数 != 10')\n",
    "# 筛选金牌数不等于10的行  \n",
    "# selected_rows = df[df['金牌数'] != 10] \n",
    "# print(result)"
   ]
  },
  {
   "cell_type": "markdown",
   "id": "ac7cfca5",
   "metadata": {},
   "source": [
    "###  33筛选行｜条件（指定行号）"
   ]
  },
  {
   "cell_type": "code",
   "execution_count": 30,
   "id": "28b4d05d",
   "metadata": {},
   "outputs": [],
   "source": [
    "# 通过条件筛选出全部奇数行  \n",
    "# selected_rows = df.iloc[1::2, :]\n",
    "# 筛选行|条件(指定行号),提取全部奇数行\n",
    "# 通过条件筛选出全部偶数行 \n",
    "result = df.iloc[::2]"
   ]
  },
  {
   "cell_type": "markdown",
   "id": "e4e11317",
   "metadata": {},
   "source": [
    "### 34 \\35- 筛选行｜条件（指定值）"
   ]
  },
  {
   "cell_type": "code",
   "execution_count": 39,
   "id": "4dadeaea",
   "metadata": {},
   "outputs": [
    {
     "name": "stdout",
     "output_type": "stream",
     "text": [
      "    排名 国家奥委会  金牌数  银牌数  铜牌数  总分  按总数排名 国家奥委会代码\n",
      "2    3    日本   27   14   17  58      5     JPN\n",
      "3    4    英国   22   21   22  65      4     GBR\n",
      "11  12    巴西    7    6    8  21     12     BRA\n"
     ]
    }
   ],
   "source": [
    "# 筛选出符合多个条件的行数据，条件为金牌数小于30且国家为中国、美国、英国、日本  \n",
    "# selected_rows = df.loc[(df['金牌数'] < 30) & (df['国家奥委会'].isin(['中国', '美国', '英国', '日本','巴西']))]  \n",
    "selected_rows = df.query('国家奥委会 in [\"中国\", \"美国\", \"英国\", \"日本\", \"巴西\"] and 金牌数 < 30')\n",
    "# 打印结果  \n",
    "print(selected_rows)"
   ]
  },
  {
   "cell_type": "markdown",
   "id": "a841a549",
   "metadata": {},
   "source": [
    "### 36 筛选行｜条件（包含指定值）"
   ]
  },
  {
   "cell_type": "code",
   "execution_count": 47,
   "id": "94822ede",
   "metadata": {},
   "outputs": [],
   "source": [
    "# selected_rows = df.loc[df['国家奥委会'].apply(lambda x: '国' in x)]\n",
    "selected_rows = df.query('国家奥委会.str.contains(\"国|日|加\")')\n",
    "# 打印结果  \n",
    "# print(selected_rows)"
   ]
  },
  {
   "cell_type": "markdown",
   "id": "32febe5c",
   "metadata": {},
   "source": [
    "### 37 - 筛选某行某列"
   ]
  },
  {
   "cell_type": "code",
   "execution_count": 50,
   "id": "a393e466",
   "metadata": {},
   "outputs": [
    {
     "name": "stdout",
     "output_type": "stream",
     "text": [
      "美国\n"
     ]
    }
   ],
   "source": [
    "# 提取 第 0 行第 2 列\n",
    "selected_rows = df.iloc[0,1]\n",
    "print(selected_rows)"
   ]
  },
  {
   "cell_type": "markdown",
   "id": "5ad13714",
   "metadata": {},
   "source": [
    "### 38 - 筛选多行多列"
   ]
  },
  {
   "cell_type": "code",
   "execution_count": 65,
   "id": "8b65750a",
   "metadata": {},
   "outputs": [],
   "source": [
    "# 筛选多行多列,提取 第 0-2 行第 0-2 列\n",
    "selected_rows = df.iloc[0:3,0:2]"
   ]
  },
  {
   "cell_type": "code",
   "execution_count": 64,
   "id": "ced6a7b3",
   "metadata": {},
   "outputs": [],
   "source": [
    "# selected_rows"
   ]
  },
  {
   "cell_type": "markdown",
   "id": "2635890b",
   "metadata": {},
   "source": [
    "### 39 - 筛选值｜组合（行号+列号"
   ]
  },
  {
   "cell_type": "code",
   "execution_count": 68,
   "id": "9a147ca8",
   "metadata": {},
   "outputs": [
    {
     "name": "stdout",
     "output_type": "stream",
     "text": [
      "21\n"
     ]
    }
   ],
   "source": [
    "# 通过行号和列号提取特定值  \n",
    "selected_value = df.iloc[3, 3]  \n",
    "# 打印结果  \n",
    "print(selected_value)"
   ]
  },
  {
   "cell_type": "markdown",
   "id": "cef60c6b",
   "metadata": {},
   "source": [
    "### 40 - 筛选值｜组合（行号+列名）"
   ]
  },
  {
   "cell_type": "code",
   "execution_count": 78,
   "id": "9a4f4a12",
   "metadata": {},
   "outputs": [
    {
     "name": "stdout",
     "output_type": "stream",
     "text": [
      "22\n"
     ]
    }
   ],
   "source": [
    "# 提取行索引为 4 ，列名为 金牌数 的值\n",
    "\n",
    "\n",
    "# 通过行索引和列名提取特定值  \n",
    "selected_value = df.loc[3, '金牌数'] \n",
    "# selected_value = df.loc[3:df.shape[0], '金牌数']  \n",
    "# 打印结果  \n",
    "print(selected_value)"
   ]
  },
  {
   "cell_type": "markdown",
   "id": "7ca61d45",
   "metadata": {},
   "source": [
    "### 41 - 筛选值｜条件"
   ]
  },
  {
   "cell_type": "code",
   "execution_count": 83,
   "id": "d754e031",
   "metadata": {},
   "outputs": [
    {
     "data": {
      "text/plain": [
       "1    38\n",
       "Name: 金牌数, dtype: int64"
      ]
     },
     "execution_count": 83,
     "metadata": {},
     "output_type": "execute_result"
    }
   ],
   "source": [
    "# 提取 国家奥委会 为 中国 的金牌数\n",
    "# df.query('国家奥委会==\"中国\"')['金牌数']\n",
    "df[df['国家奥委会']=='中国']['金牌数']"
   ]
  },
  {
   "cell_type": "markdown",
   "id": "45cf99ff",
   "metadata": {},
   "source": [
    "### 42 - 筛选值｜query"
   ]
  },
  {
   "cell_type": "code",
   "execution_count": 89,
   "id": "b340df6e",
   "metadata": {},
   "outputs": [],
   "source": [
    "# 使用 query 提取 金牌数 + 银牌数 大于 15 的国家\n",
    "# result = df.query('金牌数 + 银牌数 < 15')\n",
    "result=df[(df['金牌数'] + df['银牌数']) > 15]"
   ]
  },
  {
   "cell_type": "markdown",
   "id": "fc7ecd1d",
   "metadata": {},
   "source": [
    "### 43 - 筛选值｜query（引用变量）"
   ]
  },
  {
   "cell_type": "code",
   "execution_count": 4,
   "id": "6cc669de",
   "metadata": {},
   "outputs": [
    {
     "ename": "NameError",
     "evalue": "name 'df' is not defined",
     "output_type": "error",
     "traceback": [
      "\u001b[1;31m---------------------------------------------------------------------------\u001b[0m",
      "\u001b[1;31mNameError\u001b[0m                                 Traceback (most recent call last)",
      "Cell \u001b[1;32mIn[4], line 2\u001b[0m\n\u001b[0;32m      1\u001b[0m \u001b[38;5;66;03m# 计算金牌数的平均值  \u001b[39;00m\n\u001b[1;32m----> 2\u001b[0m avg_gold \u001b[38;5;241m=\u001b[39m \u001b[43mdf\u001b[49m[\u001b[38;5;124m'\u001b[39m\u001b[38;5;124m金牌数\u001b[39m\u001b[38;5;124m'\u001b[39m]\u001b[38;5;241m.\u001b[39mmean()  \n\u001b[0;32m      4\u001b[0m \u001b[38;5;66;03m# 筛选出金牌数大于平均值的国家  \u001b[39;00m\n\u001b[0;32m      5\u001b[0m filtered_df \u001b[38;5;241m=\u001b[39m df[df[\u001b[38;5;124m'\u001b[39m\u001b[38;5;124m金牌数\u001b[39m\u001b[38;5;124m'\u001b[39m] \u001b[38;5;241m>\u001b[39m avg_gold]  \n",
      "\u001b[1;31mNameError\u001b[0m: name 'df' is not defined"
     ]
    }
   ],
   "source": [
    "# 计算金牌数的平均值  \n",
    "avg_gold = df['金牌数'].mean()  \n",
    "  \n",
    "# 筛选出金牌数大于平均值的国家  \n",
    "filtered_df = df[df['金牌数'] > avg_gold]  \n",
    "  \n",
    "# 输出结果  \n",
    "# print(filtered_df['国家奥委会'])"
   ]
  },
  {
   "cell_type": "markdown",
   "id": "08b866df",
   "metadata": {},
   "source": [
    "# 6 - 数据分组与聚合"
   ]
  },
  {
   "cell_type": "markdown",
   "id": "4a893358",
   "metadata": {},
   "source": [
    "## 加载数据"
   ]
  },
  {
   "cell_type": "code",
   "execution_count": 2,
   "id": "b5638000",
   "metadata": {},
   "outputs": [
    {
     "name": "stdout",
     "output_type": "stream",
     "text": [
      "***************正在初始化***************\n",
      "*************读取到配置文件*************\n",
      "***************初始化成功***************\n"
     ]
    }
   ],
   "source": [
    "import sys\n",
    "import os\n",
    "import pandas as pd\n",
    "os.chdir('data6')\n",
    "from inits import initialize,ans\n",
    "res = initialize(\"answer-6.txt\")\n",
    "df = pd.read_csv(\"某招聘网站数据.csv\",parse_dates=['createTime'])"
   ]
  },
  {
   "cell_type": "markdown",
   "id": "496156be",
   "metadata": {},
   "source": [
    "## 分组"
   ]
  },
  {
   "cell_type": "markdown",
   "id": "aa57b4d3",
   "metadata": {},
   "source": [
    "### 1 - 分组统计｜均值¶"
   ]
  },
  {
   "cell_type": "code",
   "execution_count": 5,
   "id": "20b3d85c",
   "metadata": {},
   "outputs": [
    {
     "name": "stdout",
     "output_type": "stream",
     "text": [
      "district\n",
      "上城区    26250.000000\n",
      "下沙     30000.000000\n",
      "余杭区    33583.333333\n",
      "拱墅区    28500.000000\n",
      "江干区    25250.000000\n",
      "滨江区    31428.571429\n",
      "萧山区    36250.000000\n",
      "西湖区    30893.939394\n",
      "Name: salary, dtype: float64\n"
     ]
    }
   ],
   "source": [
    "# 计算每个地区的薪资均值  \n",
    "means = df.groupby('district')['salary'].mean()\n",
    "# 打印结果  \n",
    "print(means)"
   ]
  },
  {
   "cell_type": "markdown",
   "id": "82738ef2",
   "metadata": {},
   "source": [
    "### 2 - 分组统计｜取消索引"
   ]
  },
  {
   "cell_type": "code",
   "execution_count": 6,
   "id": "b1e4b7e1",
   "metadata": {},
   "outputs": [],
   "source": [
    "# 按照上一题的要求进行分组，但不使用district作为索引  \n",
    "# grouped = df.groupby(lambda x: x.split(',')[0])  \n",
    "  \n",
    "# means = grouped['salary'].mean()  \n",
    "  \n",
    "# 打印结果  \n",
    "# print(means)"
   ]
  },
  {
   "cell_type": "markdown",
   "id": "ef32e79f",
   "metadata": {},
   "source": [
    "### 3 - 分组统计｜排序"
   ]
  },
  {
   "cell_type": "code",
   "execution_count": 36,
   "id": "02f0c67d",
   "metadata": {},
   "outputs": [
    {
     "name": "stdout",
     "output_type": "stream",
     "text": [
      "The average salary in 萧山区 is the highest at 36250.00 dollars.\n"
     ]
    }
   ],
   "source": [
    "# 计算并提取平均薪资最高的区\n",
    "\n",
    "\n",
    "\n",
    "# 计算每个地区的薪资均值  \n",
    "means = df.groupby('district')['salary'].mean()  \n",
    "df_means=pd.DataFrame(means, columns=['salary']).reset_index()\n",
    "# 找到平均薪资最高的地区  \n",
    "max_mean = means.max()  \n",
    "# print(max_mean)\n",
    "district_with_max_mean = df_means[df_means['salary'] == max_mean]['district'].values[0]  \n",
    "  \n",
    "# # 打印结果  \n",
    "print(f\"The average salary in {district_with_max_mean} is the highest at {max_mean:.2f} dollars.\")\n",
    "\n",
    "# district_with_max_mean\n",
    "\n"
   ]
  },
  {
   "cell_type": "markdown",
   "id": "dc0eca09",
   "metadata": {},
   "source": [
    "### 4 - 分组统计｜频率"
   ]
  },
  {
   "cell_type": "code",
   "execution_count": 38,
   "id": "6457d8a8",
   "metadata": {},
   "outputs": [],
   "source": [
    "# 计算不同行政区(district)，不同规模公司(companySize)出现的次数\n",
    "\n",
    "\n",
    "\n",
    "\n",
    "\n",
    "\n",
    "\n"
   ]
  },
  {
   "cell_type": "markdown",
   "id": "f320bb26",
   "metadata": {},
   "source": [
    "## 10 个 Python 自动探索性数据分析神库！"
   ]
  },
  {
   "cell_type": "code",
   "execution_count": null,
   "id": "d26131db",
   "metadata": {},
   "outputs": [],
   "source": [
    "# https://mp.weixin.qq.com/s/-aesECrG7HqIvvcSXdR55w"
   ]
  },
  {
   "cell_type": "code",
   "execution_count": 41,
   "id": "cb6031c5",
   "metadata": {},
   "outputs": [],
   "source": [
    "import dtale\n",
    "import pandas as pd\n",
    "# dtale.show(pd.read_csv(\"某招聘网站数据.csv\",parse_dates=['createTime']))"
   ]
  },
  {
   "cell_type": "code",
   "execution_count": 3,
   "id": "b1459e03",
   "metadata": {},
   "outputs": [
    {
     "ename": "NameError",
     "evalue": "name 'df' is not defined",
     "output_type": "error",
     "traceback": [
      "\u001b[1;31m---------------------------------------------------------------------------\u001b[0m",
      "\u001b[1;31mNameError\u001b[0m                                 Traceback (most recent call last)",
      "Cell \u001b[1;32mIn[3], line 2\u001b[0m\n\u001b[0;32m      1\u001b[0m \u001b[38;5;66;03m# 获取索引\u001b[39;00m\n\u001b[1;32m----> 2\u001b[0m \u001b[38;5;28;01mfor\u001b[39;00m i \u001b[38;5;129;01min\u001b[39;00m \u001b[38;5;28mrange\u001b[39m(\u001b[43mdf\u001b[49m\u001b[38;5;241m.\u001b[39mshape[\u001b[38;5;241m0\u001b[39m]):\n\u001b[0;32m      3\u001b[0m \u001b[38;5;66;03m#     print(i)\u001b[39;00m\n\u001b[0;32m      4\u001b[0m       \u001b[38;5;28;01mpass\u001b[39;00m\n",
      "\u001b[1;31mNameError\u001b[0m: name 'df' is not defined"
     ]
    }
   ],
   "source": [
    "# 获取索引\n",
    "for i in range(df.shape[0]):\n",
    "#     print(i)\n",
    "      pass"
   ]
  },
  {
   "cell_type": "code",
   "execution_count": 73,
   "id": "339c9724",
   "metadata": {},
   "outputs": [
    {
     "data": {
      "text/plain": [
       "93"
      ]
     },
     "execution_count": 73,
     "metadata": {},
     "output_type": "execute_result"
    }
   ],
   "source": [
    "df.shape[0]"
   ]
  },
  {
   "cell_type": "code",
   "execution_count": 74,
   "id": "a16bba25",
   "metadata": {},
   "outputs": [
    {
     "data": {
      "text/html": [
       "<div>\n",
       "<style scoped>\n",
       "    .dataframe tbody tr th:only-of-type {\n",
       "        vertical-align: middle;\n",
       "    }\n",
       "\n",
       "    .dataframe tbody tr th {\n",
       "        vertical-align: top;\n",
       "    }\n",
       "\n",
       "    .dataframe thead th {\n",
       "        text-align: right;\n",
       "    }\n",
       "</style>\n",
       "<table border=\"1\" class=\"dataframe\">\n",
       "  <thead>\n",
       "    <tr style=\"text-align: right;\">\n",
       "      <th></th>\n",
       "      <th>排名</th>\n",
       "      <th>国家奥委会</th>\n",
       "      <th>金牌数</th>\n",
       "      <th>银牌数</th>\n",
       "      <th>铜牌数</th>\n",
       "      <th>总分</th>\n",
       "      <th>按总数排名</th>\n",
       "      <th>国家奥委会代码</th>\n",
       "    </tr>\n",
       "  </thead>\n",
       "  <tbody>\n",
       "    <tr>\n",
       "      <th>0</th>\n",
       "      <td>1</td>\n",
       "      <td>美国</td>\n",
       "      <td>39</td>\n",
       "      <td>41</td>\n",
       "      <td>33</td>\n",
       "      <td>113</td>\n",
       "      <td>1</td>\n",
       "      <td>USA</td>\n",
       "    </tr>\n",
       "    <tr>\n",
       "      <th>1</th>\n",
       "      <td>2</td>\n",
       "      <td>中国</td>\n",
       "      <td>38</td>\n",
       "      <td>32</td>\n",
       "      <td>18</td>\n",
       "      <td>88</td>\n",
       "      <td>2</td>\n",
       "      <td>CHN</td>\n",
       "    </tr>\n",
       "    <tr>\n",
       "      <th>2</th>\n",
       "      <td>3</td>\n",
       "      <td>日本</td>\n",
       "      <td>27</td>\n",
       "      <td>14</td>\n",
       "      <td>17</td>\n",
       "      <td>58</td>\n",
       "      <td>5</td>\n",
       "      <td>JPN</td>\n",
       "    </tr>\n",
       "    <tr>\n",
       "      <th>3</th>\n",
       "      <td>4</td>\n",
       "      <td>英国</td>\n",
       "      <td>22</td>\n",
       "      <td>21</td>\n",
       "      <td>22</td>\n",
       "      <td>65</td>\n",
       "      <td>4</td>\n",
       "      <td>GBR</td>\n",
       "    </tr>\n",
       "    <tr>\n",
       "      <th>4</th>\n",
       "      <td>5</td>\n",
       "      <td>ROC</td>\n",
       "      <td>20</td>\n",
       "      <td>28</td>\n",
       "      <td>23</td>\n",
       "      <td>71</td>\n",
       "      <td>3</td>\n",
       "      <td>ROC</td>\n",
       "    </tr>\n",
       "    <tr>\n",
       "      <th>...</th>\n",
       "      <td>...</td>\n",
       "      <td>...</td>\n",
       "      <td>...</td>\n",
       "      <td>...</td>\n",
       "      <td>...</td>\n",
       "      <td>...</td>\n",
       "      <td>...</td>\n",
       "      <td>...</td>\n",
       "    </tr>\n",
       "    <tr>\n",
       "      <th>88</th>\n",
       "      <td>86</td>\n",
       "      <td>加纳</td>\n",
       "      <td>0</td>\n",
       "      <td>0</td>\n",
       "      <td>1</td>\n",
       "      <td>1</td>\n",
       "      <td>77</td>\n",
       "      <td>GHA</td>\n",
       "    </tr>\n",
       "    <tr>\n",
       "      <th>89</th>\n",
       "      <td>86</td>\n",
       "      <td>格林纳达</td>\n",
       "      <td>0</td>\n",
       "      <td>0</td>\n",
       "      <td>1</td>\n",
       "      <td>1</td>\n",
       "      <td>77</td>\n",
       "      <td>GRN</td>\n",
       "    </tr>\n",
       "    <tr>\n",
       "      <th>90</th>\n",
       "      <td>86</td>\n",
       "      <td>科威特</td>\n",
       "      <td>0</td>\n",
       "      <td>0</td>\n",
       "      <td>1</td>\n",
       "      <td>1</td>\n",
       "      <td>77</td>\n",
       "      <td>KUW</td>\n",
       "    </tr>\n",
       "    <tr>\n",
       "      <th>91</th>\n",
       "      <td>86</td>\n",
       "      <td>摩尔多瓦</td>\n",
       "      <td>0</td>\n",
       "      <td>0</td>\n",
       "      <td>1</td>\n",
       "      <td>1</td>\n",
       "      <td>77</td>\n",
       "      <td>MDA</td>\n",
       "    </tr>\n",
       "    <tr>\n",
       "      <th>92</th>\n",
       "      <td>86</td>\n",
       "      <td>叙利亚</td>\n",
       "      <td>0</td>\n",
       "      <td>0</td>\n",
       "      <td>1</td>\n",
       "      <td>1</td>\n",
       "      <td>77</td>\n",
       "      <td>SYR</td>\n",
       "    </tr>\n",
       "  </tbody>\n",
       "</table>\n",
       "<p>93 rows × 8 columns</p>\n",
       "</div>"
      ],
      "text/plain": [
       "    排名 国家奥委会  金牌数  银牌数  铜牌数   总分  按总数排名 国家奥委会代码\n",
       "0    1    美国   39   41   33  113      1     USA\n",
       "1    2    中国   38   32   18   88      2     CHN\n",
       "2    3    日本   27   14   17   58      5     JPN\n",
       "3    4    英国   22   21   22   65      4     GBR\n",
       "4    5   ROC   20   28   23   71      3     ROC\n",
       "..  ..   ...  ...  ...  ...  ...    ...     ...\n",
       "88  86    加纳    0    0    1    1     77     GHA\n",
       "89  86  格林纳达    0    0    1    1     77     GRN\n",
       "90  86   科威特    0    0    1    1     77     KUW\n",
       "91  86  摩尔多瓦    0    0    1    1     77     MDA\n",
       "92  86   叙利亚    0    0    1    1     77     SYR\n",
       "\n",
       "[93 rows x 8 columns]"
      ]
     },
     "execution_count": 74,
     "metadata": {},
     "output_type": "execute_result"
    }
   ],
   "source": [
    "df"
   ]
  },
  {
   "cell_type": "code",
   "execution_count": 66,
   "id": "f1719c1b",
   "metadata": {},
   "outputs": [
    {
     "name": "stdout",
     "output_type": "stream",
     "text": [
      "2.0.0\n"
     ]
    }
   ],
   "source": [
    "print(pd.__version__)"
   ]
  }
 ],
 "metadata": {
  "kernelspec": {
   "display_name": "Python 3 (ipykernel)",
   "language": "python",
   "name": "python3"
  },
  "language_info": {
   "codemirror_mode": {
    "name": "ipython",
    "version": 3
   },
   "file_extension": ".py",
   "mimetype": "text/x-python",
   "name": "python",
   "nbconvert_exporter": "python",
   "pygments_lexer": "ipython3",
   "version": "3.10.10"
  }
 },
 "nbformat": 4,
 "nbformat_minor": 5
}
