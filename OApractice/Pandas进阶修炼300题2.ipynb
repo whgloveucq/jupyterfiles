{
 "cells": [
  {
   "cell_type": "markdown",
   "id": "10bb613e",
   "metadata": {},
   "source": [
    "# 初始化"
   ]
  },
  {
   "cell_type": "code",
   "execution_count": 1,
   "id": "12cf423f",
   "metadata": {},
   "outputs": [
    {
     "name": "stdout",
     "output_type": "stream",
     "text": [
      "***************正在初始化***************\n",
      "*************读取到配置文件*************\n",
      "***************初始化成功***************\n"
     ]
    }
   ],
   "source": [
    "import sys\n",
    "import os\n",
    "import pandas as pd\n",
    "os.chdir('data4')\n",
    "from inits import initialize,ans\n",
    "res = initialize(\"answer-4.txt\")"
   ]
  },
  {
   "cell_type": "markdown",
   "id": "bc819edc",
   "metadata": {},
   "source": [
    "# 加载数据"
   ]
  },
  {
   "cell_type": "code",
   "execution_count": 218,
   "id": "d8571cbb",
   "metadata": {},
   "outputs": [],
   "source": [
    "import pandas as pd\n",
    "df = pd.read_excel(\"2020年中国大学排名.xlsx\")"
   ]
  },
  {
   "cell_type": "markdown",
   "id": "89c823dc",
   "metadata": {},
   "source": [
    "## 1.查看数据"
   ]
  },
  {
   "cell_type": "code",
   "execution_count": 9,
   "id": "a7ad1aee",
   "metadata": {},
   "outputs": [
    {
     "data": {
      "text/html": [
       "<div>\n",
       "<style scoped>\n",
       "    .dataframe tbody tr th:only-of-type {\n",
       "        vertical-align: middle;\n",
       "    }\n",
       "\n",
       "    .dataframe tbody tr th {\n",
       "        vertical-align: top;\n",
       "    }\n",
       "\n",
       "    .dataframe thead th {\n",
       "        text-align: right;\n",
       "    }\n",
       "</style>\n",
       "<table border=\"1\" class=\"dataframe\">\n",
       "  <thead>\n",
       "    <tr style=\"text-align: right;\">\n",
       "      <th></th>\n",
       "      <th>排名</th>\n",
       "      <th>学校名称</th>\n",
       "      <th>省市</th>\n",
       "      <th>学校类型</th>\n",
       "      <th>总分</th>\n",
       "      <th>办学层次得分</th>\n",
       "      <th>学科水平得分</th>\n",
       "      <th>办学资源得分</th>\n",
       "      <th>师资规模与结构得分</th>\n",
       "      <th>人才培养得分</th>\n",
       "      <th>科学研究得分</th>\n",
       "      <th>社会服务得分</th>\n",
       "      <th>高端人才得分</th>\n",
       "      <th>重大项目与成果得分</th>\n",
       "      <th>国际竞争力得分</th>\n",
       "    </tr>\n",
       "  </thead>\n",
       "  <tbody>\n",
       "    <tr>\n",
       "      <th>0</th>\n",
       "      <td>1</td>\n",
       "      <td>清华大学</td>\n",
       "      <td>北京</td>\n",
       "      <td>综合</td>\n",
       "      <td>852.5</td>\n",
       "      <td>38.2</td>\n",
       "      <td>72.4</td>\n",
       "      <td>39.6</td>\n",
       "      <td>48.4</td>\n",
       "      <td>256.8</td>\n",
       "      <td>69.1</td>\n",
       "      <td>40.6</td>\n",
       "      <td>76.5</td>\n",
       "      <td>131.0</td>\n",
       "      <td>79.9</td>\n",
       "    </tr>\n",
       "    <tr>\n",
       "      <th>1</th>\n",
       "      <td>2</td>\n",
       "      <td>北京大学</td>\n",
       "      <td>北京</td>\n",
       "      <td>综合</td>\n",
       "      <td>746.7</td>\n",
       "      <td>36.1</td>\n",
       "      <td>73.1</td>\n",
       "      <td>24.6</td>\n",
       "      <td>49.2</td>\n",
       "      <td>237.6</td>\n",
       "      <td>71.0</td>\n",
       "      <td>16.2</td>\n",
       "      <td>71.9</td>\n",
       "      <td>105.8</td>\n",
       "      <td>61.2</td>\n",
       "    </tr>\n",
       "  </tbody>\n",
       "</table>\n",
       "</div>"
      ],
      "text/plain": [
       "   排名  学校名称  省市 学校类型     总分  办学层次得分  学科水平得分  办学资源得分  师资规模与结构得分  人才培养得分   \n",
       "0   1  清华大学  北京   综合  852.5    38.2    72.4    39.6       48.4   256.8  \\\n",
       "1   2  北京大学  北京   综合  746.7    36.1    73.1    24.6       49.2   237.6   \n",
       "\n",
       "   科学研究得分  社会服务得分  高端人才得分  重大项目与成果得分  国际竞争力得分  \n",
       "0    69.1    40.6    76.5      131.0     79.9  \n",
       "1    71.0    16.2    71.9      105.8     61.2  "
      ]
     },
     "execution_count": 9,
     "metadata": {},
     "output_type": "execute_result"
    }
   ],
   "source": [
    "df.head(2)"
   ]
  },
  {
   "cell_type": "markdown",
   "id": "e7d19d78",
   "metadata": {},
   "source": [
    "### 2 修改索引"
   ]
  },
  {
   "cell_type": "code",
   "execution_count": 16,
   "id": "ac869627",
   "metadata": {},
   "outputs": [],
   "source": [
    "# 创建示例数据框  \n",
    "df = pd.DataFrame({'name': ['Alice', 'Bob', 'Charlie'], 'age': [25, 30, 35]})  \n",
    "  \n",
    "# 设置索引  \n",
    "# df.set_index('name', inplace=True)  \n",
    "  \n",
    "# 重新设置索引  \n",
    "# df.reset_index(inplace=True)\n",
    "# 将索引重命名为 'names'  \n",
    "df.rename_axis('names', axis=0, inplace=True)"
   ]
  },
  {
   "cell_type": "code",
   "execution_count": null,
   "id": "41228bc6",
   "metadata": {},
   "outputs": [],
   "source": []
  },
  {
   "cell_type": "markdown",
   "id": "df2223c9",
   "metadata": {},
   "source": [
    "### 3 - 查看数据量"
   ]
  },
  {
   "cell_type": "code",
   "execution_count": 20,
   "id": "42c2ca39",
   "metadata": {},
   "outputs": [
    {
     "name": "stdout",
     "output_type": "stream",
     "text": [
      "数据量为：$100 \\times 15 = 1500$\n"
     ]
    }
   ],
   "source": [
    "# 查看数据量  \n",
    "size = df.shape[0] * df.shape[1]  \n",
    "print(f\"数据量为：${df.shape[0]} \\\\times {df.shape[1]} = {size}$\")\n",
    "# df.shape 返回数据框的行数和列数，分别存储在 df.shape[0] 和 df.shape[1] 中。通过将行数和列数相乘，即可得到数据框的总单元格数量。"
   ]
  },
  {
   "cell_type": "markdown",
   "id": "f9ac9cd3",
   "metadata": {},
   "source": [
    "### 4 - 数据排序"
   ]
  },
  {
   "cell_type": "code",
   "execution_count": 25,
   "id": "9dd4b7fb",
   "metadata": {},
   "outputs": [],
   "source": [
    "# df_sorted = df.sort_values(by='总分', ascending=True)  \n",
    "df_sorted = df.sort_values(by='高端人才得分', ascending=False)\n",
    "df_sorted = df_sorted.head(20)  \n",
    "# print(df_sorted)"
   ]
  },
  {
   "cell_type": "markdown",
   "id": "7b3d213d",
   "metadata": {},
   "source": [
    "### 6 - 分列排名"
   ]
  },
  {
   "cell_type": "code",
   "execution_count": 35,
   "id": "8560fb44",
   "metadata": {},
   "outputs": [
    {
     "data": {
      "text/html": [
       "<div>\n",
       "<style scoped>\n",
       "    .dataframe tbody tr th:only-of-type {\n",
       "        vertical-align: middle;\n",
       "    }\n",
       "\n",
       "    .dataframe tbody tr th {\n",
       "        vertical-align: top;\n",
       "    }\n",
       "\n",
       "    .dataframe thead th {\n",
       "        text-align: right;\n",
       "    }\n",
       "</style>\n",
       "<table border=\"1\" class=\"dataframe\">\n",
       "  <thead>\n",
       "    <tr style=\"text-align: right;\">\n",
       "      <th>学校类型</th>\n",
       "      <th>农业</th>\n",
       "      <th>师范</th>\n",
       "      <th>林业</th>\n",
       "      <th>理工</th>\n",
       "      <th>综合</th>\n",
       "      <th>Total</th>\n",
       "    </tr>\n",
       "    <tr>\n",
       "      <th>学校名称</th>\n",
       "      <th></th>\n",
       "      <th></th>\n",
       "      <th></th>\n",
       "      <th></th>\n",
       "      <th></th>\n",
       "      <th></th>\n",
       "    </tr>\n",
       "  </thead>\n",
       "  <tbody>\n",
       "    <tr>\n",
       "      <th>上海交通大学</th>\n",
       "      <td>0.00</td>\n",
       "      <td>0.00</td>\n",
       "      <td>0.0</td>\n",
       "      <td>0.000000</td>\n",
       "      <td>625.900000</td>\n",
       "      <td>625.9</td>\n",
       "    </tr>\n",
       "    <tr>\n",
       "      <th>上海大学</th>\n",
       "      <td>0.00</td>\n",
       "      <td>0.00</td>\n",
       "      <td>0.0</td>\n",
       "      <td>0.000000</td>\n",
       "      <td>290.000000</td>\n",
       "      <td>290.0</td>\n",
       "    </tr>\n",
       "    <tr>\n",
       "      <th>上海师范大学</th>\n",
       "      <td>0.00</td>\n",
       "      <td>212.80</td>\n",
       "      <td>0.0</td>\n",
       "      <td>0.000000</td>\n",
       "      <td>0.000000</td>\n",
       "      <td>212.8</td>\n",
       "    </tr>\n",
       "    <tr>\n",
       "      <th>上海理工大学</th>\n",
       "      <td>0.00</td>\n",
       "      <td>0.00</td>\n",
       "      <td>0.0</td>\n",
       "      <td>221.400000</td>\n",
       "      <td>0.000000</td>\n",
       "      <td>221.4</td>\n",
       "    </tr>\n",
       "    <tr>\n",
       "      <th>上海科技大学</th>\n",
       "      <td>0.00</td>\n",
       "      <td>0.00</td>\n",
       "      <td>0.0</td>\n",
       "      <td>0.000000</td>\n",
       "      <td>261.500000</td>\n",
       "      <td>261.5</td>\n",
       "    </tr>\n",
       "    <tr>\n",
       "      <th>...</th>\n",
       "      <td>...</td>\n",
       "      <td>...</td>\n",
       "      <td>...</td>\n",
       "      <td>...</td>\n",
       "      <td>...</td>\n",
       "      <td>...</td>\n",
       "    </tr>\n",
       "    <tr>\n",
       "      <th>重庆大学</th>\n",
       "      <td>0.00</td>\n",
       "      <td>0.00</td>\n",
       "      <td>0.0</td>\n",
       "      <td>0.000000</td>\n",
       "      <td>320.900000</td>\n",
       "      <td>320.9</td>\n",
       "    </tr>\n",
       "    <tr>\n",
       "      <th>长安大学</th>\n",
       "      <td>0.00</td>\n",
       "      <td>0.00</td>\n",
       "      <td>0.0</td>\n",
       "      <td>218.900000</td>\n",
       "      <td>0.000000</td>\n",
       "      <td>218.9</td>\n",
       "    </tr>\n",
       "    <tr>\n",
       "      <th>陕西师范大学</th>\n",
       "      <td>0.00</td>\n",
       "      <td>239.90</td>\n",
       "      <td>0.0</td>\n",
       "      <td>0.000000</td>\n",
       "      <td>0.000000</td>\n",
       "      <td>239.9</td>\n",
       "    </tr>\n",
       "    <tr>\n",
       "      <th>首都师范大学</th>\n",
       "      <td>0.00</td>\n",
       "      <td>233.40</td>\n",
       "      <td>0.0</td>\n",
       "      <td>0.000000</td>\n",
       "      <td>0.000000</td>\n",
       "      <td>233.4</td>\n",
       "    </tr>\n",
       "    <tr>\n",
       "      <th>Total</th>\n",
       "      <td>282.68</td>\n",
       "      <td>281.76</td>\n",
       "      <td>242.3</td>\n",
       "      <td>296.042857</td>\n",
       "      <td>365.307143</td>\n",
       "      <td>322.5</td>\n",
       "    </tr>\n",
       "  </tbody>\n",
       "</table>\n",
       "<p>101 rows × 6 columns</p>\n",
       "</div>"
      ],
      "text/plain": [
       "学校类型        农业      师范     林业          理工          综合  Total\n",
       "学校名称                                                        \n",
       "上海交通大学    0.00    0.00    0.0    0.000000  625.900000  625.9\n",
       "上海大学      0.00    0.00    0.0    0.000000  290.000000  290.0\n",
       "上海师范大学    0.00  212.80    0.0    0.000000    0.000000  212.8\n",
       "上海理工大学    0.00    0.00    0.0  221.400000    0.000000  221.4\n",
       "上海科技大学    0.00    0.00    0.0    0.000000  261.500000  261.5\n",
       "...        ...     ...    ...         ...         ...    ...\n",
       "重庆大学      0.00    0.00    0.0    0.000000  320.900000  320.9\n",
       "长安大学      0.00    0.00    0.0  218.900000    0.000000  218.9\n",
       "陕西师范大学    0.00  239.90    0.0    0.000000    0.000000  239.9\n",
       "首都师范大学    0.00  233.40    0.0    0.000000    0.000000  233.4\n",
       "Total   282.68  281.76  242.3  296.042857  365.307143  322.5\n",
       "\n",
       "[101 rows x 6 columns]"
      ]
     },
     "execution_count": 35,
     "metadata": {},
     "output_type": "execute_result"
    }
   ],
   "source": [
    "# 按照得分降序排列  \n",
    "df_sorted = df.sort_values(by='总分', ascending=False)  \n",
    "  \n",
    "# 获取排名第一的学校名称  \n",
    "top_school = df_sorted.iloc[0]['学校名称']  \n",
    "  \n",
    "# 按照各项得分进行分列排名  \n",
    "df_ranked = df.pivot_table(values='总分', index='学校名称', columns='学校类型', fill_value=0, margins=True, margins_name='Total')  \n",
    "  \n",
    "# 打印结果  \n",
    "df_ranked\n",
    "# top_school"
   ]
  },
  {
   "cell_type": "markdown",
   "id": "21e8a3b2",
   "metadata": {},
   "source": [
    "### 7 - 统计信息｜均值"
   ]
  },
  {
   "cell_type": "code",
   "execution_count": 34,
   "id": "42b75a3b",
   "metadata": {},
   "outputs": [
    {
     "name": "stdout",
     "output_type": "stream",
     "text": [
      "总分列的均值为：322.5\n"
     ]
    }
   ],
   "source": [
    "# 计算总分列的均值  \n",
    "total_score_mean = df['总分'].mean()  \n",
    "  \n",
    "# 打印结果  \n",
    "print(f\"总分列的均值为：{total_score_mean}\")"
   ]
  },
  {
   "cell_type": "markdown",
   "id": "87b84cce",
   "metadata": {},
   "source": [
    "### 8 - 统计信息｜中位数"
   ]
  },
  {
   "cell_type": "code",
   "execution_count": 37,
   "id": "ef8a1e7c",
   "metadata": {},
   "outputs": [
    {
     "name": "stdout",
     "output_type": "stream",
     "text": [
      "总分列的中位数为：279.65\n"
     ]
    }
   ],
   "source": [
    "# 计算总分列的中位数  \n",
    "total_score_median = df['总分'].median()  \n",
    "  \n",
    "# 打印结果  \n",
    "print(f\"总分列的中位数为：{total_score_median}\")"
   ]
  },
  {
   "cell_type": "markdown",
   "id": "d5f65482",
   "metadata": {},
   "source": [
    "### 9 - 统计信息｜众数"
   ]
  },
  {
   "cell_type": "code",
   "execution_count": 38,
   "id": "257a5c7b",
   "metadata": {},
   "outputs": [
    {
     "name": "stdout",
     "output_type": "stream",
     "text": [
      "总分列的众数为：233.4\n"
     ]
    }
   ],
   "source": [
    "# 计算总分列的众数  \n",
    "total_score_mode = df['总分'].mode()[0]  \n",
    "  \n",
    "# 打印结果  \n",
    "print(f\"总分列的众数为：{total_score_mode}\")\n"
   ]
  },
  {
   "cell_type": "markdown",
   "id": "32caa6d7",
   "metadata": {},
   "source": [
    "### 10 -统计信息｜部分"
   ]
  },
  {
   "cell_type": "code",
   "execution_count": 49,
   "id": "8fea892c",
   "metadata": {},
   "outputs": [],
   "source": [
    "# 计算总分、高端人才得分和办学层次得分  \n",
    "total_score = df['总分']\n",
    "high_talent_score = df['高端人才得分']\n",
    "level_score = df['学科水平得分']  \n",
    "  \n",
    "# 计算总分的最大值、最小值、中位数和均值  \n",
    "total_score_max = total_score.max()  \n",
    "total_score_min = total_score.min()  \n",
    "total_score_median = total_score.median()  \n",
    "total_score_mean = total_score.mean()  \n",
    "  \n",
    "# 计算高端人才得分的最大值、最小值、中位数和均值  \n",
    "high_talent_score_max = high_talent_score.max()  \n",
    "high_talent_score_min = high_talent_score.min()  \n",
    "high_talent_score_median = high_talent_score.median()  \n",
    "high_talent_score_mean = high_talent_score.mean()  \n",
    "  \n",
    "# 计算办学层次得分的最大值、最小值、中位数和均值  \n",
    "level_score_max = level_score.max()  \n",
    "# print(total_score_max)"
   ]
  },
  {
   "cell_type": "markdown",
   "id": "abb18013",
   "metadata": {},
   "source": [
    "### 11 - 统计信息｜完整"
   ]
  },
  {
   "cell_type": "code",
   "execution_count": 54,
   "id": "65a8a594",
   "metadata": {},
   "outputs": [
    {
     "name": "stdout",
     "output_type": "stream",
     "text": [
      "均值：322.5\n",
      "中位数：279.65\n",
      "四分位数：第一季度：244.18，第三季度：378.8\n"
     ]
    }
   ],
   "source": [
    "import numpy as np\n",
    "# 计算均值并保留两位小数  \n",
    "mean_value = round(np.mean(df['总分']) , 2)  \n",
    "print(f\"均值：{mean_value}\")  \n",
    "  \n",
    "# 计算中位数并保留两位小数  \n",
    "median_value = round(np.median(df['总分']), 2)  \n",
    "print(f\"中位数：{median_value}\")  \n",
    "  \n",
    "# 计算分位数并保留两位小数  \n",
    "q1_value = round(np.percentile(df['总分'], 25), 2)  \n",
    "q3_value = round(np.percentile(df['总分'], 75), 2)  \n",
    "print(f\"四分位数：第一季度：{q1_value}，第三季度：{q3_value}\")\n"
   ]
  },
  {
   "cell_type": "markdown",
   "id": "74b39d3b",
   "metadata": {},
   "source": [
    "### 12 - 统计信息｜分组"
   ]
  },
  {
   "cell_type": "code",
   "execution_count": 67,
   "id": "d1db545c",
   "metadata": {},
   "outputs": [],
   "source": [
    "# 计算各省市总分均值\n",
    "# 按省市进行分组，并计算总分均值  \n",
    "grouped_data = df.groupby('省市')['总分'].mean()\n",
    "# grouped_data.items()\n",
    "# 打印结果  \n",
    "for province, mean_score in grouped_data.items():  \n",
    "#     print(f\"{province}: {round(mean_score,2)}\")\n",
    "    pass\n"
   ]
  },
  {
   "cell_type": "markdown",
   "id": "dcf631df",
   "metadata": {},
   "source": [
    "### 13 - 统计信息｜相关系数"
   ]
  },
  {
   "cell_type": "code",
   "execution_count": 83,
   "id": "d5efad01",
   "metadata": {},
   "outputs": [
    {
     "data": {
      "text/html": [
       "<div>\n",
       "<style scoped>\n",
       "    .dataframe tbody tr th:only-of-type {\n",
       "        vertical-align: middle;\n",
       "    }\n",
       "\n",
       "    .dataframe tbody tr th {\n",
       "        vertical-align: top;\n",
       "    }\n",
       "\n",
       "    .dataframe thead th {\n",
       "        text-align: right;\n",
       "    }\n",
       "</style>\n",
       "<table border=\"1\" class=\"dataframe\">\n",
       "  <thead>\n",
       "    <tr style=\"text-align: right;\">\n",
       "      <th></th>\n",
       "      <th>排名</th>\n",
       "      <th>学校名称</th>\n",
       "      <th>省市</th>\n",
       "      <th>学校类型</th>\n",
       "      <th>总分</th>\n",
       "      <th>办学层次得分</th>\n",
       "      <th>学科水平得分</th>\n",
       "      <th>办学资源得分</th>\n",
       "      <th>师资规模与结构得分</th>\n",
       "      <th>人才培养得分</th>\n",
       "      <th>科学研究得分</th>\n",
       "      <th>社会服务得分</th>\n",
       "      <th>高端人才得分</th>\n",
       "      <th>重大项目与成果得分</th>\n",
       "      <th>国际竞争力得分</th>\n",
       "    </tr>\n",
       "  </thead>\n",
       "  <tbody>\n",
       "    <tr>\n",
       "      <th>0</th>\n",
       "      <td>1</td>\n",
       "      <td>清华大学</td>\n",
       "      <td>北京</td>\n",
       "      <td>综合</td>\n",
       "      <td>852.5</td>\n",
       "      <td>38.2</td>\n",
       "      <td>72.4</td>\n",
       "      <td>39.6</td>\n",
       "      <td>48.4</td>\n",
       "      <td>256.8</td>\n",
       "      <td>69.1</td>\n",
       "      <td>40.6</td>\n",
       "      <td>76.5</td>\n",
       "      <td>131.0</td>\n",
       "      <td>79.9</td>\n",
       "    </tr>\n",
       "    <tr>\n",
       "      <th>1</th>\n",
       "      <td>2</td>\n",
       "      <td>北京大学</td>\n",
       "      <td>北京</td>\n",
       "      <td>综合</td>\n",
       "      <td>746.7</td>\n",
       "      <td>36.1</td>\n",
       "      <td>73.1</td>\n",
       "      <td>24.6</td>\n",
       "      <td>49.2</td>\n",
       "      <td>237.6</td>\n",
       "      <td>71.0</td>\n",
       "      <td>16.2</td>\n",
       "      <td>71.9</td>\n",
       "      <td>105.8</td>\n",
       "      <td>61.2</td>\n",
       "    </tr>\n",
       "  </tbody>\n",
       "</table>\n",
       "</div>"
      ],
      "text/plain": [
       "   排名  学校名称  省市 学校类型     总分  办学层次得分  学科水平得分  办学资源得分  师资规模与结构得分  人才培养得分   \n",
       "0   1  清华大学  北京   综合  852.5    38.2    72.4    39.6       48.4   256.8  \\\n",
       "1   2  北京大学  北京   综合  746.7    36.1    73.1    24.6       49.2   237.6   \n",
       "\n",
       "   科学研究得分  社会服务得分  高端人才得分  重大项目与成果得分  国际竞争力得分  \n",
       "0    69.1    40.6    76.5      131.0     79.9  \n",
       "1    71.0    16.2    71.9      105.8     61.2  "
      ]
     },
     "execution_count": 83,
     "metadata": {},
     "output_type": "execute_result"
    }
   ],
   "source": [
    "df.head(2)"
   ]
  },
  {
   "cell_type": "code",
   "execution_count": 82,
   "id": "1eb6a2ff",
   "metadata": {},
   "outputs": [
    {
     "data": {
      "text/html": [
       "<div>\n",
       "<style scoped>\n",
       "    .dataframe tbody tr th:only-of-type {\n",
       "        vertical-align: middle;\n",
       "    }\n",
       "\n",
       "    .dataframe tbody tr th {\n",
       "        vertical-align: top;\n",
       "    }\n",
       "\n",
       "    .dataframe thead th {\n",
       "        text-align: right;\n",
       "    }\n",
       "</style>\n",
       "<table border=\"1\" class=\"dataframe\">\n",
       "  <thead>\n",
       "    <tr style=\"text-align: right;\">\n",
       "      <th></th>\n",
       "      <th>总分</th>\n",
       "      <th>办学层次得分</th>\n",
       "      <th>学科水平得分</th>\n",
       "      <th>师资规模与结构得分</th>\n",
       "      <th>科学研究得分</th>\n",
       "    </tr>\n",
       "  </thead>\n",
       "  <tbody>\n",
       "    <tr>\n",
       "      <th>总分</th>\n",
       "      <td>1.000000</td>\n",
       "      <td>0.793589</td>\n",
       "      <td>0.934838</td>\n",
       "      <td>0.829229</td>\n",
       "      <td>0.942001</td>\n",
       "    </tr>\n",
       "    <tr>\n",
       "      <th>办学层次得分</th>\n",
       "      <td>0.793589</td>\n",
       "      <td>1.000000</td>\n",
       "      <td>0.703688</td>\n",
       "      <td>0.755698</td>\n",
       "      <td>0.711259</td>\n",
       "    </tr>\n",
       "    <tr>\n",
       "      <th>学科水平得分</th>\n",
       "      <td>0.934838</td>\n",
       "      <td>0.703688</td>\n",
       "      <td>1.000000</td>\n",
       "      <td>0.778855</td>\n",
       "      <td>0.929943</td>\n",
       "    </tr>\n",
       "    <tr>\n",
       "      <th>师资规模与结构得分</th>\n",
       "      <td>0.829229</td>\n",
       "      <td>0.755698</td>\n",
       "      <td>0.778855</td>\n",
       "      <td>1.000000</td>\n",
       "      <td>0.806259</td>\n",
       "    </tr>\n",
       "    <tr>\n",
       "      <th>科学研究得分</th>\n",
       "      <td>0.942001</td>\n",
       "      <td>0.711259</td>\n",
       "      <td>0.929943</td>\n",
       "      <td>0.806259</td>\n",
       "      <td>1.000000</td>\n",
       "    </tr>\n",
       "  </tbody>\n",
       "</table>\n",
       "</div>"
      ],
      "text/plain": [
       "                 总分    办学层次得分    学科水平得分  师资规模与结构得分    科学研究得分\n",
       "总分         1.000000  0.793589  0.934838   0.829229  0.942001\n",
       "办学层次得分     0.793589  1.000000  0.703688   0.755698  0.711259\n",
       "学科水平得分     0.934838  0.703688  1.000000   0.778855  0.929943\n",
       "师资规模与结构得分  0.829229  0.755698  0.778855   1.000000  0.806259\n",
       "科学研究得分     0.942001  0.711259  0.929943   0.806259  1.000000"
      ]
     },
     "execution_count": 82,
     "metadata": {},
     "output_type": "execute_result"
    }
   ],
   "source": [
    "# 计算相关系数矩阵  \n",
    "correlation_matrix = df[['总分','办学层次得分','学科水平得分','师资规模与结构得分','科学研究得分']].corr()  \n",
    "  \n",
    "# 打印结果  \n",
    "correlation_matrix\n",
    "# print(correlation_matrix)\n",
    "# 测试结果未出"
   ]
  },
  {
   "cell_type": "markdown",
   "id": "4446efe8",
   "metadata": {},
   "source": [
    "### 14 - 相关系数｜热力图"
   ]
  },
  {
   "cell_type": "code",
   "execution_count": 95,
   "id": "3201fee9",
   "metadata": {},
   "outputs": [
    {
     "data": {
      "text/plain": [
       "Text(48.26909722222221, 0.5, 'Variables')"
      ]
     },
     "execution_count": 95,
     "metadata": {},
     "output_type": "execute_result"
    },
    {
     "data": {
      "image/png": "[encoded data removed]",
      "text/plain": [
       "<Figure size 640x480 with 2 Axes>"
      ]
     },
     "metadata": {},
     "output_type": "display_data"
    }
   ],
   "source": [
    "import matplotlib.pyplot as plt  \n",
    "import seaborn as sns  \n",
    "plt.rcParams['font.family'] = ['SimHei']  # 黑体字体  \n",
    "plt.rcParams['font.size'] = 12  # 字体大小\n",
    "correlation_matrix = df[['总分','办学层次得分','学科水平得分','师资规模与结构得分','科学研究得分']].corr()  \n",
    "\n",
    "# 绘制热力图  \n",
    "sns.heatmap(correlation_matrix, annot=True, cmap=\"coolwarm\")  \n",
    "  \n",
    "# 添加标题和标签  \n",
    "plt.title(\"Correlation Heatmap\")  \n",
    "plt.xlabel(\"Variables\")  \n",
    "plt.ylabel(\"Variables\")  \n",
    "  \n",
    "# 显示图像  \n",
    "# plt.show()"
   ]
  },
  {
   "cell_type": "markdown",
   "id": "6dd61c77",
   "metadata": {},
   "source": [
    "### 15 - 统计信息｜频率"
   ]
  },
  {
   "cell_type": "code",
   "execution_count": 149,
   "id": "bd19ade5",
   "metadata": {},
   "outputs": [
    {
     "data": {
      "text/plain": [
       "省市\n",
       "北京    18\n",
       "江苏    15\n",
       "Name: count, dtype: int64"
      ]
     },
     "execution_count": 149,
     "metadata": {},
     "output_type": "execute_result"
    }
   ],
   "source": [
    "# 计算各省市出现的次数\n",
    "count=df['省市'].value_counts()\n",
    "count[:2]"
   ]
  },
  {
   "cell_type": "code",
   "execution_count": 154,
   "id": "216eb298",
   "metadata": {},
   "outputs": [],
   "source": [
    "# count2=count.to_frame()\n",
    "# count2.reset_index()"
   ]
  },
  {
   "cell_type": "code",
   "execution_count": 232,
   "id": "0ab49d68",
   "metadata": {},
   "outputs": [
    {
     "data": {
      "text/plain": [
       "<pyecharts.charts.basic_charts.map.Map at 0x1e39b1b3df0>"
      ]
     },
     "execution_count": 232,
     "metadata": {},
     "output_type": "execute_result"
    }
   ],
   "source": [
    "from pyecharts import options as opts  \n",
    "from pyecharts.charts import Map  \n",
    "map_chart.render(\"college_ranking_heatmap.html\")\n",
    "# 设置地图的基本属性  \n",
    "map_chart = Map()  \n",
    "map_chart.set_global_opts(  \n",
    "    title_opts=opts.TitleOpts(title=\"各省市高校上榜数量热力地图\"),  \n",
    "    visualmap_opts=opts.VisualMapOpts(max_=50, is_piecewise=True),  \n",
    ")\n",
    "# 添加数据  \n",
    "data = [(\"北京市\", 20), (\"上海市\", 30), (\"河北省\", 10), (\"广东省\", 15), (\"湖南省\", 25)]  \n",
    "# count=df['省市'].value_counts().to_frame().reset_index()\n",
    "# count_list=[tuple(x) for x in count.values.tolist()][:5]\n",
    "map_chart.add(\"ww\", data, maptype=\"china\")"
   ]
  },
  {
   "cell_type": "code",
   "execution_count": 185,
   "id": "f0b0d350",
   "metadata": {},
   "outputs": [
    {
     "data": {
      "text/plain": [
       "tuple"
      ]
     },
     "execution_count": 185,
     "metadata": {},
     "output_type": "execute_result"
    }
   ],
   "source": [
    "type(('北京市', 20))"
   ]
  },
  {
   "cell_type": "code",
   "execution_count": 207,
   "id": "d04f4d7e",
   "metadata": {},
   "outputs": [
    {
     "name": "stdout",
     "output_type": "stream",
     "text": [
      "([1, 'hello'], [2, 'world'], [3, '!'])\n"
     ]
    }
   ],
   "source": [
    "import pandas as pd  \n",
    "  \n",
    "# 创建一个DataFrame对象  \n",
    "my_dataframe = pd.DataFrame({'A': [1, 2, 3], 'B': ['hello', 'world', '!']})  \n",
    "  \n",
    "# 将DataFrame转换为元组的数组  \n",
    "my_tuple_array = tuple(my_dataframe.values.tolist())  \n",
    "  \n",
    "print(my_tuple_array)  # 输出：[(1, 'hello'), (2, 'world'), (3, '!')]"
   ]
  },
  {
   "cell_type": "code",
   "execution_count": 148,
   "id": "f38dd9e9",
   "metadata": {},
   "outputs": [
    {
     "data": {
      "text/plain": [
       "([1, 'hello'], [2, 'world'], [3, '!'])"
      ]
     },
     "execution_count": 148,
     "metadata": {},
     "output_type": "execute_result"
    }
   ],
   "source": [
    "my_tuple_array"
   ]
  },
  {
   "cell_type": "code",
   "execution_count": 213,
   "id": "80e0f475",
   "metadata": {},
   "outputs": [
    {
     "name": "stdout",
     "output_type": "stream",
     "text": [
      "[(1, 'a'), (2, 'b'), (3, 'c')]\n"
     ]
    }
   ],
   "source": [
    "# 创建一个DataFrame  \n",
    "df = pd.DataFrame({'col1': [1, 2, 3], 'col2': ['a', 'b', 'c']})  \n",
    "  \n",
    "# 将两列转换为元组的数组  \n",
    "tuple_list = df.values.tolist()  # 获取两列的值并转换为列表  \n",
    "tuple_arr = [tuple(x) for x in tuple_list]  # 将每个元素转换为元组  \n",
    "  \n",
    "print(tuple_arr)"
   ]
  },
  {
   "cell_type": "code",
   "execution_count": 212,
   "id": "6c144240",
   "metadata": {},
   "outputs": [
    {
     "data": {
      "text/plain": [
       "[[1, 'a'], [2, 'b'], [3, 'c']]"
      ]
     },
     "execution_count": 212,
     "metadata": {},
     "output_type": "execute_result"
    }
   ],
   "source": [
    "tuple_list"
   ]
  },
  {
   "cell_type": "code",
   "execution_count": 214,
   "id": "3c55148a",
   "metadata": {},
   "outputs": [
    {
     "data": {
      "text/html": [
       "<div>\n",
       "<style scoped>\n",
       "    .dataframe tbody tr th:only-of-type {\n",
       "        vertical-align: middle;\n",
       "    }\n",
       "\n",
       "    .dataframe tbody tr th {\n",
       "        vertical-align: top;\n",
       "    }\n",
       "\n",
       "    .dataframe thead th {\n",
       "        text-align: right;\n",
       "    }\n",
       "</style>\n",
       "<table border=\"1\" class=\"dataframe\">\n",
       "  <thead>\n",
       "    <tr style=\"text-align: right;\">\n",
       "      <th></th>\n",
       "      <th>col1</th>\n",
       "      <th>col2</th>\n",
       "    </tr>\n",
       "  </thead>\n",
       "  <tbody>\n",
       "    <tr>\n",
       "      <th>0</th>\n",
       "      <td>1</td>\n",
       "      <td>a</td>\n",
       "    </tr>\n",
       "    <tr>\n",
       "      <th>1</th>\n",
       "      <td>2</td>\n",
       "      <td>b</td>\n",
       "    </tr>\n",
       "    <tr>\n",
       "      <th>2</th>\n",
       "      <td>3</td>\n",
       "      <td>c</td>\n",
       "    </tr>\n",
       "  </tbody>\n",
       "</table>\n",
       "</div>"
      ],
      "text/plain": [
       "   col1 col2\n",
       "0     1    a\n",
       "1     2    b\n",
       "2     3    c"
      ]
     },
     "execution_count": 214,
     "metadata": {},
     "output_type": "execute_result"
    }
   ],
   "source": [
    "df"
   ]
  },
  {
   "cell_type": "code",
   "execution_count": 90,
   "id": "d8fe60c0",
   "metadata": {},
   "outputs": [],
   "source": [
    "# df.index,df.columns\n",
    "\n",
    "# print('你好')\n"
   ]
  }
 ],
 "metadata": {
  "kernelspec": {
   "display_name": "Python 3 (ipykernel)",
   "language": "python",
   "name": "python3"
  },
  "language_info": {
   "codemirror_mode": {
    "name": "ipython",
    "version": 3
   },
   "file_extension": ".py",
   "mimetype": "text/x-python",
   "name": "python",
   "nbconvert_exporter": "python",
   "pygments_lexer": "ipython3",
   "version": "3.10.10"
  }
 },
 "nbformat": 4,
 "nbformat_minor": 5
}
