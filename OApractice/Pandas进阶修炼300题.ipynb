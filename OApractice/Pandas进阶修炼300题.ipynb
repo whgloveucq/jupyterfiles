{
 "cells": [
  {
   "cell_type": "code",
   "execution_count": null,
   "id": "3e169844-6c70-4f0d-af24-77197a11974a",
   "metadata": {},
   "outputs": [],
   "source": [
    "#https://www.heywhale.com/mw/project/6146c0318447b8001769ff20/content"
   ]
  },
  {
   "cell_type": "markdown",
   "id": "a5819008",
   "metadata": {},
   "source": [
    "# 1-1 数据读取"
   ]
  },
  {
   "cell_type": "markdown",
   "id": "31961149",
   "metadata": {},
   "source": [
    "## 1 读取excel文件"
   ]
  },
  {
   "cell_type": "code",
   "execution_count": 48,
   "id": "d384d21a",
   "metadata": {},
   "outputs": [],
   "source": [
    "import pandas as pd \n",
    "# import openpyxl\n",
    "filepath='Data/豆瓣书籍TOP250-20230604.xlsx'"
   ]
  },
  {
   "cell_type": "code",
   "execution_count": 2,
   "id": "f9d95393",
   "metadata": {},
   "outputs": [],
   "source": [
    "import pandas as pd \n",
    "# import openpyxl\n",
    "  \n",
    "# 读取 Excel 文件  \n",
    "df = pd.read_excel('Data/豆瓣书籍TOP250-20230604.xlsx', sheet_name='Sheet1')  \n",
    "  \n",
    "# 显示前 5 行数据  \n",
    "# print(df.head(5))"
   ]
  },
  {
   "cell_type": "markdown",
   "id": "7850635a",
   "metadata": {},
   "source": [
    "## 2 读取 Excel 文件｜指定位置"
   ]
  },
  {
   "cell_type": "code",
   "execution_count": 7,
   "id": "f2bd31bd",
   "metadata": {},
   "outputs": [],
   "source": [
    "# 读取 Excel 文件并指定位置  \n",
    "df = pd.read_excel('Data/豆瓣书籍TOP250-20230604.xlsx', sheet_name='Sheet1', skiprows=[0, 1], usecols=[0, 2])  \n",
    "  \n",
    "# 显示前 5 行数据  \n",
    "# print(df.head())\n",
    "# df.head(5)"
   ]
  },
  {
   "cell_type": "markdown",
   "id": "bb2c20ce",
   "metadata": {},
   "source": [
    "## 3读取 Excel 文件｜指定行（顺序）"
   ]
  },
  {
   "cell_type": "code",
   "execution_count": 11,
   "id": "842fe294",
   "metadata": {},
   "outputs": [],
   "source": [
    "# 要读取的行号（按顺序）  \n",
    "row_numbers = [0, 2, 4, 6]  \n",
    "  \n",
    "# 将行号转换为列表  \n",
    "skiprows = list(map(lambda x: x + 1, row_numbers))  \n",
    "  \n",
    "# 读取 Excel 文件并指定行号  \n",
    "df = pd.read_excel('Data/豆瓣书籍TOP250-20230604.xlsx', sheet_name='Sheet1', skiprows=skiprows)  \n",
    "  \n",
    "# 显示前 5 行数据  \n",
    "# print(df.head())\n",
    "# df.head()"
   ]
  },
  {
   "cell_type": "markdown",
   "id": "a3f8181b",
   "metadata": {},
   "source": [
    "## 4读取 Excel 文件｜指定行（跳过）"
   ]
  },
  {
   "cell_type": "code",
   "execution_count": 13,
   "id": "95bb779a",
   "metadata": {},
   "outputs": [],
   "source": [
    "# 跳过前两行  \n",
    "skiprows = 2  \n",
    "filepath='Data/豆瓣书籍TOP250-20230604.xlsx'\n",
    "# 读取 Excel 文件并跳过行  \n",
    "df = pd.read_excel(filepath, sheet_name='Sheet1', skiprows=skiprows)  \n",
    "  \n",
    "# 显示前 5 行数据  \n",
    "# print(df.head())"
   ]
  },
  {
   "cell_type": "markdown",
   "id": "9c176e49",
   "metadata": {},
   "source": [
    "## 5 读取 Excel 文件｜指定行（条件）"
   ]
  },
  {
   "cell_type": "code",
   "execution_count": 16,
   "id": "9e6defa0",
   "metadata": {},
   "outputs": [],
   "source": [
    "# 读取 Excel 文件  \n",
    "df = pd.read_excel(filepath, sheet_name='Sheet1')  \n",
    "  \n",
    "# 基于条件选择行  \n",
    "df_filtered = df.query('书籍排名 > 10')  \n",
    "  \n",
    "# 显示前 5 行数据  \n",
    "# print(df_filtered.head())"
   ]
  },
  {
   "cell_type": "markdown",
   "id": "6bf181e4",
   "metadata": {},
   "source": [
    "## 6 读取 Excel 文件｜指定列（列号）"
   ]
  },
  {
   "cell_type": "code",
   "execution_count": 20,
   "id": "3d0e48ac",
   "metadata": {},
   "outputs": [],
   "source": [
    "# 要选择的列的列号  \n",
    "column_numbers = [0, 2, 4]  \n",
    "  \n",
    "# 将列号转换为列表  \n",
    "usecols = list(map(lambda x: x + 1, column_numbers))  \n",
    "  \n",
    "# 读取 Excel 文件并指定列号  \n",
    "df = pd.read_excel(filepath, sheet_name='Sheet1', usecols=usecols)  \n",
    "  \n",
    "# 显示前 5 行数据  \n",
    "# print(df.head())"
   ]
  },
  {
   "cell_type": "markdown",
   "id": "bf8ee658",
   "metadata": {},
   "source": [
    "## 7 读取 Excel 文件｜指定列（列名）"
   ]
  },
  {
   "cell_type": "code",
   "execution_count": 23,
   "id": "11d205f7",
   "metadata": {},
   "outputs": [],
   "source": [
    "# 要选择的列的列名  \n",
    "column_names = ['书籍名称', '书籍作者', '书籍出版社']  \n",
    "  \n",
    "# 将列名转换为列表  \n",
    "usecols = column_names  \n",
    "  \n",
    "# 读取 Excel 文件并指定列名  \n",
    "df = pd.read_excel(filepath, sheet_name='Sheet1', usecols=usecols)  \n",
    "  \n",
    "# 显示前 5 行数据  \n",
    "# print(df.head())"
   ]
  },
  {
   "cell_type": "markdown",
   "id": "beaaa24b",
   "metadata": {},
   "source": [
    "## 8 读取 Excel 文件｜指定列（匹配）"
   ]
  },
  {
   "cell_type": "code",
   "execution_count": 26,
   "id": "8a4b0ac5",
   "metadata": {},
   "outputs": [
    {
     "name": "stdout",
     "output_type": "stream",
     "text": [
      "0               红楼梦\n",
      "1                活着\n",
      "2              1984\n",
      "3              百年孤独\n",
      "4              三体全集\n",
      "           ...     \n",
      "245          李光耀观天下\n",
      "246            步履不停\n",
      "247         分成两半的子爵\n",
      "248    跨越边界的社区（修订版）\n",
      "249           此生未完成\n",
      "Name: 书籍名称, Length: 250, dtype: object\n"
     ]
    }
   ],
   "source": [
    "# 读取 Excel 文件  \n",
    "df = pd.read_excel(filepath, sheet_name='Sheet1')  \n",
    "  \n",
    "# 指定列  \n",
    "column_name = '书籍名称'  \n",
    "df =df[column_name]\n",
    "  \n",
    "# 打印结果  \n",
    "print(df)"
   ]
  },
  {
   "cell_type": "markdown",
   "id": "02c6fb40",
   "metadata": {},
   "source": [
    "## 9 读取 Excel 文件｜指定索引"
   ]
  },
  {
   "cell_type": "code",
   "execution_count": 27,
   "id": "d2af6605",
   "metadata": {},
   "outputs": [
    {
     "name": "stdout",
     "output_type": "stream",
     "text": [
      "书籍排名                                               4\n",
      "书籍名称                                            百年孤独\n",
      "书籍详情链接地址    https://book.douban.com/subject/6082808/\n",
      "书籍作者                           [哥伦比亚] 加西亚·马尔克斯 / 范晔 \n",
      "书籍出版社                                        南海出版公司 \n",
      "书籍年份                                         2011-6 \n",
      "书籍价格                                          39.50元\n",
      "书籍评分                                             9.3\n",
      "评分人数                                       403170人评价\n",
      "书籍感悟                                     魔幻现实主义文学代表作\n",
      "Name: 3, dtype: object\n"
     ]
    }
   ],
   "source": [
    "# 读取 Excel 文件  \n",
    "df = pd.read_excel(filepath, sheet_name='Sheet1')  \n",
    "  \n",
    "# 指定索引  \n",
    "index_number = 3  \n",
    "  \n",
    "# 根据索引匹配读取  \n",
    "df = df.iloc[index_number]  \n",
    "  \n",
    "# 打印结果  \n",
    "print(df)"
   ]
  },
  {
   "cell_type": "markdown",
   "id": "c621cadc",
   "metadata": {},
   "source": [
    "## 10 读取 Excel 文件｜指定标题"
   ]
  },
  {
   "cell_type": "code",
   "execution_count": 7,
   "id": "cab655e8",
   "metadata": {},
   "outputs": [],
   "source": [
    "# 读取 Excel 文件  \n",
    "df = pd.read_excel(filepath, sheet_name='Sheet1')  \n",
    "  \n",
    "# 指定标题  \n",
    "# header_name = ['书籍名称']\n",
    "  \n",
    "# 根据标题匹配读取  \n",
    "# df = df[df.columns == header_name]  \n",
    "  \n",
    "# 打印结果  \n",
    "# print(df)\n",
    "# no result"
   ]
  },
  {
   "cell_type": "markdown",
   "id": "d8a438e5",
   "metadata": {},
   "source": [
    "## 11 读取 Excel 文件｜缺失值转换"
   ]
  },
  {
   "cell_type": "code",
   "execution_count": 10,
   "id": "4ee7b542",
   "metadata": {},
   "outputs": [],
   "source": [
    "# 读取 Excel 文件  \n",
    "df = pd.read_excel(filepath, sheet_name='Sheet1')  \n",
    "  \n",
    "# 将缺失值转换为其他值  \n",
    "df = df.fillna(0)  \n",
    "# 将指定列的缺失值替换为 0  \n",
    "# df['column_name'] = df['column_name'].fillna(0)\n",
    "  \n",
    "# 打印结果  \n",
    "# print(df)"
   ]
  },
  {
   "cell_type": "markdown",
   "id": "41f99c55",
   "metadata": {},
   "source": [
    "## 12 读取 Excel 文件｜缺失值标记"
   ]
  },
  {
   "cell_type": "code",
   "execution_count": 35,
   "id": "8ff025f1",
   "metadata": {},
   "outputs": [
    {
     "data": {
      "text/html": [
       "<div>\n",
       "<style scoped>\n",
       "    .dataframe tbody tr th:only-of-type {\n",
       "        vertical-align: middle;\n",
       "    }\n",
       "\n",
       "    .dataframe tbody tr th {\n",
       "        vertical-align: top;\n",
       "    }\n",
       "\n",
       "    .dataframe thead th {\n",
       "        text-align: right;\n",
       "    }\n",
       "</style>\n",
       "<table border=\"1\" class=\"dataframe\">\n",
       "  <thead>\n",
       "    <tr style=\"text-align: right;\">\n",
       "      <th></th>\n",
       "      <th>书籍排名</th>\n",
       "      <th>书籍名称</th>\n",
       "      <th>书籍详情链接地址</th>\n",
       "      <th>书籍作者</th>\n",
       "      <th>书籍出版社</th>\n",
       "      <th>书籍年份</th>\n",
       "      <th>书籍价格</th>\n",
       "      <th>书籍评分</th>\n",
       "      <th>评分人数</th>\n",
       "      <th>书籍感悟</th>\n",
       "    </tr>\n",
       "  </thead>\n",
       "  <tbody>\n",
       "    <tr>\n",
       "      <th>9</th>\n",
       "      <td>10</td>\n",
       "      <td>三国演义（全二册）</td>\n",
       "      <td>https://book.douban.com/subject/1019568/</td>\n",
       "      <td>[明] 罗贯中</td>\n",
       "      <td>人民文学出版社</td>\n",
       "      <td>1998-05</td>\n",
       "      <td>39.50元</td>\n",
       "      <td>9.8</td>\n",
       "      <td>159748人评价</td>\n",
       "      <td>NaN</td>\n",
       "    </tr>\n",
       "  </tbody>\n",
       "</table>\n",
       "</div>"
      ],
      "text/plain": [
       "   书籍排名       书籍名称                                  书籍详情链接地址      书籍作者   \n",
       "9    10  三国演义（全二册）  https://book.douban.com/subject/1019568/  [明] 罗贯中   \\\n",
       "\n",
       "       书籍出版社       书籍年份     书籍价格  书籍评分       评分人数 书籍感悟  \n",
       "9   人民文学出版社    1998-05    39.50元   9.8  159748人评价  NaN  "
      ]
     },
     "execution_count": 35,
     "metadata": {},
     "output_type": "execute_result"
    }
   ],
   "source": [
    "df = pd.read_excel(filepath, sheet_name='Sheet1')  \n",
    "  \n",
    "# 将指定列中值为 [] 的数据标记为缺失值  \n",
    "df['书籍感悟'] = df['书籍感悟'].apply(lambda x: pd.NA if x == '[]' else x)  \n",
    "df['书籍评分'] = df['书籍评分'].apply(lambda x: 9.8 if x ==9.3 else x)    \n",
    "# 打印结果  \n",
    "# print(df)\n",
    "df.query(\"书籍名称=='三国演义（全二册）'\")"
   ]
  },
  {
   "cell_type": "markdown",
   "id": "7e947428",
   "metadata": {},
   "source": [
    "## 13 读取 Excel 文件｜忽略缺失值"
   ]
  },
  {
   "cell_type": "code",
   "execution_count": 50,
   "id": "f65744ef",
   "metadata": {},
   "outputs": [],
   "source": [
    "# 读取 Excel 文件并忽略缺失值  \n",
    "\n",
    "df = pd.read_excel(filepath, sheet_name='Sheet1', skiprows=lambda x: x == 0, keep_default_na=False)  \n",
    "# df.head(10)\n",
    "# 打印结果  \n",
    "# print(df)\n",
    "# df['书籍感悟'] = df['书籍感悟'].apply(lambda x: pd.NA if x == '[]' else x)  \n",
    "# df\n",
    "# df['书籍评分'] = df['书籍评分'].apply(lambda x: 9.8 if x ==9.35 else x)    \n",
    "# df.query(\"书籍名称=='三国演义（全二册）'\")\n",
    "\n",
    "# 在上面的代码中，read_excel() 函数用于读取 Excel 文件。sheet_name 参数指定要读取的工作表的名称或索引。skiprows 参数使用一个 lambda 函数来跳过第一行（标题行），因为第一行通常包含列名，而 keep_default_na 参数设置为 False 表示忽略缺失值。请将 your_file_path.xlsx 替换为实际文件路径。最后，打印结果。"
   ]
  },
  {
   "cell_type": "code",
   "execution_count": 2,
   "id": "04066f99",
   "metadata": {},
   "outputs": [],
   "source": [
    "# 8-2\n",
    "import pandas as pd  \n",
    "  \n",
    "# 定义起始日期和结束日期  \n",
    "start_date = pd.Timestamp('2021-01-01')  \n",
    "end_date = pd.Timestamp('2021-09-01')  \n",
    "  \n",
    "# 生成日期列表  \n",
    "date_list = pd.date_range(start_date, end_date).tolist()  \n",
    "  \n",
    "# 输出日期列表  \n",
    "# print(date_list)"
   ]
  }
 ],
 "metadata": {
  "kernelspec": {
   "display_name": "Python 3 (ipykernel)",
   "language": "python",
   "name": "python3"
  },
  "language_info": {
   "codemirror_mode": {
    "name": "ipython",
    "version": 3
   },
   "file_extension": ".py",
   "mimetype": "text/x-python",
   "name": "python",
   "nbconvert_exporter": "python",
   "pygments_lexer": "ipython3",
   "version": "3.10.10"
  }
 },
 "nbformat": 4,
 "nbformat_minor": 5
}
