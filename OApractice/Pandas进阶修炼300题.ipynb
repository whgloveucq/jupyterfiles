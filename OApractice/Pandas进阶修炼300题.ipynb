{
 "cells": [
  {
   "cell_type": "code",
   "execution_count": null,
   "id": "3e169844-6c70-4f0d-af24-77197a11974a",
   "metadata": {},
   "outputs": [],
   "source": [
    "#https://www.heywhale.com/mw/project/6146c0318447b8001769ff20/content"
   ]
  },
  {
   "cell_type": "markdown",
   "id": "a5819008",
   "metadata": {},
   "source": [
    "# 1-1 数据读取"
   ]
  },
  {
   "cell_type": "markdown",
   "id": "31961149",
   "metadata": {},
   "source": [
    "## 1 读取excel文件"
   ]
  },
  {
   "cell_type": "code",
   "execution_count": 17,
   "id": "d384d21a",
   "metadata": {},
   "outputs": [],
   "source": [
    "import pandas as pd \n",
    "# import openpyxl\n",
    "filepath='Data/豆瓣书籍TOP250-20230604.xlsx'"
   ]
  },
  {
   "cell_type": "code",
   "execution_count": 2,
   "id": "f9d95393",
   "metadata": {},
   "outputs": [],
   "source": [
    "import pandas as pd \n",
    "# import openpyxl\n",
    "  \n",
    "# 读取 Excel 文件  \n",
    "df = pd.read_excel('Data/豆瓣书籍TOP250-20230604.xlsx', sheet_name='Sheet1')  \n",
    "  \n",
    "# 显示前 5 行数据  \n",
    "# print(df.head(5))"
   ]
  },
  {
   "cell_type": "markdown",
   "id": "7850635a",
   "metadata": {},
   "source": [
    "## 2 读取 Excel 文件｜指定位置"
   ]
  },
  {
   "cell_type": "code",
   "execution_count": 7,
   "id": "f2bd31bd",
   "metadata": {},
   "outputs": [],
   "source": [
    "# 读取 Excel 文件并指定位置  \n",
    "df = pd.read_excel('Data/豆瓣书籍TOP250-20230604.xlsx', sheet_name='Sheet1', skiprows=[0, 1], usecols=[0, 2])  \n",
    "  \n",
    "# 显示前 5 行数据  \n",
    "# print(df.head())\n",
    "# df.head(5)"
   ]
  },
  {
   "cell_type": "markdown",
   "id": "bb2c20ce",
   "metadata": {},
   "source": [
    "## 3读取 Excel 文件｜指定行（顺序）"
   ]
  },
  {
   "cell_type": "code",
   "execution_count": 11,
   "id": "842fe294",
   "metadata": {},
   "outputs": [],
   "source": [
    "# 要读取的行号（按顺序）  \n",
    "row_numbers = [0, 2, 4, 6]  \n",
    "  \n",
    "# 将行号转换为列表  \n",
    "skiprows = list(map(lambda x: x + 1, row_numbers))  \n",
    "  \n",
    "# 读取 Excel 文件并指定行号  \n",
    "df = pd.read_excel('Data/豆瓣书籍TOP250-20230604.xlsx', sheet_name='Sheet1', skiprows=skiprows)  \n",
    "  \n",
    "# 显示前 5 行数据  \n",
    "# print(df.head())\n",
    "# df.head()"
   ]
  },
  {
   "cell_type": "markdown",
   "id": "a3f8181b",
   "metadata": {},
   "source": [
    "## 4读取 Excel 文件｜指定行（跳过）"
   ]
  },
  {
   "cell_type": "code",
   "execution_count": 13,
   "id": "95bb779a",
   "metadata": {},
   "outputs": [],
   "source": [
    "# 跳过前两行  \n",
    "skiprows = 2  \n",
    "filepath='Data/豆瓣书籍TOP250-20230604.xlsx'\n",
    "# 读取 Excel 文件并跳过行  \n",
    "df = pd.read_excel(filepath, sheet_name='Sheet1', skiprows=skiprows)  \n",
    "  \n",
    "# 显示前 5 行数据  \n",
    "# print(df.head())"
   ]
  },
  {
   "cell_type": "markdown",
   "id": "9c176e49",
   "metadata": {},
   "source": [
    "## 5 读取 Excel 文件｜指定行（条件）"
   ]
  },
  {
   "cell_type": "code",
   "execution_count": 16,
   "id": "9e6defa0",
   "metadata": {},
   "outputs": [],
   "source": [
    "# 读取 Excel 文件  \n",
    "df = pd.read_excel(filepath, sheet_name='Sheet1')  \n",
    "  \n",
    "# 基于条件选择行  \n",
    "df_filtered = df.query('书籍排名 > 10')  \n",
    "  \n",
    "# 显示前 5 行数据  \n",
    "# print(df_filtered.head())"
   ]
  },
  {
   "cell_type": "markdown",
   "id": "6bf181e4",
   "metadata": {},
   "source": [
    "## 6 读取 Excel 文件｜指定列（列号）"
   ]
  },
  {
   "cell_type": "code",
   "execution_count": 20,
   "id": "3d0e48ac",
   "metadata": {},
   "outputs": [],
   "source": [
    "# 要选择的列的列号  \n",
    "column_numbers = [0, 2, 4]  \n",
    "  \n",
    "# 将列号转换为列表  \n",
    "usecols = list(map(lambda x: x + 1, column_numbers))  \n",
    "  \n",
    "# 读取 Excel 文件并指定列号  \n",
    "df = pd.read_excel(filepath, sheet_name='Sheet1', usecols=usecols)  \n",
    "  \n",
    "# 显示前 5 行数据  \n",
    "# print(df.head())"
   ]
  },
  {
   "cell_type": "markdown",
   "id": "bf8ee658",
   "metadata": {},
   "source": [
    "## 7 读取 Excel 文件｜指定列（列名）"
   ]
  },
  {
   "cell_type": "code",
   "execution_count": 23,
   "id": "11d205f7",
   "metadata": {},
   "outputs": [],
   "source": [
    "# 要选择的列的列名  \n",
    "column_names = ['书籍名称', '书籍作者', '书籍出版社']  \n",
    "  \n",
    "# 将列名转换为列表  \n",
    "usecols = column_names  \n",
    "  \n",
    "# 读取 Excel 文件并指定列名  \n",
    "df = pd.read_excel(filepath, sheet_name='Sheet1', usecols=usecols)  \n",
    "  \n",
    "# 显示前 5 行数据  \n",
    "# print(df.head())"
   ]
  },
  {
   "cell_type": "markdown",
   "id": "beaaa24b",
   "metadata": {},
   "source": [
    "## 8 读取 Excel 文件｜指定列（匹配）"
   ]
  },
  {
   "cell_type": "code",
   "execution_count": 26,
   "id": "8a4b0ac5",
   "metadata": {},
   "outputs": [
    {
     "name": "stdout",
     "output_type": "stream",
     "text": [
      "0               红楼梦\n",
      "1                活着\n",
      "2              1984\n",
      "3              百年孤独\n",
      "4              三体全集\n",
      "           ...     \n",
      "245          李光耀观天下\n",
      "246            步履不停\n",
      "247         分成两半的子爵\n",
      "248    跨越边界的社区（修订版）\n",
      "249           此生未完成\n",
      "Name: 书籍名称, Length: 250, dtype: object\n"
     ]
    }
   ],
   "source": [
    "# 读取 Excel 文件  \n",
    "df = pd.read_excel(filepath, sheet_name='Sheet1')  \n",
    "  \n",
    "# 指定列  \n",
    "column_name = '书籍名称'  \n",
    "df =df[column_name]\n",
    "  \n",
    "# 打印结果  \n",
    "print(df)"
   ]
  },
  {
   "cell_type": "markdown",
   "id": "02c6fb40",
   "metadata": {},
   "source": [
    "## 9 读取 Excel 文件｜指定索引"
   ]
  },
  {
   "cell_type": "code",
   "execution_count": 27,
   "id": "d2af6605",
   "metadata": {},
   "outputs": [
    {
     "name": "stdout",
     "output_type": "stream",
     "text": [
      "书籍排名                                               4\n",
      "书籍名称                                            百年孤独\n",
      "书籍详情链接地址    https://book.douban.com/subject/6082808/\n",
      "书籍作者                           [哥伦比亚] 加西亚·马尔克斯 / 范晔 \n",
      "书籍出版社                                        南海出版公司 \n",
      "书籍年份                                         2011-6 \n",
      "书籍价格                                          39.50元\n",
      "书籍评分                                             9.3\n",
      "评分人数                                       403170人评价\n",
      "书籍感悟                                     魔幻现实主义文学代表作\n",
      "Name: 3, dtype: object\n"
     ]
    }
   ],
   "source": [
    "# 读取 Excel 文件  \n",
    "df = pd.read_excel(filepath, sheet_name='Sheet1')  \n",
    "  \n",
    "# 指定索引  \n",
    "index_number = 3  \n",
    "  \n",
    "# 根据索引匹配读取  \n",
    "df = df.iloc[index_number]  \n",
    "  \n",
    "# 打印结果  \n",
    "print(df)"
   ]
  },
  {
   "cell_type": "markdown",
   "id": "c621cadc",
   "metadata": {},
   "source": [
    "## 10 读取 Excel 文件｜指定标题"
   ]
  },
  {
   "cell_type": "code",
   "execution_count": 32,
   "id": "cab655e8",
   "metadata": {},
   "outputs": [
    {
     "ename": "ValueError",
     "evalue": "Item wrong length 10 instead of 250.",
     "output_type": "error",
     "traceback": [
      "\u001b[1;31m---------------------------------------------------------------------------\u001b[0m",
      "\u001b[1;31mValueError\u001b[0m                                Traceback (most recent call last)",
      "Cell \u001b[1;32mIn[32], line 8\u001b[0m\n\u001b[0;32m      5\u001b[0m header_name \u001b[38;5;241m=\u001b[39m \u001b[38;5;124m'\u001b[39m\u001b[38;5;124m书籍名称\u001b[39m\u001b[38;5;124m'\u001b[39m  \n\u001b[0;32m      7\u001b[0m \u001b[38;5;66;03m# 根据标题匹配读取  \u001b[39;00m\n\u001b[1;32m----> 8\u001b[0m df \u001b[38;5;241m=\u001b[39m \u001b[43mdf\u001b[49m\u001b[43m[\u001b[49m\u001b[43mdf\u001b[49m\u001b[38;5;241;43m.\u001b[39;49m\u001b[43mcolumns\u001b[49m\u001b[43m \u001b[49m\u001b[38;5;241;43m==\u001b[39;49m\u001b[43m \u001b[49m\u001b[43mheader_name\u001b[49m\u001b[43m]\u001b[49m  \n\u001b[0;32m     10\u001b[0m \u001b[38;5;66;03m# 打印结果  \u001b[39;00m\n\u001b[0;32m     11\u001b[0m \u001b[38;5;28mprint\u001b[39m(df)\n",
      "File \u001b[1;32mD:\\python310\\lib\\site-packages\\pandas\\core\\frame.py:3751\u001b[0m, in \u001b[0;36mDataFrame.__getitem__\u001b[1;34m(self, key)\u001b[0m\n\u001b[0;32m   3749\u001b[0m \u001b[38;5;66;03m# Do we have a (boolean) 1d indexer?\u001b[39;00m\n\u001b[0;32m   3750\u001b[0m \u001b[38;5;28;01mif\u001b[39;00m com\u001b[38;5;241m.\u001b[39mis_bool_indexer(key):\n\u001b[1;32m-> 3751\u001b[0m     \u001b[38;5;28;01mreturn\u001b[39;00m \u001b[38;5;28;43mself\u001b[39;49m\u001b[38;5;241;43m.\u001b[39;49m\u001b[43m_getitem_bool_array\u001b[49m\u001b[43m(\u001b[49m\u001b[43mkey\u001b[49m\u001b[43m)\u001b[49m\n\u001b[0;32m   3753\u001b[0m \u001b[38;5;66;03m# We are left with two options: a single key, and a collection of keys,\u001b[39;00m\n\u001b[0;32m   3754\u001b[0m \u001b[38;5;66;03m# We interpret tuples as collections only for non-MultiIndex\u001b[39;00m\n\u001b[0;32m   3755\u001b[0m is_single_key \u001b[38;5;241m=\u001b[39m \u001b[38;5;28misinstance\u001b[39m(key, \u001b[38;5;28mtuple\u001b[39m) \u001b[38;5;129;01mor\u001b[39;00m \u001b[38;5;129;01mnot\u001b[39;00m is_list_like(key)\n",
      "File \u001b[1;32mD:\\python310\\lib\\site-packages\\pandas\\core\\frame.py:3798\u001b[0m, in \u001b[0;36mDataFrame._getitem_bool_array\u001b[1;34m(self, key)\u001b[0m\n\u001b[0;32m   3792\u001b[0m     warnings\u001b[38;5;241m.\u001b[39mwarn(\n\u001b[0;32m   3793\u001b[0m         \u001b[38;5;124m\"\u001b[39m\u001b[38;5;124mBoolean Series key will be reindexed to match DataFrame index.\u001b[39m\u001b[38;5;124m\"\u001b[39m,\n\u001b[0;32m   3794\u001b[0m         \u001b[38;5;167;01mUserWarning\u001b[39;00m,\n\u001b[0;32m   3795\u001b[0m         stacklevel\u001b[38;5;241m=\u001b[39mfind_stack_level(),\n\u001b[0;32m   3796\u001b[0m     )\n\u001b[0;32m   3797\u001b[0m \u001b[38;5;28;01melif\u001b[39;00m \u001b[38;5;28mlen\u001b[39m(key) \u001b[38;5;241m!=\u001b[39m \u001b[38;5;28mlen\u001b[39m(\u001b[38;5;28mself\u001b[39m\u001b[38;5;241m.\u001b[39mindex):\n\u001b[1;32m-> 3798\u001b[0m     \u001b[38;5;28;01mraise\u001b[39;00m \u001b[38;5;167;01mValueError\u001b[39;00m(\n\u001b[0;32m   3799\u001b[0m         \u001b[38;5;124mf\u001b[39m\u001b[38;5;124m\"\u001b[39m\u001b[38;5;124mItem wrong length \u001b[39m\u001b[38;5;132;01m{\u001b[39;00m\u001b[38;5;28mlen\u001b[39m(key)\u001b[38;5;132;01m}\u001b[39;00m\u001b[38;5;124m instead of \u001b[39m\u001b[38;5;132;01m{\u001b[39;00m\u001b[38;5;28mlen\u001b[39m(\u001b[38;5;28mself\u001b[39m\u001b[38;5;241m.\u001b[39mindex)\u001b[38;5;132;01m}\u001b[39;00m\u001b[38;5;124m.\u001b[39m\u001b[38;5;124m\"\u001b[39m\n\u001b[0;32m   3800\u001b[0m     )\n\u001b[0;32m   3802\u001b[0m \u001b[38;5;66;03m# check_bool_indexer will throw exception if Series key cannot\u001b[39;00m\n\u001b[0;32m   3803\u001b[0m \u001b[38;5;66;03m# be reindexed to match DataFrame rows\u001b[39;00m\n\u001b[0;32m   3804\u001b[0m key \u001b[38;5;241m=\u001b[39m check_bool_indexer(\u001b[38;5;28mself\u001b[39m\u001b[38;5;241m.\u001b[39mindex, key)\n",
      "\u001b[1;31mValueError\u001b[0m: Item wrong length 10 instead of 250."
     ]
    }
   ],
   "source": [
    "# 读取 Excel 文件  \n",
    "df = pd.read_excel(filepath, sheet_name='Sheet1')  \n",
    "  \n",
    "# 指定标题  \n",
    "header_name = '书籍名称'  \n",
    "  \n",
    "# 根据标题匹配读取  \n",
    "df = df[df.columns == header_name]  \n",
    "  \n",
    "# 打印结果  \n",
    "print(df)"
   ]
  },
  {
   "cell_type": "code",
   "execution_count": 2,
   "id": "04066f99",
   "metadata": {},
   "outputs": [],
   "source": [
    "# 8-2\n",
    "import pandas as pd  \n",
    "  \n",
    "# 定义起始日期和结束日期  \n",
    "start_date = pd.Timestamp('2021-01-01')  \n",
    "end_date = pd.Timestamp('2021-09-01')  \n",
    "  \n",
    "# 生成日期列表  \n",
    "date_list = pd.date_range(start_date, end_date).tolist()  \n",
    "  \n",
    "# 输出日期列表  \n",
    "# print(date_list)"
   ]
  }
 ],
 "metadata": {
  "kernelspec": {
   "display_name": "Python 3 (ipykernel)",
   "language": "python",
   "name": "python3"
  },
  "language_info": {
   "codemirror_mode": {
    "name": "ipython",
    "version": 3
   },
   "file_extension": ".py",
   "mimetype": "text/x-python",
   "name": "python",
   "nbconvert_exporter": "python",
   "pygments_lexer": "ipython3",
   "version": "3.10.10"
  }
 },
 "nbformat": 4,
 "nbformat_minor": 5
}
