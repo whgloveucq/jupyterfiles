{
 "cells": [
  {
   "cell_type": "code",
   "execution_count": null,
   "id": "3e169844-6c70-4f0d-af24-77197a11974a",
   "metadata": {},
   "outputs": [],
   "source": [
    "#https://www.heywhale.com/mw/project/6146c0318447b8001769ff20/content"
   ]
  },
  {
   "cell_type": "code",
   "execution_count": 2,
   "id": "04066f99",
   "metadata": {},
   "outputs": [],
   "source": [
    "# 8-2\n",
    "import pandas as pd  \n",
    "  \n",
    "# 定义起始日期和结束日期  \n",
    "start_date = pd.Timestamp('2021-01-01')  \n",
    "end_date = pd.Timestamp('2021-09-01')  \n",
    "  \n",
    "# 生成日期列表  \n",
    "date_list = pd.date_range(start_date, end_date).tolist()  \n",
    "  \n",
    "# 输出日期列表  \n",
    "# print(date_list)"
   ]
  }
 ],
 "metadata": {
  "kernelspec": {
   "display_name": "Python 3 (ipykernel)",
   "language": "python",
   "name": "python3"
  },
  "language_info": {
   "codemirror_mode": {
    "name": "ipython",
    "version": 3
   },
   "file_extension": ".py",
   "mimetype": "text/x-python",
   "name": "python",
   "nbconvert_exporter": "python",
   "pygments_lexer": "ipython3",
   "version": "3.10.10"
  }
 },
 "nbformat": 4,
 "nbformat_minor": 5
}
