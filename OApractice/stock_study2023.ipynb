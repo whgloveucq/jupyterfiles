{
 "cells": [
  {
   "cell_type": "code",
   "execution_count": 2,
   "id": "de77e09a-fee4-4f23-80ba-7ee18a880061",
   "metadata": {},
   "outputs": [],
   "source": [
    "import tushare2  as ts\n",
    "import pandas as pd"
   ]
  }
 ],
 "metadata": {
  "kernelspec": {
   "display_name": "Python 3 (ipykernel)",
   "language": "python",
   "name": "python3"
  },
  "language_info": {
   "codemirror_mode": {
    "name": "ipython",
    "version": 3
   },
   "file_extension": ".py",
   "mimetype": "text/x-python",
   "name": "python",
   "nbconvert_exporter": "python",
   "pygments_lexer": "ipython3",
   "version": "3.10.10"
  }
 },
 "nbformat": 4,
 "nbformat_minor": 5
}
