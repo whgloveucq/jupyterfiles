{
 "cells": [
  {
   "cell_type": "code",
   "execution_count": 2,
   "id": "de77e09a-fee4-4f23-80ba-7ee18a880061",
   "metadata": {},
   "outputs": [],
   "source": [
    "import tushare  as ts\n",
    "import pandas as pd"
   ]
  },
  {
   "cell_type": "code",
   "execution_count": 3,
   "id": "578b1a03",
   "metadata": {},
   "outputs": [],
   "source": [
    "#统一数据来源\n",
    "def get_source():\n",
    "    pro = ts.pro_api('5fb9551d1e4c7339259b68703d554c50dd7cebc016fcfc8dd11fd438')\n",
    "    return pro\n",
    "#股票列表\n",
    "def get_data():\n",
    "    df = get_source().stock_basic()\n",
    "    return df\n",
    "#交易日历\n",
    "def get_cal():\n",
    "        df_cal=get_source().trade_cal()\n",
    "        return df_cal\n",
    "#\n",
    "#获取沪股通成分,hs_type:SH,SZ\n",
    "def stock_kind(kind):\n",
    "        df_type = get_source().hs_const(hs_type=kind) \n",
    "        return  df_type\n",
    "#上市公司基本信息  交易所代码 ，exchange_name-SSE上交所 SZSE深交所\n",
    "def company_info(exchange_name,ts_codes):\n",
    "    df_company =get_source().stock_company(exchange=exchange_name,ts_code=ts_codes, fields='ts_code,chairman,manager,secretary,reg_capital,setup_date,province,city,introduction,website,employees,main_business,business_scope')\n",
    "    return df_company\n",
    "#上市公司管理层\n",
    "def company_managers(ts_code,ann_date,start_date,end_date):\n",
    "        df_managers= get_source().stk_managers(ts_code=ts_code,ann_date=ann_date,start_date=start_date,end_date=end_date)\n",
    "        return  df_managers\n",
    "#管理层持股数\n",
    "def manager_stocks(ts_code,end_date):\n",
    "        df_stocks= get_source().stk_rewards(ts_code=ts_code,end_date=end_date)\n",
    "        return  df_stocks\n",
    "#IPO新股\n",
    "def new_stocks(start_date,end_date):\n",
    "        df_news= get_source().new_share(start_date=start_date, end_date=end_date)\n",
    "        return  df_news\n",
    "#股票的换手率问题\n",
    "#某日换手率前n名的股票 ，或某阶段换手率前n名的股票\n",
    "def turnover_n(trade_date,n):\n",
    "    turnover_n=get_source().daily_basic(trade_date=trade_date).sort_values(by='turnover_rate',ascending=False).ts_code.tolist()[:n]\n",
    "    return turnover_n\n",
    "#股票的成交额问题。\n",
    "def amount_n(trade_date,n):\n",
    "        amount_n=get_source().daily(trade_date=trade_date).sort_values(by='amount',ascending=False).ts_code.tolist()[:n]\n",
    "        return amount_n\n",
    "#换手率和成交额的交集\n",
    "def amount_turnover(trade_date,n):\n",
    "     return list(set(amount_n(trade_date,n))&set(turnover_n(trade_date,n)))\n",
    "#备用列表\n",
    "def get_bakdata(trade_date):\n",
    "    bak_data=get_source().bak_basic(trade_date=trade_date, fields='trade_date,ts_code,name,industry,pe')\n",
    "    return bak_data\n",
    "#股票池细化。\n",
    "\n",
    "#股票列表数据"
   ]
  },
  {
   "cell_type": "code",
   "execution_count": 20,
   "id": "9b90997c",
   "metadata": {},
   "outputs": [
    {
     "name": "stderr",
     "output_type": "stream",
     "text": [
      "C:\\Users\\admin\\AppData\\Local\\Temp\\ipykernel_7504\\1953678634.py:9: SettingWithCopyWarning: \n",
      "A value is trying to be set on a copy of a slice from a DataFrame.\n",
      "Try using .loc[row_indexer,col_indexer] = value instead\n",
      "\n",
      "See the caveats in the documentation: https://pandas.pydata.org/pandas-docs/stable/user_guide/indexing.html#returning-a-view-versus-a-copy\n",
      "  df_stocks_age_gt3['industry']=df_stocks_age_gt3['industry'].apply(str)\n"
     ]
    }
   ],
   "source": [
    "#基本状况、财务指标状况、行业市场声誉和市场潜力、公司声誉和公司潜力，公司人员状况、领导能力。\n",
    "df_stocks=get_data()\n",
    "# 1、需求超过三年的上市公司股票列表\n",
    "df_stocks_age_gt3=df_stocks.query('list_date <\"20190101\"')\n",
    "\n",
    "# df_stocks.query(\"ts_code.str.contains('002329.SZ|688271.SH|002514.SZ|688041.SH|688016.SH|002197.SZ')\",engine=\"python\")\n",
    "#20221207\n",
    "# 比如“ROE连续5年大于20%”“近两年营收增长率大于10%”“近两年净利润增长率大于10%”“上市时间大于3年”等\n",
    "df_stocks_age_gt3['industry']=df_stocks_age_gt3['industry'].apply(str)\n",
    "##选定超过三年的行业股票\n",
    "df_stocks_age_gt3_base=df_stocks_age_gt3.query(\"industry.str.contains('医药|互联网|新能源|新材料|高端|消费')\",engine=\"python\")[['ts_code','name','industry']]\n",
    "#如何获取ROE"
   ]
  },
  {
   "cell_type": "code",
   "execution_count": 21,
   "id": "e0b0d772",
   "metadata": {},
   "outputs": [
    {
     "data": {
      "text/html": [
       "<div>\n",
       "<style scoped>\n",
       "    .dataframe tbody tr th:only-of-type {\n",
       "        vertical-align: middle;\n",
       "    }\n",
       "\n",
       "    .dataframe tbody tr th {\n",
       "        vertical-align: top;\n",
       "    }\n",
       "\n",
       "    .dataframe thead th {\n",
       "        text-align: right;\n",
       "    }\n",
       "</style>\n",
       "<table border=\"1\" class=\"dataframe\">\n",
       "  <thead>\n",
       "    <tr style=\"text-align: right;\">\n",
       "      <th></th>\n",
       "      <th>ts_code</th>\n",
       "      <th>name</th>\n",
       "      <th>industry</th>\n",
       "    </tr>\n",
       "  </thead>\n",
       "  <tbody>\n",
       "    <tr>\n",
       "      <th>21</th>\n",
       "      <td>000028.SZ</td>\n",
       "      <td>国药一致</td>\n",
       "      <td>医药商业</td>\n",
       "    </tr>\n",
       "    <tr>\n",
       "      <th>52</th>\n",
       "      <td>000078.SZ</td>\n",
       "      <td>海王生物</td>\n",
       "      <td>医药商业</td>\n",
       "    </tr>\n",
       "  </tbody>\n",
       "</table>\n",
       "</div>"
      ],
      "text/plain": [
       "      ts_code  name industry\n",
       "21  000028.SZ  国药一致     医药商业\n",
       "52  000078.SZ  海王生物     医药商业"
      ]
     },
     "execution_count": 21,
     "metadata": {},
     "output_type": "execute_result"
    }
   ],
   "source": [
    "#根据这些股票，加上日期，ROE,换手率、成交额等信息。\n",
    "df_stocks_age_gt3_base.head(2)"
   ]
  },
  {
   "cell_type": "code",
   "execution_count": null,
   "id": "220b7c8e",
   "metadata": {},
   "outputs": [],
   "source": [
    "df_stocks_age_gt3_base['turnover']=df_stocks_age_gt3_base.apply(lambda x:x['ts_code'],axis=1)"
   ]
  },
  {
   "cell_type": "code",
   "execution_count": 22,
   "id": "d14a360a",
   "metadata": {},
   "outputs": [
    {
     "name": "stdout",
     "output_type": "stream",
     "text": [
      "300750.SZ\n",
      "002230.SZ\n",
      "603019.SH\n",
      "300418.SZ\n",
      "000977.SZ\n",
      "601360.SH\n",
      "688981.SH\n",
      "000988.SZ\n",
      "000063.SZ\n",
      "300059.SZ\n"
     ]
    }
   ],
   "source": [
    "#成交额排名前100的股票代码\n",
    "for ts_code in amount_n('20230421',10):\n",
    "    print(ts_code)"
   ]
  },
  {
   "cell_type": "code",
   "execution_count": null,
   "id": "ff2941ca",
   "metadata": {},
   "outputs": [],
   "source": [
    "#########以下为基本技术的验证############"
   ]
  },
  {
   "cell_type": "code",
   "execution_count": 9,
   "id": "a21f1910",
   "metadata": {},
   "outputs": [
    {
     "data": {
      "text/html": [
       "<div>\n",
       "<style scoped>\n",
       "    .dataframe tbody tr th:only-of-type {\n",
       "        vertical-align: middle;\n",
       "    }\n",
       "\n",
       "    .dataframe tbody tr th {\n",
       "        vertical-align: top;\n",
       "    }\n",
       "\n",
       "    .dataframe thead th {\n",
       "        text-align: right;\n",
       "    }\n",
       "</style>\n",
       "<table border=\"1\" class=\"dataframe\">\n",
       "  <thead>\n",
       "    <tr style=\"text-align: right;\">\n",
       "      <th></th>\n",
       "      <th>ts_code</th>\n",
       "      <th>trade_date</th>\n",
       "      <th>open</th>\n",
       "      <th>high</th>\n",
       "      <th>low</th>\n",
       "      <th>close</th>\n",
       "      <th>pre_close</th>\n",
       "      <th>change</th>\n",
       "      <th>pct_chg</th>\n",
       "      <th>vol</th>\n",
       "      <th>amount</th>\n",
       "    </tr>\n",
       "  </thead>\n",
       "  <tbody>\n",
       "    <tr>\n",
       "      <th>3018</th>\n",
       "      <td>002197.SZ</td>\n",
       "      <td>20230420</td>\n",
       "      <td>11.42</td>\n",
       "      <td>11.61</td>\n",
       "      <td>11.34</td>\n",
       "      <td>11.58</td>\n",
       "      <td>11.41</td>\n",
       "      <td>0.17</td>\n",
       "      <td>1.4899</td>\n",
       "      <td>317725.29</td>\n",
       "      <td>365419.187</td>\n",
       "    </tr>\n",
       "  </tbody>\n",
       "</table>\n",
       "</div>"
      ],
      "text/plain": [
       "        ts_code trade_date   open   high    low  close  pre_close  change   \n",
       "3018  002197.SZ   20230420  11.42  11.61  11.34  11.58      11.41    0.17  \\\n",
       "\n",
       "      pct_chg        vol      amount  \n",
       "3018   1.4899  317725.29  365419.187  "
      ]
     },
     "execution_count": 9,
     "metadata": {},
     "output_type": "execute_result"
    }
   ],
   "source": [
    "get_source().daily().query(\"ts_code=='002197.SZ'\").head(10)\n"
   ]
  },
  {
   "cell_type": "code",
   "execution_count": 11,
   "id": "8532ee91",
   "metadata": {},
   "outputs": [
    {
     "name": "stdout",
     "output_type": "stream",
     "text": [
      "银行\n",
      "全国地产\n",
      "软件服务\n",
      "环境保护\n",
      "区域地产\n",
      "其他商业\n",
      "运输设备\n",
      "电气设备\n",
      "建筑工程\n",
      "玻璃\n",
      "家用电器\n",
      "服饰\n",
      "农业综合\n",
      "元器件\n",
      "水泥\n",
      "汽车服务\n",
      "火力发电\n",
      "医药商业\n",
      "汽车配件\n",
      "综合类\n",
      "新型电力\n",
      "多元金融\n",
      "装修装饰\n",
      "房产服务\n",
      "商品城\n",
      "石油加工\n",
      "铅锌\n",
      "通信设备\n",
      "IT设备\n",
      "旅游景点\n",
      "港口\n",
      "机场\n",
      "石油贸易\n",
      "空运\n",
      "生物制药\n",
      "商贸代理\n",
      "化学制药\n",
      "影视音像\n",
      "工程机械\n",
      "证券\n",
      "化纤\n",
      "供气供热\n",
      "农药化肥\n",
      "机床制造\n",
      "百货\n",
      "中成药\n",
      "酒店餐饮\n",
      "路桥\n",
      "造纸\n",
      "医疗保健\n",
      "食品\n",
      "黄金\n",
      "化工原料\n",
      "专用机械\n",
      "水运\n",
      "日用化工\n",
      "旅游服务\n",
      "文教休闲\n",
      "出版业\n",
      "机械基件\n",
      "汽车整车\n",
      "煤炭开采\n",
      "铁路\n",
      "染料涂料\n",
      "白酒\n",
      "农用机械\n",
      "林业\n",
      "水务\n",
      "水力发电\n",
      "互联网\n",
      "广告包装\n",
      "铝\n",
      "其他建材\n",
      "批发业\n",
      "保险\n",
      "小金属\n",
      "铜\n",
      "普钢\n",
      "航空\n",
      "饲料\n",
      "特种钢\n",
      "种植业\n",
      "仓储物流\n",
      "焦炭加工\n",
      "纺织\n",
      "啤酒\n",
      "超市连锁\n",
      "钢加工\n",
      "矿物制品\n",
      "渔业\n",
      "软饮料\n",
      "化工机械\n",
      "塑料\n",
      "红黄酒\n",
      "家居用品\n",
      "摩托车\n",
      "石油开采\n",
      "轻工机械\n",
      "电器仪表\n",
      "半导体\n",
      "乳制品\n",
      "纺织机械\n",
      "电器连锁\n",
      "陶瓷\n",
      "橡胶\n",
      "公路\n",
      "电信运营\n",
      "公共交通\n",
      "船舶\n",
      "园区开发\n"
     ]
    }
   ],
   "source": [
    "#获取股票市场行业列表。\n",
    "for industry in df_stocks['industry'].unique():\n",
    "    if industry!=None:\n",
    "        print(industry)"
   ]
  },
  {
   "cell_type": "code",
   "execution_count": 12,
   "id": "fac83918",
   "metadata": {},
   "outputs": [
    {
     "name": "stdout",
     "output_type": "stream",
     "text": [
      "2021-01-01 00:00:00\n",
      "2021-01-02 00:00:00\n",
      "20230420\n",
      "20230419\n",
      "20220420\n"
     ]
    },
    {
     "data": {
      "text/plain": [
       "(None, None, None, None, None)"
      ]
     },
     "execution_count": 12,
     "metadata": {},
     "output_type": "execute_result"
    }
   ],
   "source": [
    "# from datetime import datetime as dt\n",
    "# from datetime import date,time\n",
    "import time\n",
    "from time import mktime\n",
    "from datetime import datetime,timedelta\n",
    "from dateutil.relativedelta import relativedelta\n",
    "\n",
    "s='20210101'\n",
    "e='20210102'\n",
    "# 字符串转日期\n",
    "s_date=datetime.strptime(s,'%Y%m%d')\n",
    "e_date=datetime.strptime(e,'%Y%m%d')\n",
    "#今天\n",
    "today=datetime.today().date().strftime('%Y%m%d')\n",
    "# 上一天\n",
    "lastday=(datetime.today().date() - timedelta(days=1)).strftime('%Y%m%d')\n",
    "#上一年\n",
    "lastyear=(datetime.today().date() - relativedelta(months=12)).strftime('%Y%m%d')\n",
    "print(s_date) ,print(e_date),print(today),print(lastday),print(lastyear)\n",
    "# (e_date-s_date).month"
   ]
  }
 ],
 "metadata": {
  "kernelspec": {
   "display_name": "Python 3 (ipykernel)",
   "language": "python",
   "name": "python3"
  },
  "language_info": {
   "codemirror_mode": {
    "name": "ipython",
    "version": 3
   },
   "file_extension": ".py",
   "mimetype": "text/x-python",
   "name": "python",
   "nbconvert_exporter": "python",
   "pygments_lexer": "ipython3",
   "version": "3.10.10"
  }
 },
 "nbformat": 4,
 "nbformat_minor": 5
}
