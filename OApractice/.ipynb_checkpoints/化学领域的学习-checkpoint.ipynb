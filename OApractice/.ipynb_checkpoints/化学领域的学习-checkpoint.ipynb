{
 "cells": [
  {
   "cell_type": "code",
   "execution_count": 1,
   "id": "724cc471",
   "metadata": {},
   "outputs": [],
   "source": [
    "#绘制分子结构"
   ]
  },
  {
   "cell_type": "code",
   "execution_count": 24,
   "id": "4f465e2c",
   "metadata": {},
   "outputs": [],
   "source": [
    "from rdkit import Chem\n",
    "from rdkit.Chem import Draw\n"
   ]
  },
  {
   "cell_type": "code",
   "execution_count": null,
   "id": "3c823c03",
   "metadata": {},
   "outputs": [],
   "source": [
    "# mol :"
   ]
  },
  {
   "cell_type": "code",
   "execution_count": 31,
   "id": "06e8703f",
   "metadata": {},
   "outputs": [
    {
     "data": {
      "image/png": "[encoded data removed]",
      "text/plain": [
       "<PIL.PngImagePlugin.PngImageFile image mode=RGB size=300x300>"
      ]
     },
     "execution_count": 31,
     "metadata": {},
     "output_type": "execute_result"
    }
   ],
   "source": [
    "#创建水分子的分子对象\n",
    "# smiles = 'O'\n",
    "smiles = 'O[H]'\n",
    "mol=Chem.MolFromSmiles(smiles)\n",
    "#绘制分子结构\n",
    "Draw.MolToImage(mol)"
   ]
  },
  {
   "cell_type": "code",
   "execution_count": 35,
   "id": "33a650fd",
   "metadata": {},
   "outputs": [
    {
     "name": "stdout",
     "output_type": "stream",
     "text": [
      "[Fe]\n",
      "1\n"
     ]
    },
    {
     "data": {
      "image/png": "[encoded data removed]",
      "text/plain": [
       "<PIL.PngImagePlugin.PngImageFile image mode=RGB size=300x300>"
      ]
     },
     "execution_count": 35,
     "metadata": {},
     "output_type": "execute_result"
    }
   ],
   "source": [
    "#创建铁分子的分子对象\n",
    "from rdkit.Chem import rdmolops  \n",
    "# 创建一个空的RWMol对象  \n",
    "mol = Chem.RWMol()  \n",
    "# 添加一个铁原子（原子序数为26）  \n",
    "atom = Chem.Atom(26)  # 铁的原子序数是26  \n",
    "mol.AddAtom(atom)  \n",
    "# 注意：这里没有添加任何键，因为只有一个原子  \n",
    "# 将RWMol转换为不可变的Mol对象  \n",
    "mol = mol.GetMol()  \n",
    "# 打印分子信息  \n",
    "print(Chem.MolToSmiles(mol))  # 这将打印一个点（'.'），因为分子中没有键  \n",
    "print(mol.GetNumAtoms())  # 输出原子数量  \n",
    "Draw.MolToImage(mol)\n",
    "# 如果你想要一个更“真实”的分子表示（比如Fe的某种化合物），你需要定义具体的SMILES或SMARTS字符串  \n",
    "# 例如，创建一个FeCl3分子（虽然这不是一个真实存在的分子，仅作示例）  \n",
    "# 注意：这只是一个虚构的例子，因为FeCl3在真实中通常不以这种方式存在  \n",
    "# mol_fecl3 = Chem.MolFromSmiles('[Fe+3](Cl)(Cl)(Cl)')  # 这可能不是最准确的表示，因为FeCl3通常是离子化合物  \n",
    "  \n",
    "# 实际上，对于离子化合物或金属配合物，你可能需要使用其他工具或方法来准确表示"
   ]
  },
  {
   "cell_type": "markdown",
   "id": "249af347",
   "metadata": {},
   "source": [
    "# 画出二氧化碳"
   ]
  },
  {
   "cell_type": "code",
   "execution_count": null,
   "id": "510b986f",
   "metadata": {},
   "outputs": [],
   "source": []
  },
  {
   "cell_type": "code",
   "execution_count": 21,
   "id": "b98e2fe7",
   "metadata": {},
   "outputs": [
    {
     "name": "stdout",
     "output_type": "stream",
     "text": [
      "Atom: O at position 0\n"
     ]
    },
    {
     "name": "stderr",
     "output_type": "stream",
     "text": [
      "[15:38:38] Explicit valence for atom # 1 H, 2, is greater than permitted\n"
     ]
    },
    {
     "ename": "ValueError",
     "evalue": "Null molecule provided",
     "output_type": "error",
     "traceback": [
      "\u001b[1;31m---------------------------------------------------------------------------\u001b[0m",
      "\u001b[1;31mValueError\u001b[0m                                Traceback (most recent call last)",
      "Cell \u001b[1;32mIn[21], line 24\u001b[0m\n\u001b[0;32m     22\u001b[0m \u001b[38;5;66;03m# 如果你想要更明确地包含氢原子，可以使用'O[H][H]'作为SMILES字符串  \u001b[39;00m\n\u001b[0;32m     23\u001b[0m mol_with_explicit_hydrogens \u001b[38;5;241m=\u001b[39m Chem\u001b[38;5;241m.\u001b[39mMolFromSmiles(\u001b[38;5;124m'\u001b[39m\u001b[38;5;124mO[H][H]\u001b[39m\u001b[38;5;124m'\u001b[39m)  \n\u001b[1;32m---> 24\u001b[0m \u001b[43mDraw\u001b[49m\u001b[38;5;241;43m.\u001b[39;49m\u001b[43mMolToImage\u001b[49m\u001b[43m(\u001b[49m\u001b[43mmol_with_explicit_hydrogens\u001b[49m\u001b[43m)\u001b[49m\n",
      "File \u001b[1;32mD:\\python310\\lib\\site-packages\\rdkit\\Chem\\Draw\\__init__.py:233\u001b[0m, in \u001b[0;36mMolToImage\u001b[1;34m(mol, size, kekulize, wedgeBonds, fitImage, options, canvas, **kwargs)\u001b[0m\n\u001b[0;32m    203\u001b[0m \u001b[38;5;250m\u001b[39m\u001b[38;5;124;03m\"\"\"Returns a PIL image containing a drawing of the molecule\u001b[39;00m\n\u001b[0;32m    204\u001b[0m \n\u001b[0;32m    205\u001b[0m \u001b[38;5;124;03m    ARGUMENTS:\u001b[39;00m\n\u001b[1;32m   (...)\u001b[0m\n\u001b[0;32m    230\u001b[0m \u001b[38;5;124;03m      a PIL Image object\u001b[39;00m\n\u001b[0;32m    231\u001b[0m \u001b[38;5;124;03m\"\"\"\u001b[39;00m\n\u001b[0;32m    232\u001b[0m \u001b[38;5;28;01mif\u001b[39;00m \u001b[38;5;129;01mnot\u001b[39;00m mol:\n\u001b[1;32m--> 233\u001b[0m   \u001b[38;5;28;01mraise\u001b[39;00m \u001b[38;5;167;01mValueError\u001b[39;00m(\u001b[38;5;124m'\u001b[39m\u001b[38;5;124mNull molecule provided\u001b[39m\u001b[38;5;124m'\u001b[39m)\n\u001b[0;32m    234\u001b[0m \u001b[38;5;28;01mif\u001b[39;00m canvas \u001b[38;5;129;01mis\u001b[39;00m \u001b[38;5;129;01mnot\u001b[39;00m \u001b[38;5;28;01mNone\u001b[39;00m \u001b[38;5;129;01mor\u001b[39;00m \u001b[38;5;129;01mnot\u001b[39;00m \u001b[38;5;28mhasattr\u001b[39m(rdMolDraw2D, \u001b[38;5;124m'\u001b[39m\u001b[38;5;124mMolDraw2DCairo\u001b[39m\u001b[38;5;124m'\u001b[39m):\n\u001b[0;32m    235\u001b[0m   \u001b[38;5;28;01mreturn\u001b[39;00m _legacyMolToImage(mol, size, kekulize, wedgeBonds, fitImage, options, canvas, \u001b[38;5;241m*\u001b[39m\u001b[38;5;241m*\u001b[39mkwargs)\n",
      "\u001b[1;31mValueError\u001b[0m: Null molecule provided"
     ]
    }
   ],
   "source": [
    "from rdkit import Chem  \n",
    "from rdkit.Chem import Draw  \n",
    "  \n",
    "# 使用SMILES字符串表示水分子  \n",
    "smiles = 'O'  # 实际上，水的SMILES应该包含氢原子，但'O'在这里作为简化表示  \n",
    "# 更准确的表示应该是'O[H]'，但RDKit在解析时会自动添加氢原子  \n",
    "  \n",
    "# 使用Chem.MolFromSmiles函数从SMILES字符串创建分子对象  \n",
    "mol = Chem.MolFromSmiles(smiles)  \n",
    "  \n",
    "# 由于直接使用'O'作为SMILES，RDKit在内部会处理氢原子，但我们可以验证一下  \n",
    "# 打印出分子的原子和键的信息  \n",
    "for atom in mol.GetAtoms():  \n",
    "    print(f\"Atom: {atom.GetSymbol()} at position {atom.GetIdx()}\")  \n",
    "  \n",
    "# 注意：由于水分子很小，且RDKit在内部处理了氢原子，所以直接查看键可能不太直观  \n",
    "# 但你可以通过绘制分子来验证其结构  \n",
    "  \n",
    "# 使用RDKit的Draw模块来绘制分子  \n",
    "Draw.MolToImage(mol)  # 这行代码在Jupyter Notebook中会直接显示图像，在其他环境中可能需要保存为文件  \n",
    "  \n",
    "# 如果你想要更明确地包含氢原子，可以使用'O[H][H]'作为SMILES字符串  \n",
    "mol_with_explicit_hydrogens = Chem.MolFromSmiles('O[H][H]')  \n",
    "Draw.MolToImage(mol_with_explicit_hydrogens)"
   ]
  }
 ],
 "metadata": {
  "kernelspec": {
   "display_name": "Python 3 (ipykernel)",
   "language": "python",
   "name": "python3"
  },
  "language_info": {
   "codemirror_mode": {
    "name": "ipython",
    "version": 3
   },
   "file_extension": ".py",
   "mimetype": "text/x-python",
   "name": "python",
   "nbconvert_exporter": "python",
   "pygments_lexer": "ipython3",
   "version": "3.10.10"
  }
 },
 "nbformat": 4,
 "nbformat_minor": 5
}
