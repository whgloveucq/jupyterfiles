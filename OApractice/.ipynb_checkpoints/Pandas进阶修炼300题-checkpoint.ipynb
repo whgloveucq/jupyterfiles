{
 "cells": [
  {
   "cell_type": "code",
   "execution_count": null,
   "id": "3e169844-6c70-4f0d-af24-77197a11974a",
   "metadata": {},
   "outputs": [],
   "source": [
    "#https://www.heywhale.com/mw/project/6146c0318447b8001769ff20/content"
   ]
  },
  {
   "cell_type": "markdown",
   "id": "a5819008",
   "metadata": {},
   "source": [
    "# 1-1 数据读取"
   ]
  },
  {
   "cell_type": "markdown",
   "id": "31961149",
   "metadata": {},
   "source": [
    "## 1 读取excel文件"
   ]
  },
  {
   "cell_type": "code",
   "execution_count": 2,
   "id": "f9d95393",
   "metadata": {},
   "outputs": [],
   "source": [
    "import pandas as pd \n",
    "# import openpyxl\n",
    "  \n",
    "# 读取 Excel 文件  \n",
    "df = pd.read_excel('Data/豆瓣书籍TOP250-20230604.xlsx', sheet_name='Sheet1')  \n",
    "  \n",
    "# 显示前 5 行数据  \n",
    "# print(df.head(5))"
   ]
  },
  {
   "cell_type": "markdown",
   "id": "7850635a",
   "metadata": {},
   "source": [
    "## 2 读取 Excel 文件｜指定位置"
   ]
  },
  {
   "cell_type": "code",
   "execution_count": 7,
   "id": "f2bd31bd",
   "metadata": {},
   "outputs": [],
   "source": [
    "# 读取 Excel 文件并指定位置  \n",
    "df = pd.read_excel('Data/豆瓣书籍TOP250-20230604.xlsx', sheet_name='Sheet1', skiprows=[0, 1], usecols=[0, 2])  \n",
    "  \n",
    "# 显示前 5 行数据  \n",
    "# print(df.head())\n",
    "# df.head(5)"
   ]
  },
  {
   "cell_type": "markdown",
   "id": "1d87b5fd",
   "metadata": {},
   "source": [
    "## 3读取 Excel 文件｜指定行（顺序）"
   ]
  },
  {
   "cell_type": "code",
   "execution_count": 11,
   "id": "a6b2c98d",
   "metadata": {},
   "outputs": [],
   "source": [
    "# 要读取的行号（按顺序）  \n",
    "row_numbers = [0, 2, 4, 6]  \n",
    "  \n",
    "# 将行号转换为列表  \n",
    "skiprows = list(map(lambda x: x + 1, row_numbers))  \n",
    "  \n",
    "# 读取 Excel 文件并指定行号  \n",
    "df = pd.read_excel('Data/豆瓣书籍TOP250-20230604.xlsx', sheet_name='Sheet1', skiprows=skiprows)  \n",
    "  \n",
    "# 显示前 5 行数据  \n",
    "# print(df.head())\n",
    "# df.head()"
   ]
  },
  {
   "cell_type": "markdown",
   "id": "aa18dc7d",
   "metadata": {},
   "source": [
    "## 4读取 Excel 文件｜指定行（跳过）"
   ]
  },
  {
   "cell_type": "code",
   "execution_count": 13,
   "id": "30dee0ba",
   "metadata": {},
   "outputs": [],
   "source": [
    "# 跳过前两行  \n",
    "skiprows = 2  \n",
    "filepath='Data/豆瓣书籍TOP250-20230604.xlsx'\n",
    "# 读取 Excel 文件并跳过行  \n",
    "df = pd.read_excel(filepath, sheet_name='Sheet1', skiprows=skiprows)  \n",
    "  \n",
    "# 显示前 5 行数据  \n",
    "# print(df.head())"
   ]
  },
  {
   "cell_type": "markdown",
   "id": "3aed5383",
   "metadata": {},
   "source": [
    "## 5 读取 Excel 文件｜指定行（条件）"
   ]
  },
  {
   "cell_type": "code",
   "execution_count": 16,
   "id": "45ca5e06",
   "metadata": {},
   "outputs": [],
   "source": [
    "# 读取 Excel 文件  \n",
    "df = pd.read_excel(filepath, sheet_name='Sheet1')  \n",
    "  \n",
    "# 基于条件选择行  \n",
    "df_filtered = df.query('书籍排名 > 10')  \n",
    "  \n",
    "# 显示前 5 行数据  \n",
    "# print(df_filtered.head())"
   ]
  },
  {
   "cell_type": "markdown",
   "id": "8bf3a887",
   "metadata": {},
   "source": [
    "## 6读取 Excel 文件｜指定列（列号）"
   ]
  },
  {
   "cell_type": "code",
   "execution_count": null,
   "id": "5a90d8c3",
   "metadata": {},
   "outputs": [],
   "source": []
  },
  {
   "cell_type": "code",
   "execution_count": 2,
   "id": "04066f99",
   "metadata": {},
   "outputs": [],
   "source": [
    "# 8-2\n",
    "import pandas as pd  \n",
    "  \n",
    "# 定义起始日期和结束日期  \n",
    "start_date = pd.Timestamp('2021-01-01')  \n",
    "end_date = pd.Timestamp('2021-09-01')  \n",
    "  \n",
    "# 生成日期列表  \n",
    "date_list = pd.date_range(start_date, end_date).tolist()  \n",
    "  \n",
    "# 输出日期列表  \n",
    "# print(date_list)"
   ]
  }
 ],
 "metadata": {
  "kernelspec": {
   "display_name": "Python 3 (ipykernel)",
   "language": "python",
   "name": "python3"
  },
  "language_info": {
   "codemirror_mode": {
    "name": "ipython",
    "version": 3
   },
   "file_extension": ".py",
   "mimetype": "text/x-python",
   "name": "python",
   "nbconvert_exporter": "python",
   "pygments_lexer": "ipython3",
   "version": "3.10.10"
  }
 },
 "nbformat": 4,
 "nbformat_minor": 5
}
