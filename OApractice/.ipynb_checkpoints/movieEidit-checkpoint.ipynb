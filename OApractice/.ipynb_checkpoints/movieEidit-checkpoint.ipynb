{
 "cells": [
  {
   "cell_type": "code",
   "execution_count": null,
   "id": "0e04d96c",
   "metadata": {},
   "outputs": [],
   "source": [
    "#视频制作MoviePy(如mp4\\AVI\\GIF等) ，其他的图像处理软件Pillow, Dash"
   ]
  },
  {
   "cell_type": "code",
   "execution_count": 1,
   "id": "2f32bceb",
   "metadata": {},
   "outputs": [],
   "source": [
    "from moviepy.editor import *\n",
    "#读取视频\n",
    "clip1=VideoFileClip(\"**1.mp4\")\n",
    "clip2=VideoFileClip(\"**2.mp4\")\n",
    "#剪辑视频片段\n",
    "subclip1=clip1.subclip(10,20)\n",
    "subclip2=clip2.subclip(30,40)\n",
    "#合并视频片段\n",
    "final_clip=concatenate_videoclips([subclip1,subclip2])\n",
    "#调整视频尺寸\n",
    "final_clip=final_clip.resize((1280,720))\n",
    "#设置音频\n",
    "final_clip=final_clip.set_audio(subclip1.audio)\n",
    "#设置视频时长\n",
    "final_clip=final_clip.set_duration(10)\n",
    "#保存视频文件\n",
    "final_clip.write_videiofile(\"output.mp4\")"
   ]
  }
 ],
 "metadata": {
  "kernelspec": {
   "display_name": "Python 3 (ipykernel)",
   "language": "python",
   "name": "python3"
  },
  "language_info": {
   "codemirror_mode": {
    "name": "ipython",
    "version": 3
   },
   "file_extension": ".py",
   "mimetype": "text/x-python",
   "name": "python",
   "nbconvert_exporter": "python",
   "pygments_lexer": "ipython3",
   "version": "3.10.10"
  }
 },
 "nbformat": 4,
 "nbformat_minor": 5
}
