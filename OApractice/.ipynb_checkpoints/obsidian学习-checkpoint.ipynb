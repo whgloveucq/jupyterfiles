{
 "cells": [
  {
   "cell_type": "code",
   "execution_count": 1,
   "id": "90297cd7",
   "metadata": {},
   "outputs": [
    {
     "ename": "SyntaxError",
     "evalue": "invalid syntax (3301065763.py, line 1)",
     "output_type": "error",
     "traceback": [
      "\u001b[1;36m  Cell \u001b[1;32mIn[1], line 1\u001b[1;36m\u001b[0m\n\u001b[1;33m    https://sspai.com/post/68350\u001b[0m\n\u001b[1;37m          ^\u001b[0m\n\u001b[1;31mSyntaxError\u001b[0m\u001b[1;31m:\u001b[0m invalid syntax\n"
     ]
    }
   ],
   "source": [
    "https://sspai.com/post/68350"
   ]
  },
  {
   "cell_type": "code",
   "execution_count": null,
   "id": "7d4dd7fc",
   "metadata": {},
   "outputs": [],
   "source": [
    "一文掌握Obsidian模板\n",
    "https://www.jianshu.com/p/ba63900433c7"
   ]
  },
  {
   "cell_type": "code",
   "execution_count": null,
   "id": "ed0bdcde",
   "metadata": {},
   "outputs": [],
   "source": [
    "确实，无论是专家、行家还是赢家，唯有做事才能成就自己和周围的一切"
   ]
  },
  {
   "cell_type": "code",
   "execution_count": null,
   "id": "b2205948",
   "metadata": {},
   "outputs": [],
   "source": [
    "Obsidian新手系列之你不可不知的插件\n",
    "https://mp.weixin.qq.com/s?__biz=MzI4NjIwOTg3Nw==&mid=2650157119&idx=1&sn=9d73ecb6a73847ff88e140da098128b3&chksm=f3e2f205c4957b13b8623f015c68c30707ad6d9487118c7c3180bed7a191fc50f1154fa0b58b&cur_album_id=1993245495208542210&scene=189#wechat_redirect"
   ]
  }
 ],
 "metadata": {
  "kernelspec": {
   "display_name": "Python 3 (ipykernel)",
   "language": "python",
   "name": "python3"
  },
  "language_info": {
   "codemirror_mode": {
    "name": "ipython",
    "version": 3
   },
   "file_extension": ".py",
   "mimetype": "text/x-python",
   "name": "python",
   "nbconvert_exporter": "python",
   "pygments_lexer": "ipython3",
   "version": "3.10.10"
  }
 },
 "nbformat": 4,
 "nbformat_minor": 5
}
