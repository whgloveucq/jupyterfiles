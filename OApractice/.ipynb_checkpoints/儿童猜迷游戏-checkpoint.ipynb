{
 "cells": [
  {
   "cell_type": "code",
   "execution_count": 1,
   "id": "6d76736c",
   "metadata": {},
   "outputs": [
    {
     "name": "stdout",
     "output_type": "stream",
     "text": [
      "我想了一个1到100之间的数字，你猜是多少？\n",
      "2\n",
      "太小了，再试试吧。\n",
      "3\n",
      "太小了，再试试吧。\n",
      "50\n",
      "太大了，再试试吧。\n",
      "25\n",
      "太小了，再试试吧。\n",
      "40\n",
      "太大了，再试试吧。\n",
      "35\n",
      "太大了，再试试吧。\n",
      "30\n",
      "太小了，再试试吧。\n",
      "32\n",
      "太小了，再试试吧。\n",
      "33\n",
      "恭喜你，猜对了！\n"
     ]
    }
   ],
   "source": [
    "import random  \n",
    "  \n",
    "# 生成随机数  \n",
    "number = random.randint(1, 100)  \n",
    "  \n",
    "# 提示玩家猜数字  \n",
    "print(\"我想了一个1到100之间的数字，你猜是多少？\")  \n",
    "  \n",
    "# 玩家开始猜数字  \n",
    "guess = int(input())  \n",
    "  \n",
    "# 循环判断玩家的猜测  \n",
    "while guess != number:  \n",
    "    if guess < number:  \n",
    "        print(\"太小了，再试试吧。\")  \n",
    "    else:  \n",
    "        print(\"太大了，再试试吧。\")  \n",
    "    guess = int(input())  \n",
    "  \n",
    "# 猜对了  \n",
    "print(\"恭喜你，猜对了！\")"
   ]
  },
  {
   "cell_type": "code",
   "execution_count": null,
   "id": "fac35bb3",
   "metadata": {},
   "outputs": [
    {
     "name": "stdout",
     "output_type": "stream",
     "text": [
      "输入命令：银\n",
      "无效命令，请重新输入。\n",
      "输入命令：y\n",
      "无效命令，请重新输入。\n"
     ]
    }
   ],
   "source": [
    "import turtle  \n",
    "  \n",
    "# 创建画布和画笔  \n",
    "canvas = turtle.Screen()  \n",
    "pen = turtle.Turtle()  \n",
    "  \n",
    "# 设置画笔初始位置和颜色  \n",
    "pen.up()  \n",
    "pen.goto(0, 0)  \n",
    "pen.down()  \n",
    "pen.color(\"blue\")  \n",
    "  \n",
    "# 游戏循环  \n",
    "while True:  \n",
    "    # 获取玩家输入  \n",
    "    command = input(\"输入命令：\")  \n",
    "  \n",
    "    # 处理玩家输入  \n",
    "    if command == \"quit\":  \n",
    "        # 退出游戏  \n",
    "        break  \n",
    "    elif command == \"up\":  \n",
    "        # 向上移动  \n",
    "        pen.up()  \n",
    "        pen.sety(pen.ycor() + 20)  \n",
    "        pen.down()  \n",
    "    elif command == \"down\":  \n",
    "        # 向下移动  \n",
    "        pen.up()  \n",
    "        pen.sety(pen.ycor() - 20)  \n",
    "        pen.down()  \n",
    "    elif command == \"left\":  \n",
    "        # 向左移动  \n",
    "        pen.up()  \n",
    "        pen.setx(pen.xcor() - 20)  \n",
    "        pen.down()  \n",
    "    elif command == \"right\":  \n",
    "        # 向右移动  \n",
    "        pen.up()  \n",
    "        pen.setx(pen.xcor() + 20)  \n",
    "        pen.down()  \n",
    "    else:  \n",
    "        # 无效命令  \n",
    "        print(\"无效命令，请重新输入。\")  \n",
    "  \n",
    "# 关闭画布  \n",
    "canvas.exitonclick()"
   ]
  },
  {
   "cell_type": "code",
   "execution_count": 1,
   "id": "4a51ea33",
   "metadata": {},
   "outputs": [
    {
     "name": "stdout",
     "output_type": "stream",
     "text": [
      "我想了一个单词，请你猜一猜：\n",
      "你猜是什么？cat\n",
      "恭喜你，猜对了！\n"
     ]
    }
   ],
   "source": [
    "import random  \n",
    "  \n",
    "# 生成随机单词  \n",
    "word = random.choice(['cat', 'dog', 'bird', 'fish', 'horse'])  \n",
    "  \n",
    "# 提示孩子们猜单词  \n",
    "print(\"我想了一个单词，请你猜一猜：\")  \n",
    "  \n",
    "# 循环猜单词  \n",
    "while True:  \n",
    "    guess = input(\"你猜是什么？\")  \n",
    "  \n",
    "    # 判断猜测是否正确  \n",
    "    if guess.lower() == word:  \n",
    "        print(\"恭喜你，猜对了！\")  \n",
    "        break  \n",
    "    else:  \n",
    "        print(\"猜错了，再试试吧。\")"
   ]
  },
  {
   "cell_type": "code",
   "execution_count": null,
   "id": "6dee09a6",
   "metadata": {},
   "outputs": [],
   "source": [
    "#中国象棋（Brian 来抄一个） https://blog.csdn.net/bigzql/article/details/121059450\n",
    "#https://blog.csdn.net/weixin_55822277/article/details/129311944?utm_medium=distribute.pc_relevant.none-task-blog-2~default~baidujs_baidulandingword~default-9-129311944-blog-106719549.235^v40^pc_relevant_3m_sort_dl_base2&spm=1001.2101.3001.4242.6&utm_relevant_index=12"
   ]
  },
  {
   "cell_type": "code",
   "execution_count": null,
   "id": "f0a2bdd3",
   "metadata": {},
   "outputs": [],
   "source": [
    "#国际象棋（老二来抄）"
   ]
  },
  {
   "cell_type": "code",
   "execution_count": null,
   "id": "dc34f55b",
   "metadata": {},
   "outputs": [],
   "source": [
    "#将做好的程序打包成一个可执行文件。pyinstaller 使用一下。"
   ]
  },
  {
   "cell_type": "code",
   "execution_count": null,
   "id": "f387957d",
   "metadata": {},
   "outputs": [],
   "source": [
    "#python可视化界面设计神器：Tkinter-Designer"
   ]
  },
  {
   "cell_type": "code",
   "execution_count": null,
   "id": "4b6da835",
   "metadata": {},
   "outputs": [],
   "source": [
    "#停车位出租，重庆车位飞。"
   ]
  }
 ],
 "metadata": {
  "kernelspec": {
   "display_name": "Python 3 (ipykernel)",
   "language": "python",
   "name": "python3"
  },
  "language_info": {
   "codemirror_mode": {
    "name": "ipython",
    "version": 3
   },
   "file_extension": ".py",
   "mimetype": "text/x-python",
   "name": "python",
   "nbconvert_exporter": "python",
   "pygments_lexer": "ipython3",
   "version": "3.10.10"
  }
 },
 "nbformat": 4,
 "nbformat_minor": 5
}
