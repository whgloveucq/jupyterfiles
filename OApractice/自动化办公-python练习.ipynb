{
 "cells": [
  {
   "cell_type": "code",
   "execution_count": null,
   "metadata": {},
   "outputs": [],
   "source": [
    "#练习python\n",
    "# Q1:字符截取 ，字符匹配 练习\n",
    "# Q2：日期、时间 格式转换、日期运算、时间运算\n",
    "# Q3:爬取数据，股票信息\n"
   ]
  },
  {
   "cell_type": "code",
   "execution_count": null,
   "metadata": {},
   "outputs": [],
   "source": [
    "# 1、有四个数字：1、2、3、4，能组成多少个互不相同且无重复数字的三位数？各是多少？"
   ]
  },
  {
   "cell_type": "code",
   "execution_count": 4,
   "metadata": {},
   "outputs": [],
   "source": [
    "total=0\n",
    "for i in range(1,5):\n",
    "    for j in range(1,5):\n",
    "        for k in range(1,5):\n",
    "            if (i!=j) and (j!=k) and (k!=i):\n",
    "#                 print(i,j,k)\n",
    "                total+=1\n",
    "#                 print(total)"
   ]
  },
  {
   "cell_type": "code",
   "execution_count": 17,
   "metadata": {},
   "outputs": [],
   "source": [
    "import itertools\n",
    "sum2=0\n",
    "a=[1,2,3,4]\n",
    "for i in itertools.permutations(a,3):\n",
    "#     print(i)\n",
    "    sum2+=1\n",
    "#     print(sum2)"
   ]
  },
  {
   "cell_type": "markdown",
   "metadata": {},
   "source": [
    "# 个税计算"
   ]
  },
  {
   "cell_type": "code",
   "execution_count": null,
   "metadata": {},
   "outputs": [],
   "source": [
    "题目：企业发放的将金根据利润提成。利润(I)低于或等于10万元时，奖金可提10%,利润高于10万，低于20万时，低于10万部分按10%提成，高于10万部分，可提成\n",
    "7.5%  。。。。，。。。从键盘输入当月利润，求应发放奖金总数？"
   ]
  },
  {
   "cell_type": "code",
   "execution_count": 21,
   "metadata": {},
   "outputs": [
    {
     "name": "stdout",
     "output_type": "stream",
     "text": [
      "Show me the money: 1000000\n",
      "19000.0\n",
      "34500.0\n",
      "50500.0\n",
      "60500.0\n"
     ]
    }
   ],
   "source": [
    "profit=int(input('Show me the money: '))\n",
    "bonus=0\n",
    "thresholds=[100000,100000,200000,200000,400000]\n",
    "rates=[0.1,0.075,0.05,0.03,0.015,0.01]\n",
    "for i in range(len(thresholds)):\n",
    "    if profit<=thresholds[i]:\n",
    "        bonus+=profit*rates[i]\n",
    "        profit=0\n",
    "        break\n",
    "    else:\n",
    "        bonus+=thresholds[i]*rates[i]\n",
    "        profit-=thresholds[i]\n",
    "        bonus+=profit*rates[-1]\n",
    "        print(bonus)\n",
    "    "
   ]
  },
  {
   "cell_type": "markdown",
   "metadata": {},
   "source": [
    "# 这天第几天？"
   ]
  },
  {
   "cell_type": "code",
   "execution_count": 9,
   "metadata": {},
   "outputs": [
    {
     "name": "stdout",
     "output_type": "stream",
     "text": [
      "Year:2012\n",
      "Month:12\n",
      "Day:03\n"
     ]
    },
    {
     "ename": "TypeError",
     "evalue": "'list' object is not callable",
     "output_type": "error",
     "traceback": [
      "\u001b[0;31m---------------------------------------------------------------------------\u001b[0m",
      "\u001b[0;31mTypeError\u001b[0m                                 Traceback (most recent call last)",
      "\u001b[0;32m<ipython-input-9-2a18ab1c42ca>\u001b[0m in \u001b[0;36m<module>\u001b[0;34m\u001b[0m\n\u001b[1;32m     10\u001b[0m     \u001b[0mDofM\u001b[0m\u001b[0;34m[\u001b[0m\u001b[0;36m2\u001b[0m\u001b[0;34m]\u001b[0m\u001b[0;34m+=\u001b[0m\u001b[0;36m1\u001b[0m\u001b[0;34m\u001b[0m\u001b[0;34m\u001b[0m\u001b[0m\n\u001b[1;32m     11\u001b[0m \u001b[0;32mfor\u001b[0m \u001b[0mi\u001b[0m \u001b[0;32min\u001b[0m \u001b[0mrange\u001b[0m\u001b[0;34m(\u001b[0m\u001b[0mmonth\u001b[0m\u001b[0;34m)\u001b[0m\u001b[0;34m:\u001b[0m\u001b[0;34m\u001b[0m\u001b[0;34m\u001b[0m\u001b[0m\n\u001b[0;32m---> 12\u001b[0;31m     \u001b[0mres\u001b[0m\u001b[0;34m+=\u001b[0m\u001b[0mDofM\u001b[0m\u001b[0;34m(\u001b[0m\u001b[0mi\u001b[0m\u001b[0;34m)\u001b[0m\u001b[0;34m\u001b[0m\u001b[0;34m\u001b[0m\u001b[0m\n\u001b[0m\u001b[1;32m     13\u001b[0m \u001b[0mprint\u001b[0m\u001b[0;34m(\u001b[0m\u001b[0mres\u001b[0m\u001b[0;34m+\u001b[0m\u001b[0mday\u001b[0m\u001b[0;34m)\u001b[0m\u001b[0;34m\u001b[0m\u001b[0;34m\u001b[0m\u001b[0m\n\u001b[1;32m     14\u001b[0m \u001b[0;31m#没有验证成功!\u001b[0m\u001b[0;34m\u001b[0m\u001b[0;34m\u001b[0m\u001b[0;34m\u001b[0m\u001b[0m\n",
      "\u001b[0;31mTypeError\u001b[0m: 'list' object is not callable"
     ]
    }
   ],
   "source": [
    "def isLeapYear(y): # 是否时闰年\n",
    "    return (y%400==0 or (y%4==0 and y%100 !=0))\n",
    "# isLeapYear(2020)\n",
    "DofM=[0,31,28,31,30,31,30,31,31,30,31,30]\n",
    "res=0\n",
    "year=int(input('Year:'))\n",
    "month=int(input('Month:'))\n",
    "day=int(input('Day:'))\n",
    "if isLeapYear(year):\n",
    "    DofM[2]+=1\n",
    "for i in range(month):\n",
    "    res+=DofM(i)\n",
    "print(res+day)\n",
    "#没有验证成功!"
   ]
  },
  {
   "cell_type": "markdown",
   "metadata": {},
   "source": [
    "#copy"
   ]
  },
  {
   "cell_type": "code",
   "execution_count": 19,
   "metadata": {},
   "outputs": [
    {
     "name": "stdout",
     "output_type": "stream",
     "text": [
      "a= [1, 2, 3, 4, ['a', 'b', 'c'], 5]\n",
      "b= [1, 2, 3, 4, ['a', 'b', 'c'], 5]\n",
      "c= [1, 2, 3, 4, ['a', 'b', 'c']]\n",
      "d= [1, 2, 3, 4, ['a', 'b', 'c']]\n",
      "e= [1, 2, 3, 4, ['a', 'b']]\n"
     ]
    }
   ],
   "source": [
    "import copy\n",
    "a=[1,2,3,4,['a','b']]\n",
    "b=a  #赋值\n",
    "c=a[:]               #浅拷贝\n",
    "d=copy.copy(a)  #浅拷贝\n",
    "e=copy.deepcopy(a) #深拷贝\n",
    "a.append(5)\n",
    "a[4].append('c')\n",
    "print('a=',a)\n",
    "print('b=',b)\n",
    "print('c=',c)\n",
    "print('d=',d)\n",
    "print('e=',e)"
   ]
  },
  {
   "cell_type": "markdown",
   "metadata": {},
   "source": [
    "# 九九乘法表"
   ]
  },
  {
   "cell_type": "code",
   "execution_count": 25,
   "metadata": {},
   "outputs": [
    {
     "name": "stdout",
     "output_type": "stream",
     "text": [
      "1*1= 1... \n",
      "2*1= 2... 2*2= 4... \n",
      "3*1= 3... 3*2= 6... 3*3= 9... \n",
      "4*1= 4... 4*2= 8... 4*3=12... 4*4=16... \n",
      "5*1= 5... 5*2=10... 5*3=15... 5*4=20... 5*5=25... \n",
      "6*1= 6... 6*2=12... 6*3=18... 6*4=24... 6*5=30... 6*6=36... \n",
      "7*1= 7... 7*2=14... 7*3=21... 7*4=28... 7*5=35... 7*6=42... 7*7=49... \n",
      "8*1= 8... 8*2=16... 8*3=24... 8*4=32... 8*5=40... 8*6=48... 8*7=56... 8*8=64... \n",
      "9*1= 9... 9*2=18... 9*3=27... 9*4=36... 9*5=45... 9*6=54... 9*7=63... 9*8=72... 9*9=81... \n"
     ]
    }
   ],
   "source": [
    "for i in range(1,10):\n",
    "    for j in range(1,i+1):\n",
    "        print('%d*%d=%2ld'%(i,j,i*j),end='... ')\n",
    "    print()"
   ]
  },
  {
   "cell_type": "markdown",
   "metadata": {},
   "source": [
    "# 暂停一秒输出"
   ]
  },
  {
   "cell_type": "code",
   "execution_count": 30,
   "metadata": {},
   "outputs": [
    {
     "name": "stdout",
     "output_type": "stream",
     "text": [
      "60\n",
      "62\n",
      "64\n",
      "66\n"
     ]
    }
   ],
   "source": [
    "import time\n",
    "for i in range(4):\n",
    "    print(str(int(time.time()))[-2:])\n",
    "    time.sleep(1)"
   ]
  },
  {
   "cell_type": "markdown",
   "metadata": {},
   "source": [
    "# 给人看的时间"
   ]
  },
  {
   "cell_type": "code",
   "execution_count": 3,
   "metadata": {},
   "outputs": [
    {
     "name": "stdout",
     "output_type": "stream",
     "text": [
      "2022-01-18-18-03\n",
      "2022-01-18-18-03\n",
      "2022-01-18-18-03\n",
      "2022-01-18-18-03\n"
     ]
    }
   ],
   "source": [
    "import time\n",
    "for i in range(4):\n",
    "    print(time.strftime('%Y-%m-%d-%H-%M',time.localtime(time.time())))\n",
    "    time.sleep(1)"
   ]
  },
  {
   "cell_type": "code",
   "execution_count": null,
   "metadata": {},
   "outputs": [],
   "source": [
    "#20220118 eveing"
   ]
  },
  {
   "cell_type": "markdown",
   "metadata": {},
   "source": [
    "# 水仙花数打印"
   ]
  },
  {
   "cell_type": "markdown",
   "metadata": {},
   "source": [
    "## 所谓水仙花数是指一个三位数，其各位数字的立方和等于该数本身。"
   ]
  },
  {
   "cell_type": "code",
   "execution_count": 11,
   "metadata": {},
   "outputs": [
    {
     "name": "stdout",
     "output_type": "stream",
     "text": [
      "153\n",
      "370\n",
      "371\n",
      "407\n"
     ]
    }
   ],
   "source": [
    "for i  in range(100,1000):\n",
    "    s=str(i)\n",
    "    one=int(s[-1]) \n",
    "    ten=int(s[-2]) \n",
    "    hun=int(s[-3]) \n",
    "#     print(s[-1],s[-2],s[-3],\"o\",end=\",,\")\n",
    "    if  i== one**3 + ten**3 + hun**3:\n",
    "         print(i)\n",
    "#验证成功 20220118"
   ]
  },
  {
   "cell_type": "markdown",
   "metadata": {},
   "source": [
    "# 输出日期 "
   ]
  },
  {
   "cell_type": "code",
   "execution_count": 1,
   "metadata": {},
   "outputs": [
    {
     "name": "stdout",
     "output_type": "stream",
     "text": [
      "2022-06-22\n",
      "2333-02-03\n",
      "22/06/2022\n",
      "1133-02-03\n"
     ]
    }
   ],
   "source": [
    "import datetime\n",
    "print(datetime.date.today())\n",
    "print(datetime.date(2333,2,3))\n",
    "print(datetime.date.today().strftime('%d/%m/%Y'))\n",
    "day=datetime.date(1111,2,3)\n",
    "day=day.replace(year=day.year+22)\n",
    "print(day)\n",
    "#验证成功2022118"
   ]
  },
  {
   "cell_type": "markdown",
   "metadata": {},
   "source": [
    "# 字符串构成 "
   ]
  },
  {
   "cell_type": "code",
   "execution_count": null,
   "metadata": {},
   "outputs": [],
   "source": [
    "# 输入一行字符，分别统计出其中英文字母、空格、数字和其他字符的个数"
   ]
  },
  {
   "cell_type": "code",
   "execution_count": 3,
   "metadata": {},
   "outputs": [
    {
     "name": "stdout",
     "output_type": "stream",
     "text": [
      "输入字符串waer_dsfd sdfsdf sf\n",
      "waer_dsfd sdfsdf sf\n",
      "space: 2\n",
      "digit: 0\n",
      "alpha: 16\n",
      "other: 1\n"
     ]
    }
   ],
   "source": [
    "string=input(\"输入字符串\")\n",
    "alp=0\n",
    "num=0\n",
    "spa=0\n",
    "other=0\n",
    "for i in range(len(string)):\n",
    "    if string[i].isspace():\n",
    "        spa+=1\n",
    "    elif string[i].isdigit():\n",
    "            num+=1\n",
    "    elif string[i].isalpha():\n",
    "            alp+=1\n",
    "    else:\n",
    "        other+=1\n",
    "print(string)\n",
    "print('space:',spa)\n",
    "print('digit:',num)\n",
    "print('alpha:',alp)\n",
    "print('other:',other)"
   ]
  },
  {
   "cell_type": "markdown",
   "metadata": {},
   "source": [
    "# 高空抛物"
   ]
  },
  {
   "cell_type": "code",
   "execution_count": null,
   "metadata": {},
   "outputs": [],
   "source": [
    "#球从00米高空自由落下，每次落地后反跳回原高度的一半；再落下，求他在第10次落地时，共经过多少米？第10次反弹多高？"
   ]
  },
  {
   "cell_type": "code",
   "execution_count": 4,
   "metadata": {},
   "outputs": [
    {
     "name": "stdout",
     "output_type": "stream",
     "text": [
      "50.0\n",
      "25.0\n",
      "12.5\n",
      "6.25\n",
      "3.125\n",
      "1.5625\n",
      "0.78125\n",
      "0.390625\n",
      "0.1953125\n",
      "0.09765625\n",
      "total: 299.8046875\n"
     ]
    }
   ],
   "source": [
    "high=200\n",
    "total=100\n",
    "for i in range(10):\n",
    "    high/=2\n",
    "    total+=high\n",
    "    print(high/2)\n",
    "print('total:',total)"
   ]
  },
  {
   "cell_type": "markdown",
   "metadata": {},
   "source": [
    "#画菱形"
   ]
  },
  {
   "cell_type": "code",
   "execution_count": 40,
   "metadata": {},
   "outputs": [
    {
     "name": "stdout",
     "output_type": "stream",
     "text": [
      "输入奇数1\n",
      "*\n"
     ]
    }
   ],
   "source": [
    "a=int(input('输入奇数'))\n",
    "for i in range(1,a+1,2):\n",
    "    t = (a-i)//2\n",
    "    print(' '*t + '*'*i)\n",
    "for y in range(a-2,0,-2):\n",
    "    x = (a-y)//2\n",
    "    print(' '*x+y*'*')\n"
   ]
  },
  {
   "cell_type": "code",
   "execution_count": 38,
   "metadata": {},
   "outputs": [
    {
     "name": "stdout",
     "output_type": "stream",
     "text": [
      "输入行数6\n",
      "      \n",
      "     * \n",
      "    * * \n",
      "   * * * \n",
      "  * * * * \n",
      " * * * * * \n",
      "* * * * * * \n",
      " * * * * * \n",
      "  * * * * \n",
      "   * * * \n",
      "    * * \n",
      "     * \n"
     ]
    }
   ],
   "source": [
    "a=int(input('输入行数'))\n",
    "for i in range(0,a):\n",
    "    for y in range(0,a-i):\n",
    "        print(' ',end=\"\")\n",
    "    s = '* ' * i\n",
    "    print(s)\n",
    "for i in range(0,a):\n",
    "    for x in range(0,i):\n",
    "        print(' ', end=\"\")\n",
    "    t = '* ' * (a-i)\n",
    "    print(t)\n"
   ]
  },
  {
   "cell_type": "markdown",
   "metadata": {},
   "source": [
    "# 利用正则表达式进行匹配 "
   ]
  },
  {
   "cell_type": "code",
   "execution_count": 43,
   "metadata": {},
   "outputs": [],
   "source": [
    "# https://goregex.cn/index.html 正则表达式网站。注意学习。"
   ]
  },
  {
   "cell_type": "code",
   "execution_count": 44,
   "metadata": {},
   "outputs": [
    {
     "data": {
      "text/plain": [
       "'cat in the hat'"
      ]
     },
     "execution_count": 44,
     "metadata": {},
     "output_type": "execute_result"
    }
   ],
   "source": [
    "import re\n",
    "re.findall(r'\\bf[a-z]*', 'which foot or hand fell fastest')\n",
    "re.sub(r'(\\b[a-z]+) \\1', r'\\1', 'cat in the the hat')"
   ]
  },
  {
   "cell_type": "markdown",
   "metadata": {},
   "source": [
    "# 反向输出\n",
    "<!-- https://blog.csdn.net/lamehd/article/details/101769066 -->"
   ]
  },
  {
   "cell_type": "code",
   "execution_count": 47,
   "metadata": {},
   "outputs": [
    {
     "name": "stdout",
     "output_type": "stream",
     "text": [
      "输入一个正整数: 3424\n",
      "4位数\n",
      "4243\n"
     ]
    }
   ],
   "source": [
    "n=int(input('输入一个正整数: '))\n",
    "n=str(n)\n",
    "print('%d位数'%len(n))\n",
    "print(n[::-1]) #切片"
   ]
  },
  {
   "cell_type": "markdown",
   "metadata": {},
   "source": [
    "# 按逗号分隔列表"
   ]
  },
  {
   "cell_type": "code",
   "execution_count": 57,
   "metadata": {},
   "outputs": [
    {
     "name": "stdout",
     "output_type": "stream",
     "text": [
      "1,2,3,4,5,\n",
      "\n",
      "1,2,3,4,5\n"
     ]
    }
   ],
   "source": [
    "L=[1,2,3,4,5]\n",
    "for i in L:\n",
    "    print(i,sep=\" \",end=',')\n",
    "    \n",
    "print('\\n')\n",
    "print(','.join(str(n) for n in L))"
   ]
  },
  {
   "cell_type": "markdown",
   "metadata": {},
   "source": [
    "# 文本设置颜色"
   ]
  },
  {
   "cell_type": "code",
   "execution_count": 1,
   "metadata": {},
   "outputs": [
    {
     "ename": "SyntaxError",
     "evalue": "EOL while scanning string literal (<ipython-input-1-707b6ef1baee>, line 2)",
     "output_type": "error",
     "traceback": [
      "\u001b[0;36m  File \u001b[0;32m\"<ipython-input-1-707b6ef1baee>\"\u001b[0;36m, line \u001b[0;32m2\u001b[0m\n\u001b[0;31m    HEADER=['\\033[95m]\u001b[0m\n\u001b[0m                      ^\u001b[0m\n\u001b[0;31mSyntaxError\u001b[0m\u001b[0;31m:\u001b[0m EOL while scanning string literal\n"
     ]
    }
   ],
   "source": [
    "class bcolors:\n",
    "    HEADER=['\\033[95m]\n",
    "print(bcolors.WARNING+\"警告的颜色字体?\"+bcolors.HEADER)"
   ]
  },
  {
   "cell_type": "markdown",
   "metadata": {},
   "source": [
    "# 排序"
   ]
  },
  {
   "cell_type": "markdown",
   "metadata": {},
   "source": [
    "raw=[]\n",
    "for i in range(10):\n",
    "    x=int(input('int%d :'%(i))\n",
    "    print(str(x))"
   ]
  },
  {
   "cell_type": "code",
   "execution_count": 1,
   "metadata": {},
   "outputs": [],
   "source": [
    "!history"
   ]
  },
  {
   "cell_type": "code",
   "execution_count": 2,
   "metadata": {},
   "outputs": [],
   "source": [
    "\n",
    "!history"
   ]
  },
  {
   "cell_type": "markdown",
   "metadata": {},
   "source": [
    "w"
   ]
  },
  {
   "cell_type": "markdown",
   "metadata": {},
   "source": [
    "#  字符串截取、匹配、"
   ]
  },
  {
   "cell_type": "code",
   "execution_count": 12,
   "metadata": {},
   "outputs": [
    {
     "name": "stdout",
     "output_type": "stream",
     "text": [
      "w wh whg dlsdfsdfw\n",
      "hello world 字符串包含 'h'\n",
      "hello world 字符串包含 'hello'\n",
      "hello world 字符串不包含 'hllo'\n"
     ]
    }
   ],
   "source": [
    "string_1=\"whgdlsdfsdfwe\"\n",
    "string_2=string_1[:2]\n",
    "string_3=string_1[:3]\n",
    "string_4=string_1[3:-1]\n",
    "print(string_1[0],string_2,string_3,string_4)\n",
    "# 检测单个字符\n",
    "str1 = \"hello world\"\n",
    "if \"h\" in str1:\n",
    " print(\"{} 字符串包含 'h'\".format(str1)) # 注意单引号和双引号的配合使用\n",
    "else:\n",
    " print(\"{} 字符串不包含 'h'\".format(str1))\n",
    "\n",
    "# 检测字符串\n",
    "if \"hello\" in str1:\n",
    " print(\"{} 字符串包含 'hello'\".format(str1)) # 注意单引号和双引号的配合使用\n",
    "else:\n",
    " print(\"{} 字符串不包含 'hello'\".format(str1))\n",
    "# 使用 not in\n",
    "if \"hllo\" not in str1:\n",
    " print(\"{} 字符串不包含 'hllo'\".format(str1)) # 注意单引号和双引号的配合使用\n",
    "else:\n",
    " print(\"{} 字符串包含 'hllo'\".format(str1))\n"
   ]
  },
  {
   "cell_type": "markdown",
   "metadata": {},
   "source": [
    "# 字符串构造"
   ]
  },
  {
   "cell_type": "code",
   "execution_count": 13,
   "metadata": {},
   "outputs": [
    {
     "name": "stdout",
     "output_type": "stream",
     "text": [
      "str3 = helloworld \n",
      "hello + world = helloworld\n",
      "****************************************\n",
      "str4 = 猿说python python教程 字符串 \n",
      "str5 = I LOVE YOU \n"
     ]
    }
   ],
   "source": [
    "# 方法一：两个字符串直接相加拼接在一起\n",
    "str1 = \"hello\"\n",
    "str2 = \"world\"\n",
    "str3 = str1 + str2\n",
    "print(\"str3 = %s \" % str3)\n",
    "print(\"{} + {} = {}\".format(str1,str2,str3))\n",
    " \n",
    "print(\"**\"*20)\n",
    "# 方法二：使用format\n",
    "str4 = \"{} {} {}\".format(\"猿说python\",\"python教程\",\"字符串\")\n",
    "print(\"str4 = %s \" % str4)\n",
    "str5 = \"{2} {1} {0}\".format(\"YOU\",\"LOVE\",\"I\") # 注意使用下标索引值，默认重0开始\n",
    "print(\"str5 = %s \" % str5)\n"
   ]
  },
  {
   "cell_type": "markdown",
   "metadata": {},
   "source": [
    "# excel 表操作\n"
   ]
  },
  {
   "cell_type": "code",
   "execution_count": 25,
   "metadata": {},
   "outputs": [],
   "source": [
    "import xlrd\n",
    "import xlwt"
   ]
  },
  {
   "cell_type": "markdown",
   "metadata": {},
   "source": [
    "# 对excel,et文件进行加密\n",
    "https://zhuanlan.zhihu.com/p/259583430"
   ]
  },
  {
   "cell_type": "code",
   "execution_count": 18,
   "metadata": {},
   "outputs": [],
   "source": [
    "#对excel的操作\n",
    "#https://zhuanlan.zhihu.com/p/259583430"
   ]
  },
  {
   "cell_type": "code",
   "execution_count": 41,
   "metadata": {},
   "outputs": [],
   "source": [
    "def set_password_file(old_name, new_name, old_psw, new_psw):\n",
    "    \"\"\"\n",
    "    :param old_name: 老文件名\n",
    "    :param new_name: \n",
    "    :param old_psw: old_psw 为当前打开密码, 若无 访问密码, 则设为 ''\n",
    "    :param new_psw: 可以新设置一个密码\n",
    "    :return: \n",
    "    \"\"\"\n",
    "    print(random_passwd())\n",
    "    xcl = win32com.client.Dispatch(\"Excel.Application\")\n",
    "    # 路径为绝对路径，不能为相对路径报错\n",
    "    wb = xcl.Workbooks.Open(old_name + '.xlsx', False, False, None, old_psw)\n",
    "    xcl.DisplayAlerts = False\n",
    "\n",
    "    # 保存时可设置访问密码.\n",
    "    wb.SaveAs(new_name + '.xlsx', None, new_psw, '')\n",
    "    xcl.Quit()\n"
   ]
  },
  {
   "cell_type": "code",
   "execution_count": 42,
   "metadata": {},
   "outputs": [
    {
     "name": "stdout",
     "output_type": "stream",
     "text": [
      "SYTQ14\n"
     ]
    },
    {
     "ename": "NameError",
     "evalue": "name 'win32com' is not defined",
     "output_type": "error",
     "traceback": [
      "\u001b[0;31m---------------------------------------------------------------------------\u001b[0m",
      "\u001b[0;31mNameError\u001b[0m                                 Traceback (most recent call last)",
      "\u001b[0;32m<ipython-input-42-11aca9e2d3b8>\u001b[0m in \u001b[0;36m<module>\u001b[0;34m\u001b[0m\n\u001b[0;32m----> 1\u001b[0;31m \u001b[0mset_password_file\u001b[0m\u001b[0;34m(\u001b[0m\u001b[0;34m'test_mysql2'\u001b[0m\u001b[0;34m,\u001b[0m\u001b[0;34m'test_new'\u001b[0m\u001b[0;34m,\u001b[0m\u001b[0;34m''\u001b[0m\u001b[0;34m,\u001b[0m\u001b[0mrandom_passwd\u001b[0m\u001b[0;34m(\u001b[0m\u001b[0;34m)\u001b[0m\u001b[0;34m)\u001b[0m\u001b[0;34m\u001b[0m\u001b[0;34m\u001b[0m\u001b[0m\n\u001b[0m",
      "\u001b[0;32m<ipython-input-41-944c6d725aa2>\u001b[0m in \u001b[0;36mset_password_file\u001b[0;34m(old_name, new_name, old_psw, new_psw)\u001b[0m\n\u001b[1;32m      8\u001b[0m     \"\"\"\n\u001b[1;32m      9\u001b[0m     \u001b[0mprint\u001b[0m\u001b[0;34m(\u001b[0m\u001b[0mrandom_passwd\u001b[0m\u001b[0;34m(\u001b[0m\u001b[0;34m)\u001b[0m\u001b[0;34m)\u001b[0m\u001b[0;34m\u001b[0m\u001b[0;34m\u001b[0m\u001b[0m\n\u001b[0;32m---> 10\u001b[0;31m     \u001b[0mxcl\u001b[0m \u001b[0;34m=\u001b[0m \u001b[0mwin32com\u001b[0m\u001b[0;34m.\u001b[0m\u001b[0mclient\u001b[0m\u001b[0;34m.\u001b[0m\u001b[0mDispatch\u001b[0m\u001b[0;34m(\u001b[0m\u001b[0;34m\"Excel.Application\"\u001b[0m\u001b[0;34m)\u001b[0m\u001b[0;34m\u001b[0m\u001b[0;34m\u001b[0m\u001b[0m\n\u001b[0m\u001b[1;32m     11\u001b[0m     \u001b[0;31m# 路径为绝对路径，不能为相对路径报错\u001b[0m\u001b[0;34m\u001b[0m\u001b[0;34m\u001b[0m\u001b[0;34m\u001b[0m\u001b[0m\n\u001b[1;32m     12\u001b[0m     \u001b[0mwb\u001b[0m \u001b[0;34m=\u001b[0m \u001b[0mxcl\u001b[0m\u001b[0;34m.\u001b[0m\u001b[0mWorkbooks\u001b[0m\u001b[0;34m.\u001b[0m\u001b[0mOpen\u001b[0m\u001b[0;34m(\u001b[0m\u001b[0mold_name\u001b[0m \u001b[0;34m+\u001b[0m \u001b[0;34m'.xlsx'\u001b[0m\u001b[0;34m,\u001b[0m \u001b[0;32mFalse\u001b[0m\u001b[0;34m,\u001b[0m \u001b[0;32mFalse\u001b[0m\u001b[0;34m,\u001b[0m \u001b[0;32mNone\u001b[0m\u001b[0;34m,\u001b[0m \u001b[0mold_psw\u001b[0m\u001b[0;34m)\u001b[0m\u001b[0;34m\u001b[0m\u001b[0;34m\u001b[0m\u001b[0m\n",
      "\u001b[0;31mNameError\u001b[0m: name 'win32com' is not defined"
     ]
    }
   ],
   "source": [
    "set_password_file('test_mysql2','test_new','',random_passwd())"
   ]
  },
  {
   "cell_type": "markdown",
   "metadata": {},
   "source": [
    "# 生成随机密码"
   ]
  },
  {
   "cell_type": "code",
   "execution_count": 20,
   "metadata": {},
   "outputs": [],
   "source": [
    "import random\n",
    "#生成随机6位随机数含字母\n",
    "def random_passwd():\n",
    "    code = []\n",
    "    for i in range(6):\n",
    "        if i == random.randint(1,5):\n",
    "            code.append(str(random.randint(1,5)))\n",
    "        else:\n",
    "            code.append(chr(random.randint(65,90)))\n",
    "#     print(''.join(code))\n",
    "    return ''.join(code)\n",
    "#转换成字符串"
   ]
  },
  {
   "cell_type": "code",
   "execution_count": 21,
   "metadata": {},
   "outputs": [
    {
     "data": {
      "text/plain": [
       "'OPWZU1'"
      ]
     },
     "execution_count": 21,
     "metadata": {},
     "output_type": "execute_result"
    }
   ],
   "source": [
    "random_passwd()"
   ]
  },
  {
   "cell_type": "markdown",
   "metadata": {},
   "source": [
    "# python调用java程序。用于python 调用java已有的工具。 "
   ]
  },
  {
   "cell_type": "code",
   "execution_count": 19,
   "metadata": {},
   "outputs": [
    {
     "ename": "ModuleNotFoundError",
     "evalue": "No module named '_jpype'",
     "output_type": "error",
     "traceback": [
      "\u001b[0;31m---------------------------------------------------------------------------\u001b[0m",
      "\u001b[0;31mModuleNotFoundError\u001b[0m                       Traceback (most recent call last)",
      "\u001b[0;32m<ipython-input-19-9899b87d3730>\u001b[0m in \u001b[0;36m<module>\u001b[0;34m\u001b[0m\n\u001b[0;32m----> 1\u001b[0;31m \u001b[0;32mfrom\u001b[0m \u001b[0mjpype\u001b[0m \u001b[0;32mimport\u001b[0m \u001b[0;34m*\u001b[0m\u001b[0;34m\u001b[0m\u001b[0;34m\u001b[0m\u001b[0m\n\u001b[0m",
      "\u001b[0;32m/opt/anaconda3/lib/python3.7/site-packages/jpype/__init__.py\u001b[0m in \u001b[0;36m<module>\u001b[0;34m\u001b[0m\n\u001b[1;32m     16\u001b[0m \u001b[0;31m#\u001b[0m\u001b[0;34m\u001b[0m\u001b[0;34m\u001b[0m\u001b[0;34m\u001b[0m\u001b[0m\n\u001b[1;32m     17\u001b[0m \u001b[0;31m# *****************************************************************************\u001b[0m\u001b[0;34m\u001b[0m\u001b[0;34m\u001b[0m\u001b[0;34m\u001b[0m\u001b[0m\n\u001b[0;32m---> 18\u001b[0;31m \u001b[0;32mimport\u001b[0m \u001b[0m_jpype\u001b[0m\u001b[0;34m\u001b[0m\u001b[0;34m\u001b[0m\u001b[0m\n\u001b[0m\u001b[1;32m     19\u001b[0m \u001b[0;32mfrom\u001b[0m \u001b[0;34m.\u001b[0m\u001b[0m_jinit\u001b[0m \u001b[0;32mimport\u001b[0m \u001b[0;34m*\u001b[0m\u001b[0;34m\u001b[0m\u001b[0;34m\u001b[0m\u001b[0m\n\u001b[1;32m     20\u001b[0m \u001b[0;32mfrom\u001b[0m \u001b[0;34m.\u001b[0m\u001b[0m_jpackage\u001b[0m \u001b[0;32mimport\u001b[0m \u001b[0;34m*\u001b[0m\u001b[0;34m\u001b[0m\u001b[0;34m\u001b[0m\u001b[0m\n",
      "\u001b[0;31mModuleNotFoundError\u001b[0m: No module named '_jpype'"
     ]
    }
   ],
   "source": [
    "from jpype import *"
   ]
  },
  {
   "cell_type": "code",
   "execution_count": 1,
   "metadata": {},
   "outputs": [],
   "source": [
    "from jpype import *"
   ]
  },
  {
   "cell_type": "code",
   "execution_count": 2,
   "metadata": {},
   "outputs": [],
   "source": [
    "def getJVMClass():\n",
    "    jarpath = os.path.join(os.path.abspath('.'), 'sql_translation/cownewsql-2.1/cownewsql-2.1-jdk1.6.jar')\n",
    "    jvmpath = jpype.getDefaultJVMPath()\n",
    "    dependency = os.path.join(os.path.abspath('.'),\n",
    "                              r'sql_translation\\cownewsql-2.1\\dependency')\n",
    "    try:\n",
    "        startJVM(jvmpath, \"-ea\", \"-Djava.class.path=%s\" % jarpath, \"-Djava.ext.dirs=%s\" % dependency, convertStrings=False)\n",
    "    except:\n",
    "        pass\n",
    "    JC = JClass('com.cownew.cownewsql.imsql.common.DialectManager')\n",
    "    instance = JC()\n",
    "    return instance"
   ]
  },
  {
   "cell_type": "code",
   "execution_count": 3,
   "metadata": {},
   "outputs": [],
   "source": [
    "from jpype import *\n",
    "# 启动java虚拟机\n",
    "startJVM(getDefaultJVMPath(), \"-ea\")\n",
    "# 调用println函数\n",
    "java.lang.System.out.println(\"hello python java\")\n",
    "\n",
    "# 关闭虚拟机\n",
    "# shutdownJVM()"
   ]
  },
  {
   "cell_type": "code",
   "execution_count": 7,
   "metadata": {},
   "outputs": [
    {
     "name": "stdout",
     "output_type": "stream",
     "text": [
      "/usr/java/jdk1.8.0_211-amd64/jre/lib/amd64/server/libjvm.so\n"
     ]
    },
    {
     "ename": "OSError",
     "evalue": "JVM cannot be restarted",
     "output_type": "error",
     "traceback": [
      "\u001b[0;31m---------------------------------------------------------------------------\u001b[0m",
      "\u001b[0;31mOSError\u001b[0m                                   Traceback (most recent call last)",
      "\u001b[0;32m<ipython-input-7-6cdb85336101>\u001b[0m in \u001b[0;36m<module>\u001b[0;34m\u001b[0m\n\u001b[1;32m     11\u001b[0m \u001b[0;34m\u001b[0m\u001b[0m\n\u001b[1;32m     12\u001b[0m \u001b[0;31m# 启动虚拟机\u001b[0m\u001b[0;34m\u001b[0m\u001b[0;34m\u001b[0m\u001b[0;34m\u001b[0m\u001b[0m\n\u001b[0;32m---> 13\u001b[0;31m \u001b[0mjpype\u001b[0m\u001b[0;34m.\u001b[0m\u001b[0mstartJVM\u001b[0m\u001b[0;34m(\u001b[0m\u001b[0mjvmPath\u001b[0m\u001b[0;34m)\u001b[0m\u001b[0;34m\u001b[0m\u001b[0;34m\u001b[0m\u001b[0m\n\u001b[0m\u001b[1;32m     14\u001b[0m \u001b[0;31m# 判断虚拟机是否启动\u001b[0m\u001b[0;34m\u001b[0m\u001b[0;34m\u001b[0m\u001b[0;34m\u001b[0m\u001b[0m\n\u001b[1;32m     15\u001b[0m \u001b[0mprint\u001b[0m\u001b[0;34m(\u001b[0m\u001b[0mjpype\u001b[0m\u001b[0;34m.\u001b[0m\u001b[0misJVMStarted\u001b[0m\u001b[0;34m(\u001b[0m\u001b[0;34m)\u001b[0m\u001b[0;34m)\u001b[0m\u001b[0;34m\u001b[0m\u001b[0;34m\u001b[0m\u001b[0m\n",
      "\u001b[0;32m~/anaconda3/lib/python3.7/site-packages/jpype/_core.py\u001b[0m in \u001b[0;36mstartJVM\u001b[0;34m(*args, **kwargs)\u001b[0m\n\u001b[1;32m    175\u001b[0m     \u001b[0;32mglobal\u001b[0m \u001b[0m_JVM_started\u001b[0m\u001b[0;34m\u001b[0m\u001b[0;34m\u001b[0m\u001b[0m\n\u001b[1;32m    176\u001b[0m     \u001b[0;32mif\u001b[0m \u001b[0m_JVM_started\u001b[0m\u001b[0;34m:\u001b[0m\u001b[0;34m\u001b[0m\u001b[0;34m\u001b[0m\u001b[0m\n\u001b[0;32m--> 177\u001b[0;31m         \u001b[0;32mraise\u001b[0m \u001b[0mOSError\u001b[0m\u001b[0;34m(\u001b[0m\u001b[0;34m'JVM cannot be restarted'\u001b[0m\u001b[0;34m)\u001b[0m\u001b[0;34m\u001b[0m\u001b[0;34m\u001b[0m\u001b[0m\n\u001b[0m\u001b[1;32m    178\u001b[0m \u001b[0;34m\u001b[0m\u001b[0m\n\u001b[1;32m    179\u001b[0m     \u001b[0margs\u001b[0m \u001b[0;34m=\u001b[0m \u001b[0mlist\u001b[0m\u001b[0;34m(\u001b[0m\u001b[0margs\u001b[0m\u001b[0;34m)\u001b[0m\u001b[0;34m\u001b[0m\u001b[0;34m\u001b[0m\u001b[0m\n",
      "\u001b[0;31mOSError\u001b[0m: JVM cannot be restarted"
     ]
    }
   ],
   "source": [
    "import jpype\n",
    "\n",
    "from time import *\n",
    "\n",
    "# 获取虚拟机路径\n",
    "jvmPath = jpype.getDefaultJVMPath()\n",
    "# jpath = r'D:\\SProgram\\Java\\Jdk8\\jre\\bin\\server\\jvm.dll'\n",
    "# print(jpath)\n",
    "# 可见 获取jvmPath 与 jpath 一样。\n",
    "print(jvmPath)  # D:\\SProgram\\Java\\Jdk8\\jre\\bin\\server\\jvm.dll\n",
    "\n",
    "# 启动虚拟机\n",
    "jpype.startJVM(jvmPath)\n",
    "# 判断虚拟机是否启动\n",
    "print(jpype.isJVMStarted())\n",
    "# 调用java程序，执行打印\n",
    "jpype.java.lang.System.out.println(\"hello JPype !\")\n",
    "# 关闭虚拟机\n",
    "jpype.shutdownJVM()\n",
    "sleep(5)\n",
    "print(jpype.isJVMStarted())\n"
   ]
  },
  {
   "cell_type": "code",
   "execution_count": 45,
   "metadata": {},
   "outputs": [],
   "source": [
    "#excel文件的操作"
   ]
  },
  {
   "cell_type": "code",
   "execution_count": 41,
   "metadata": {},
   "outputs": [],
   "source": [
    "from openpyxl import load_workbook"
   ]
  },
  {
   "cell_type": "code",
   "execution_count": 40,
   "metadata": {},
   "outputs": [
    {
     "ename": "BadZipFile",
     "evalue": "File is not a zip file",
     "output_type": "error",
     "traceback": [
      "\u001b[0;31m---------------------------------------------------------------------------\u001b[0m",
      "\u001b[0;31mBadZipFile\u001b[0m                                Traceback (most recent call last)",
      "\u001b[0;32m<ipython-input-40-09bdf30fac0a>\u001b[0m in \u001b[0;36m<module>\u001b[0;34m\u001b[0m\n\u001b[1;32m      3\u001b[0m \u001b[0;31m# Load XLSX workbook\u001b[0m\u001b[0;34m\u001b[0m\u001b[0;34m\u001b[0m\u001b[0;34m\u001b[0m\u001b[0m\n\u001b[1;32m      4\u001b[0m \u001b[0;31m# wb = Workbook(\"test_mysql2.xlsx\")\u001b[0m\u001b[0;34m\u001b[0m\u001b[0;34m\u001b[0m\u001b[0;34m\u001b[0m\u001b[0m\n\u001b[0;32m----> 5\u001b[0;31m \u001b[0mwb\u001b[0m \u001b[0;34m=\u001b[0m \u001b[0mopenpyxl\u001b[0m\u001b[0;34m.\u001b[0m\u001b[0mload_workbook\u001b[0m\u001b[0;34m(\u001b[0m\u001b[0;34m'test_mysql2.xlsx'\u001b[0m\u001b[0;34m)\u001b[0m\u001b[0;34m\u001b[0m\u001b[0;34m\u001b[0m\u001b[0m\n\u001b[0m\u001b[1;32m      6\u001b[0m \u001b[0;31m# Password protect Excel file\u001b[0m\u001b[0;34m\u001b[0m\u001b[0;34m\u001b[0m\u001b[0;34m\u001b[0m\u001b[0m\n\u001b[1;32m      7\u001b[0m \u001b[0mwb\u001b[0m\u001b[0;34m.\u001b[0m\u001b[0mgetSettings\u001b[0m\u001b[0;34m(\u001b[0m\u001b[0;34m)\u001b[0m\u001b[0;34m.\u001b[0m\u001b[0msetPassword\u001b[0m\u001b[0;34m(\u001b[0m\u001b[0;34m\"1234\"\u001b[0m\u001b[0;34m)\u001b[0m\u001b[0;34m\u001b[0m\u001b[0;34m\u001b[0m\u001b[0m\n",
      "\u001b[0;32m/opt/anaconda3/lib/python3.7/site-packages/openpyxl/reader/excel.py\u001b[0m in \u001b[0;36mload_workbook\u001b[0;34m(filename, read_only, keep_vba, data_only, keep_links)\u001b[0m\n\u001b[1;32m    311\u001b[0m     \"\"\"\n\u001b[1;32m    312\u001b[0m     reader = ExcelReader(filename, read_only, keep_vba,\n\u001b[0;32m--> 313\u001b[0;31m                         data_only, keep_links)\n\u001b[0m\u001b[1;32m    314\u001b[0m     \u001b[0mreader\u001b[0m\u001b[0;34m.\u001b[0m\u001b[0mread\u001b[0m\u001b[0;34m(\u001b[0m\u001b[0;34m)\u001b[0m\u001b[0;34m\u001b[0m\u001b[0;34m\u001b[0m\u001b[0m\n\u001b[1;32m    315\u001b[0m     \u001b[0;32mreturn\u001b[0m \u001b[0mreader\u001b[0m\u001b[0;34m.\u001b[0m\u001b[0mwb\u001b[0m\u001b[0;34m\u001b[0m\u001b[0;34m\u001b[0m\u001b[0m\n",
      "\u001b[0;32m/opt/anaconda3/lib/python3.7/site-packages/openpyxl/reader/excel.py\u001b[0m in \u001b[0;36m__init__\u001b[0;34m(self, fn, read_only, keep_vba, data_only, keep_links)\u001b[0m\n\u001b[1;32m    122\u001b[0m     def __init__(self,  fn, read_only=False, keep_vba=KEEP_VBA,\n\u001b[1;32m    123\u001b[0m                   data_only=False, keep_links=True):\n\u001b[0;32m--> 124\u001b[0;31m         \u001b[0mself\u001b[0m\u001b[0;34m.\u001b[0m\u001b[0marchive\u001b[0m \u001b[0;34m=\u001b[0m \u001b[0m_validate_archive\u001b[0m\u001b[0;34m(\u001b[0m\u001b[0mfn\u001b[0m\u001b[0;34m)\u001b[0m\u001b[0;34m\u001b[0m\u001b[0;34m\u001b[0m\u001b[0m\n\u001b[0m\u001b[1;32m    125\u001b[0m         \u001b[0mself\u001b[0m\u001b[0;34m.\u001b[0m\u001b[0mvalid_files\u001b[0m \u001b[0;34m=\u001b[0m \u001b[0mself\u001b[0m\u001b[0;34m.\u001b[0m\u001b[0marchive\u001b[0m\u001b[0;34m.\u001b[0m\u001b[0mnamelist\u001b[0m\u001b[0;34m(\u001b[0m\u001b[0;34m)\u001b[0m\u001b[0;34m\u001b[0m\u001b[0;34m\u001b[0m\u001b[0m\n\u001b[1;32m    126\u001b[0m         \u001b[0mself\u001b[0m\u001b[0;34m.\u001b[0m\u001b[0mread_only\u001b[0m \u001b[0;34m=\u001b[0m \u001b[0mread_only\u001b[0m\u001b[0;34m\u001b[0m\u001b[0;34m\u001b[0m\u001b[0m\n",
      "\u001b[0;32m/opt/anaconda3/lib/python3.7/site-packages/openpyxl/reader/excel.py\u001b[0m in \u001b[0;36m_validate_archive\u001b[0;34m(filename)\u001b[0m\n\u001b[1;32m     94\u001b[0m             \u001b[0;32mraise\u001b[0m \u001b[0mInvalidFileException\u001b[0m\u001b[0;34m(\u001b[0m\u001b[0mmsg\u001b[0m\u001b[0;34m)\u001b[0m\u001b[0;34m\u001b[0m\u001b[0;34m\u001b[0m\u001b[0m\n\u001b[1;32m     95\u001b[0m \u001b[0;34m\u001b[0m\u001b[0m\n\u001b[0;32m---> 96\u001b[0;31m     \u001b[0marchive\u001b[0m \u001b[0;34m=\u001b[0m \u001b[0mZipFile\u001b[0m\u001b[0;34m(\u001b[0m\u001b[0mfilename\u001b[0m\u001b[0;34m,\u001b[0m \u001b[0;34m'r'\u001b[0m\u001b[0;34m)\u001b[0m\u001b[0;34m\u001b[0m\u001b[0;34m\u001b[0m\u001b[0m\n\u001b[0m\u001b[1;32m     97\u001b[0m     \u001b[0;32mreturn\u001b[0m \u001b[0marchive\u001b[0m\u001b[0;34m\u001b[0m\u001b[0;34m\u001b[0m\u001b[0m\n\u001b[1;32m     98\u001b[0m \u001b[0;34m\u001b[0m\u001b[0m\n",
      "\u001b[0;32m/opt/anaconda3/lib/python3.7/zipfile.py\u001b[0m in \u001b[0;36m__init__\u001b[0;34m(self, file, mode, compression, allowZip64, compresslevel)\u001b[0m\n\u001b[1;32m   1256\u001b[0m         \u001b[0;32mtry\u001b[0m\u001b[0;34m:\u001b[0m\u001b[0;34m\u001b[0m\u001b[0;34m\u001b[0m\u001b[0m\n\u001b[1;32m   1257\u001b[0m             \u001b[0;32mif\u001b[0m \u001b[0mmode\u001b[0m \u001b[0;34m==\u001b[0m \u001b[0;34m'r'\u001b[0m\u001b[0;34m:\u001b[0m\u001b[0;34m\u001b[0m\u001b[0;34m\u001b[0m\u001b[0m\n\u001b[0;32m-> 1258\u001b[0;31m                 \u001b[0mself\u001b[0m\u001b[0;34m.\u001b[0m\u001b[0m_RealGetContents\u001b[0m\u001b[0;34m(\u001b[0m\u001b[0;34m)\u001b[0m\u001b[0;34m\u001b[0m\u001b[0;34m\u001b[0m\u001b[0m\n\u001b[0m\u001b[1;32m   1259\u001b[0m             \u001b[0;32melif\u001b[0m \u001b[0mmode\u001b[0m \u001b[0;32min\u001b[0m \u001b[0;34m(\u001b[0m\u001b[0;34m'w'\u001b[0m\u001b[0;34m,\u001b[0m \u001b[0;34m'x'\u001b[0m\u001b[0;34m)\u001b[0m\u001b[0;34m:\u001b[0m\u001b[0;34m\u001b[0m\u001b[0;34m\u001b[0m\u001b[0m\n\u001b[1;32m   1260\u001b[0m                 \u001b[0;31m# set the modified flag so central directory gets written\u001b[0m\u001b[0;34m\u001b[0m\u001b[0;34m\u001b[0m\u001b[0;34m\u001b[0m\u001b[0m\n",
      "\u001b[0;32m/opt/anaconda3/lib/python3.7/zipfile.py\u001b[0m in \u001b[0;36m_RealGetContents\u001b[0;34m(self)\u001b[0m\n\u001b[1;32m   1323\u001b[0m             \u001b[0;32mraise\u001b[0m \u001b[0mBadZipFile\u001b[0m\u001b[0;34m(\u001b[0m\u001b[0;34m\"File is not a zip file\"\u001b[0m\u001b[0;34m)\u001b[0m\u001b[0;34m\u001b[0m\u001b[0;34m\u001b[0m\u001b[0m\n\u001b[1;32m   1324\u001b[0m         \u001b[0;32mif\u001b[0m \u001b[0;32mnot\u001b[0m \u001b[0mendrec\u001b[0m\u001b[0;34m:\u001b[0m\u001b[0;34m\u001b[0m\u001b[0;34m\u001b[0m\u001b[0m\n\u001b[0;32m-> 1325\u001b[0;31m             \u001b[0;32mraise\u001b[0m \u001b[0mBadZipFile\u001b[0m\u001b[0;34m(\u001b[0m\u001b[0;34m\"File is not a zip file\"\u001b[0m\u001b[0;34m)\u001b[0m\u001b[0;34m\u001b[0m\u001b[0;34m\u001b[0m\u001b[0m\n\u001b[0m\u001b[1;32m   1326\u001b[0m         \u001b[0;32mif\u001b[0m \u001b[0mself\u001b[0m\u001b[0;34m.\u001b[0m\u001b[0mdebug\u001b[0m \u001b[0;34m>\u001b[0m \u001b[0;36m1\u001b[0m\u001b[0;34m:\u001b[0m\u001b[0;34m\u001b[0m\u001b[0;34m\u001b[0m\u001b[0m\n\u001b[1;32m   1327\u001b[0m             \u001b[0mprint\u001b[0m\u001b[0;34m(\u001b[0m\u001b[0mendrec\u001b[0m\u001b[0;34m)\u001b[0m\u001b[0;34m\u001b[0m\u001b[0;34m\u001b[0m\u001b[0m\n",
      "\u001b[0;31mBadZipFile\u001b[0m: File is not a zip file"
     ]
    }
   ],
   "source": [
    "from openpyxl import load_workbook\n",
    "import openpyxl\n",
    "# Load XLSX workbook\n",
    "# wb = Workbook(\"test_mysql2.xlsx\")\n",
    "wb = openpyxl.load_workbook('test_mysql2.xlsx')\n",
    "# Password protect Excel file\n",
    "wb.getSettings().setPassword(\"1234\")\n",
    "# Encrypt by specifying the encryption type\n",
    "wb.setEncryptionOptions(EncryptionType.XOR, 40)\n",
    "# Specify Strong Encryption type (RC4,Microsoft Strong Cryptographic Provider)\n",
    "wb.setEncryptionOptions(EncryptionType.STRONG_CRYPTOGRAPHIC_PROVIDER, 128)\n",
    "# Save Excel file\n",
    "wb.save(\"workbook-encrypted.xlsx\")"
   ]
  },
  {
   "cell_type": "code",
   "execution_count": 4,
   "metadata": {},
   "outputs": [],
   "source": [
    "#python给excel加密，给文件设置为只可读不可编辑，若编辑则需要密码\n",
    "from xlsxwriter.workbook import Workbook\n",
    "\n",
    "book = Workbook(r\"新excel文件路径\")\n",
    "sheet = book.add_worksheet('ceshi')    #添加sheet\n",
    "\n",
    "# Add separate format for unlocked cells\n",
    "# unlocked = book.add_format({'locked': 0})\n",
    "# Protect all cells in your sheet by default\n",
    "sheet.protect('密码')  \n",
    "# Write cell, locked by default\n",
    "sheet.write(0, 0, 'aaa')   # 行，列，数据\n",
    "# sheet.write(row_number, column_number, data, unlocked)\n",
    "book.close()\n",
    "\n",
    "# 获取文件路径\n",
    "def get_file_path(rootdir):\n",
    "    pathname = []\n",
    "    for (dirpath, dirnames, filenames) in os.walk(rootdir):\n",
    "        for filename in filenames:\n",
    "            # print(os.path.join(dirpath, filename))\n",
    "            pathname.append(os.path.join(dirpath, filename))\n",
    "    return pathname"
   ]
  },
  {
   "cell_type": "code",
   "execution_count": 8,
   "metadata": {},
   "outputs": [
    {
     "ename": "ModuleNotFoundError",
     "evalue": "No module named 'win32com'",
     "output_type": "error",
     "traceback": [
      "\u001b[0;31m---------------------------------------------------------------------------\u001b[0m",
      "\u001b[0;31mModuleNotFoundError\u001b[0m                       Traceback (most recent call last)",
      "\u001b[0;32m<ipython-input-8-ca65d8122270>\u001b[0m in \u001b[0;36m<module>\u001b[0;34m\u001b[0m\n\u001b[1;32m      1\u001b[0m \u001b[0;32mimport\u001b[0m \u001b[0mos\u001b[0m\u001b[0;34m,\u001b[0m \u001b[0msys\u001b[0m\u001b[0;34m\u001b[0m\u001b[0;34m\u001b[0m\u001b[0m\n\u001b[0;32m----> 2\u001b[0;31m \u001b[0;32mimport\u001b[0m \u001b[0mwin32com\u001b[0m\u001b[0;34m.\u001b[0m\u001b[0mclient\u001b[0m\u001b[0;34m\u001b[0m\u001b[0;34m\u001b[0m\u001b[0m\n\u001b[0m\u001b[1;32m      3\u001b[0m \u001b[0;32mimport\u001b[0m \u001b[0mtime\u001b[0m\u001b[0;34m\u001b[0m\u001b[0;34m\u001b[0m\u001b[0m\n\u001b[1;32m      4\u001b[0m \u001b[0;32mimport\u001b[0m \u001b[0mhashlib\u001b[0m\u001b[0;34m\u001b[0m\u001b[0;34m\u001b[0m\u001b[0m\n\u001b[1;32m      5\u001b[0m \u001b[0;32mimport\u001b[0m \u001b[0mtkinter\u001b[0m \u001b[0;32mas\u001b[0m \u001b[0mtk\u001b[0m    \u001b[0;31m#调用GUI图形模块\u001b[0m\u001b[0;34m\u001b[0m\u001b[0;34m\u001b[0m\u001b[0m\n",
      "\u001b[0;31mModuleNotFoundError\u001b[0m: No module named 'win32com'"
     ]
    }
   ],
   "source": [
    "import os, sys\n",
    "import win32com.client\n",
    "import time\n",
    "import hashlib\n",
    "import tkinter as tk    #调用GUI图形模块\n",
    "\n",
    "from tkinter import filedialog\n",
    "\n",
    "\n",
    "def pwd_xlsx(old_filename,new_filename,pwd_str,pw_str=''):\n",
    "    xcl = win32com.client.Dispatch(\"Excel.Application\")\n",
    "    # pw_str为打开密码, 若无 访问密码, 则设为 ''\n",
    "    wb = xcl.Workbooks.Open(old_filename, False, False, None, pw_str)\n",
    "    xcl.DisplayAlerts = False\n",
    " \n",
    "    # 保存时可设置访问密码.\n",
    "    wb.SaveAs(new_filename, None, pwd_str, '')\n",
    "    time.sleep(0)\n",
    "    wb.Close()\n",
    "    xcl.Quit()\n",
    "\n",
    "\n",
    "\n",
    "    \n",
    "def read_path(path):\n",
    "    dirs = os.listdir(path)\n",
    "    return dirs\n",
    "\n",
    "def 方法_获取文件路径(data_dir):\n",
    "    文件集 = os.listdir(data_dir)\n",
    "    filename=[]\n",
    "    #return 文件集\n",
    "    for 文件名 in 文件集:\n",
    "            文件名分解 = 文件名.split('.')\n",
    "            #print(文件名分解)\n",
    "            if 文件名分解[-1] == 'xlsx' or 文件名分解[-1] == 'xls':\n",
    "                excel文件路径 = (data_dir +  文件名)                \n",
    "                filename.append(excel文件路径)\n",
    "                #print(excel文件路径)\n",
    "    #print(filename)\n",
    "    return filename\n",
    "\n",
    "\n",
    "\n",
    "def main():\n",
    "    \n",
    "    root = tk.Tk()\n",
    "    root.withdraw()\n",
    "    data_dir = filedialog.askdirectory(title='请选择excel所在文件夹')+'/'  \n",
    "    # 将源文件路径里面的文件转换成列表file_list\n",
    "    file_list = 方法_获取文件路径(data_dir)\n",
    " \n",
    "    \n",
    "    dirs='临时文件'\n",
    "    if not os.path.exists(dirs):\n",
    "        os.makedirs(dirs)  #输出文件夹\n",
    "    #global result_dir\n",
    "    result_dir =dirs+'/' \n",
    "    \n",
    "\n",
    "\n",
    "    # 源文件路径\n",
    "    source = data_dir\n",
    " \n",
    "    # 目标文件路径\n",
    "    ob =filedialog.askdirectory(title='请选择输出另存的文件夹')+'/'\n",
    "    \n",
    "    \n",
    "    a = 0       # 列表索引csv文件名称放进j_list列表中，索引0即为第一个csv文件名称\n",
    "    j_list = read_path(source)       # 文件夹中所有的csv文件名称提取出来按顺序放进j_list列表中\n",
    "    #print(\"---->\", read_path(source))       # read_path(source) 本身就是列表\n",
    "    #print(\"read_path(source)类型：\", type(read_path(source)))\n",
    "    # 建立循环对于每个文件调用excel_to_csv()\n",
    "    for it in file_list:\n",
    "        print(it+'开始加密')\n",
    "        j = j_list[a]    # 按照索引逐条将csv文件名称赋值给变量j\n",
    "        #print(j)\n",
    "        # 给目标文件新建一些名字列表\n",
    "        new_filename=ob + '\\\\' + str(j)\n",
    "        pwd_str = '654321'#新密码自定义\n",
    "        aa = it\n",
    "        #print(aa.replace(\"/\", \"\\\\\"))\n",
    "        bb =ob+str(j)\n",
    "        #print(bb.replace(\"/\", \"\\\\\"))\n",
    "        path1=aa.replace(\"/\", \"\\\\\")\n",
    "        path2=bb.replace(\"/\", \"\\\\\")\n",
    "        #Remove_password_xlsx(aa.replace(\"/\", \"\\\\\"), pw_str)\n",
    "        try:\n",
    "            pwd_xlsx(path1, path2,pwd_str)\n",
    "            print(it+'加密完成')\n",
    "            time.sleep(1)\n",
    "        except Exception as e:\n",
    "            print(it+'加密失败，请手动设置')\n",
    "            \n",
    "            pass\n",
    "        \n",
    "        a = a+1\n",
    "    \n",
    "    \n",
    " \n",
    "if __name__ == '__main__':\n",
    "    main()\n",
    "    "
   ]
  },
  {
   "cell_type": "code",
   "execution_count": 3,
   "metadata": {},
   "outputs": [
    {
     "name": "stdout",
     "output_type": "stream",
     "text": [
      "南岸支行\n",
      "北碚支行\n"
     ]
    },
    {
     "data": {
      "text/html": [
       "<div>\n",
       "<style scoped>\n",
       "    .dataframe tbody tr th:only-of-type {\n",
       "        vertical-align: middle;\n",
       "    }\n",
       "\n",
       "    .dataframe tbody tr th {\n",
       "        vertical-align: top;\n",
       "    }\n",
       "\n",
       "    .dataframe thead th {\n",
       "        text-align: right;\n",
       "    }\n",
       "</style>\n",
       "<table border=\"1\" class=\"dataframe\">\n",
       "  <thead>\n",
       "    <tr style=\"text-align: right;\">\n",
       "      <th></th>\n",
       "      <th>文件名称</th>\n",
       "      <th>用户名</th>\n",
       "      <th>计算机IP</th>\n",
       "      <th>文件位置</th>\n",
       "    </tr>\n",
       "  </thead>\n",
       "  <tbody>\n",
       "    <tr>\n",
       "      <th>0</th>\n",
       "      <td>test1.et</td>\n",
       "      <td>whg</td>\n",
       "      <td>127.0.0.1</td>\n",
       "      <td>/home/whgdev/testdir0905</td>\n",
       "    </tr>\n",
       "    <tr>\n",
       "      <th>1</th>\n",
       "      <td>test2.et</td>\n",
       "      <td>whg</td>\n",
       "      <td>127.0.0.1</td>\n",
       "      <td>/home/whgdev/testdir0905</td>\n",
       "    </tr>\n",
       "    <tr>\n",
       "      <th>2</th>\n",
       "      <td>test3.et</td>\n",
       "      <td>whg</td>\n",
       "      <td>127.0.0.1</td>\n",
       "      <td>/home/whgdev/testdir0905</td>\n",
       "    </tr>\n",
       "    <tr>\n",
       "      <th>3</th>\n",
       "      <td>test4.et</td>\n",
       "      <td>whg</td>\n",
       "      <td>127.0.0.1</td>\n",
       "      <td>/home/whgdev/testdir0905</td>\n",
       "    </tr>\n",
       "    <tr>\n",
       "      <th>4</th>\n",
       "      <td>test5.et</td>\n",
       "      <td>whg</td>\n",
       "      <td>127.0.0.1</td>\n",
       "      <td>/home/whgdev/testdir0905</td>\n",
       "    </tr>\n",
       "    <tr>\n",
       "      <th>5</th>\n",
       "      <td>test6.et</td>\n",
       "      <td>whg</td>\n",
       "      <td>127.0.0.1</td>\n",
       "      <td>/home/whgdev/testdir0906</td>\n",
       "    </tr>\n",
       "    <tr>\n",
       "      <th>6</th>\n",
       "      <td>test7.et</td>\n",
       "      <td>whg</td>\n",
       "      <td>127.0.0.1</td>\n",
       "      <td>/home/whgdev/testdir0906</td>\n",
       "    </tr>\n",
       "    <tr>\n",
       "      <th>7</th>\n",
       "      <td>test8.et</td>\n",
       "      <td>whg</td>\n",
       "      <td>127.0.0.1</td>\n",
       "      <td>/home/whgdev/testdir0906</td>\n",
       "    </tr>\n",
       "    <tr>\n",
       "      <th>8</th>\n",
       "      <td>test9.et</td>\n",
       "      <td>whg</td>\n",
       "      <td>127.0.0.1</td>\n",
       "      <td>/home/whgdev/testdir0906</td>\n",
       "    </tr>\n",
       "    <tr>\n",
       "      <th>9</th>\n",
       "      <td>test10.et</td>\n",
       "      <td>whg</td>\n",
       "      <td>127.0.0.1</td>\n",
       "      <td>/home/whgdev/testdir0906</td>\n",
       "    </tr>\n",
       "    <tr>\n",
       "      <th>10</th>\n",
       "      <td>test11.et</td>\n",
       "      <td>whg</td>\n",
       "      <td>127.0.0.1</td>\n",
       "      <td>/home/whgdev/testdir0906</td>\n",
       "    </tr>\n",
       "  </tbody>\n",
       "</table>\n",
       "</div>"
      ],
      "text/plain": [
       "         文件名称  用户名      计算机IP                      文件位置\n",
       "0    test1.et  whg  127.0.0.1  /home/whgdev/testdir0905\n",
       "1    test2.et  whg  127.0.0.1  /home/whgdev/testdir0905\n",
       "2    test3.et  whg  127.0.0.1  /home/whgdev/testdir0905\n",
       "3    test4.et  whg  127.0.0.1  /home/whgdev/testdir0905\n",
       "4    test5.et  whg  127.0.0.1  /home/whgdev/testdir0905\n",
       "5    test6.et  whg  127.0.0.1  /home/whgdev/testdir0906\n",
       "6    test7.et  whg  127.0.0.1  /home/whgdev/testdir0906\n",
       "7    test8.et  whg  127.0.0.1  /home/whgdev/testdir0906\n",
       "8    test9.et  whg  127.0.0.1  /home/whgdev/testdir0906\n",
       "9   test10.et  whg  127.0.0.1  /home/whgdev/testdir0906\n",
       "10  test11.et  whg  127.0.0.1  /home/whgdev/testdir0906"
      ]
     },
     "execution_count": 3,
     "metadata": {},
     "output_type": "execute_result"
    }
   ],
   "source": [
    "import pandas as pd\n",
    "import os\n",
    "#循环读取b\n",
    "branches=['南岸支行','北碚支行']\n",
    "\n",
    "for i in branches:\n",
    "    print(i)\n",
    "    \n",
    "df_excel=pd.read_excel(\"/home/whgdev/桌面/test.xls\")\n",
    "df_excel"
   ]
  },
  {
   "cell_type": "code",
   "execution_count": null,
   "metadata": {},
   "outputs": [],
   "source": [
    "# 设计批量加密文件（删除文件）、密码（自定义）。先命令/后图形。"
   ]
  },
  {
   "cell_type": "code",
   "execution_count": null,
   "metadata": {},
   "outputs": [],
   "source": [
    "# 第一阶段，命令式"
   ]
  },
  {
   "cell_type": "code",
   "execution_count": null,
   "metadata": {},
   "outputs": [],
   "source": [
    "# 测试\n",
    "import os                                                 #导入模块\n",
    "def delete_files():                                           #定义函数名称\n",
    "    for foldName, subfolders, filenames in os.walk(path):     #用os.walk方法取得path路径下的文件夹路径，子文件夹名，所有文件名\n",
    "           for filename in filenames:                         #遍历列表下的所有文件名\n",
    "                if filename!= r'aaa.png':                       #当文件名不为“aaa.png”时\n",
    "                    if filename.endswith('.png'):                #当文件名以.png后缀结尾时\n",
    "                        os.remove(os.path.join(foldName, filename))    #删除符合条件的文件\n",
    "                        print(\"{} deleted.\".format(filename)) "
   ]
  },
  {
   "cell_type": "code",
   "execution_count": 43,
   "metadata": {},
   "outputs": [
    {
     "name": "stdout",
     "output_type": "stream",
     "text": [
      "/home/whgdev/testdir0905/test1.et\n",
      "/home/whgdev/testdir0905/test2.et\n",
      "/home/whgdev/testdir0905/test3.et\n",
      "/home/whgdev/testdir0905/test4.et\n",
      "/home/whgdev/testdir0905/test5.et\n",
      "/home/whgdev/testdir0906/test6.et\n",
      "/home/whgdev/testdir0906/test7.et\n",
      "/home/whgdev/testdir0906/test8.et\n",
      "/home/whgdev/testdir0906/test9.et\n",
      "/home/whgdev/testdir0906/test10.et\n",
      "/home/whgdev/testdir0906/test11.et\n",
      "文件不存在\n"
     ]
    }
   ],
   "source": [
    "#读取文件名称、用户名、计算机IP、文件位置。调用程序删除或加密文件。粉碎文件，即可让文件不可用。\n",
    "import pandas as pd\n",
    "import os\n",
    "#拼接字符串\n",
    "def full_name(x,y):\n",
    "    return ''.join([x,'/',y])\n",
    "#记录日志，存入数据库\n",
    "\n",
    "\n",
    "#删除文件\n",
    "def del_files(df):\n",
    "    for filename in df.全名:\n",
    "#         print(filename)\n",
    "    if(os.path.exists(filename)):\n",
    "        os.remove(filename)\n",
    "        #产生日志存入数据库。\n",
    "        if(os.path.exists(filename)==False):\n",
    "            print(filename+'清理成功')\n",
    "    else:\n",
    "        print('文件不存在') \n",
    "    \n",
    "#加密文件，et\\xlsx\\xls\n",
    "#暂不开发，已规划。\n",
    "# def pwd(filename,pwd):\n",
    "    \n",
    "\n",
    "#访问数据库，注意密码加密\n",
    "df_excel=pd.read_excel(\"/home/whgdev/桌面/test.xls\")\n",
    "df_excel['全名']=df_excel.apply(lambda x:full_name(x['文件位置'],x['文件名称']),axis=1)\n",
    "# 删除文件\n",
    "# del_files(df_excel)\n",
    "#加密文件,et 或doc\n",
    "\n",
    "\n",
    "\n",
    "\n"
   ]
  },
  {
   "cell_type": "code",
   "execution_count": 38,
   "metadata": {
    "scrolled": true
   },
   "outputs": [
    {
     "data": {
      "text/html": [
       "<div>\n",
       "<style scoped>\n",
       "    .dataframe tbody tr th:only-of-type {\n",
       "        vertical-align: middle;\n",
       "    }\n",
       "\n",
       "    .dataframe tbody tr th {\n",
       "        vertical-align: top;\n",
       "    }\n",
       "\n",
       "    .dataframe thead th {\n",
       "        text-align: right;\n",
       "    }\n",
       "</style>\n",
       "<table border=\"1\" class=\"dataframe\">\n",
       "  <thead>\n",
       "    <tr style=\"text-align: right;\">\n",
       "      <th></th>\n",
       "      <th>文件名称</th>\n",
       "      <th>用户名</th>\n",
       "      <th>计算机IP</th>\n",
       "      <th>文件位置</th>\n",
       "      <th>全名</th>\n",
       "    </tr>\n",
       "  </thead>\n",
       "  <tbody>\n",
       "    <tr>\n",
       "      <th>0</th>\n",
       "      <td>test1.et</td>\n",
       "      <td>whg</td>\n",
       "      <td>127.0.0.1</td>\n",
       "      <td>/home/whgdev/testdir0905</td>\n",
       "      <td>/home/whgdev/testdir0905/test1.et</td>\n",
       "    </tr>\n",
       "    <tr>\n",
       "      <th>1</th>\n",
       "      <td>test2.et</td>\n",
       "      <td>whg</td>\n",
       "      <td>127.0.0.1</td>\n",
       "      <td>/home/whgdev/testdir0905</td>\n",
       "      <td>/home/whgdev/testdir0905/test2.et</td>\n",
       "    </tr>\n",
       "    <tr>\n",
       "      <th>2</th>\n",
       "      <td>test3.et</td>\n",
       "      <td>whg</td>\n",
       "      <td>127.0.0.1</td>\n",
       "      <td>/home/whgdev/testdir0905</td>\n",
       "      <td>/home/whgdev/testdir0905/test3.et</td>\n",
       "    </tr>\n",
       "    <tr>\n",
       "      <th>3</th>\n",
       "      <td>test4.et</td>\n",
       "      <td>whg</td>\n",
       "      <td>127.0.0.1</td>\n",
       "      <td>/home/whgdev/testdir0905</td>\n",
       "      <td>/home/whgdev/testdir0905/test4.et</td>\n",
       "    </tr>\n",
       "    <tr>\n",
       "      <th>4</th>\n",
       "      <td>test5.et</td>\n",
       "      <td>whg</td>\n",
       "      <td>127.0.0.1</td>\n",
       "      <td>/home/whgdev/testdir0905</td>\n",
       "      <td>/home/whgdev/testdir0905/test5.et</td>\n",
       "    </tr>\n",
       "    <tr>\n",
       "      <th>5</th>\n",
       "      <td>test6.et</td>\n",
       "      <td>whg</td>\n",
       "      <td>127.0.0.1</td>\n",
       "      <td>/home/whgdev/testdir0906</td>\n",
       "      <td>/home/whgdev/testdir0906/test6.et</td>\n",
       "    </tr>\n",
       "    <tr>\n",
       "      <th>6</th>\n",
       "      <td>test7.et</td>\n",
       "      <td>whg</td>\n",
       "      <td>127.0.0.1</td>\n",
       "      <td>/home/whgdev/testdir0906</td>\n",
       "      <td>/home/whgdev/testdir0906/test7.et</td>\n",
       "    </tr>\n",
       "    <tr>\n",
       "      <th>7</th>\n",
       "      <td>test8.et</td>\n",
       "      <td>whg</td>\n",
       "      <td>127.0.0.1</td>\n",
       "      <td>/home/whgdev/testdir0906</td>\n",
       "      <td>/home/whgdev/testdir0906/test8.et</td>\n",
       "    </tr>\n",
       "    <tr>\n",
       "      <th>8</th>\n",
       "      <td>test9.et</td>\n",
       "      <td>whg</td>\n",
       "      <td>127.0.0.1</td>\n",
       "      <td>/home/whgdev/testdir0906</td>\n",
       "      <td>/home/whgdev/testdir0906/test9.et</td>\n",
       "    </tr>\n",
       "    <tr>\n",
       "      <th>9</th>\n",
       "      <td>test10.et</td>\n",
       "      <td>whg</td>\n",
       "      <td>127.0.0.1</td>\n",
       "      <td>/home/whgdev/testdir0906</td>\n",
       "      <td>/home/whgdev/testdir0906/test10.et</td>\n",
       "    </tr>\n",
       "    <tr>\n",
       "      <th>10</th>\n",
       "      <td>test11.et</td>\n",
       "      <td>whg</td>\n",
       "      <td>127.0.0.1</td>\n",
       "      <td>/home/whgdev/testdir0906</td>\n",
       "      <td>/home/whgdev/testdir0906/test11.et</td>\n",
       "    </tr>\n",
       "  </tbody>\n",
       "</table>\n",
       "</div>"
      ],
      "text/plain": [
       "         文件名称  用户名      计算机IP                      文件位置  \\\n",
       "0    test1.et  whg  127.0.0.1  /home/whgdev/testdir0905   \n",
       "1    test2.et  whg  127.0.0.1  /home/whgdev/testdir0905   \n",
       "2    test3.et  whg  127.0.0.1  /home/whgdev/testdir0905   \n",
       "3    test4.et  whg  127.0.0.1  /home/whgdev/testdir0905   \n",
       "4    test5.et  whg  127.0.0.1  /home/whgdev/testdir0905   \n",
       "5    test6.et  whg  127.0.0.1  /home/whgdev/testdir0906   \n",
       "6    test7.et  whg  127.0.0.1  /home/whgdev/testdir0906   \n",
       "7    test8.et  whg  127.0.0.1  /home/whgdev/testdir0906   \n",
       "8    test9.et  whg  127.0.0.1  /home/whgdev/testdir0906   \n",
       "9   test10.et  whg  127.0.0.1  /home/whgdev/testdir0906   \n",
       "10  test11.et  whg  127.0.0.1  /home/whgdev/testdir0906   \n",
       "\n",
       "                                    全名  \n",
       "0    /home/whgdev/testdir0905/test1.et  \n",
       "1    /home/whgdev/testdir0905/test2.et  \n",
       "2    /home/whgdev/testdir0905/test3.et  \n",
       "3    /home/whgdev/testdir0905/test4.et  \n",
       "4    /home/whgdev/testdir0905/test5.et  \n",
       "5    /home/whgdev/testdir0906/test6.et  \n",
       "6    /home/whgdev/testdir0906/test7.et  \n",
       "7    /home/whgdev/testdir0906/test8.et  \n",
       "8    /home/whgdev/testdir0906/test9.et  \n",
       "9   /home/whgdev/testdir0906/test10.et  \n",
       "10  /home/whgdev/testdir0906/test11.et  "
      ]
     },
     "execution_count": 38,
     "metadata": {},
     "output_type": "execute_result"
    }
   ],
   "source": [
    "df_excel"
   ]
  },
  {
   "cell_type": "code",
   "execution_count": 44,
   "metadata": {},
   "outputs": [],
   "source": [
    "#图形化界面。"
   ]
  },
  {
   "cell_type": "code",
   "execution_count": null,
   "metadata": {},
   "outputs": [],
   "source": [
    "# from tkinter import *\n",
    "import tkinter as tk\n",
    "###定义函数区开始\n",
    "def clickExitButton():\n",
    "    exit()\n",
    "###定义函数区结束\n",
    "\n",
    "\n",
    "# 建立窗口\n",
    "root=tk.Tk()\n",
    "#创建窗口名称\n",
    "root.title('客户个人敏感数据治理程序')\n",
    "#设定窗口大小\n",
    "root.geometry('480x480') # 这里的乘号不是 * ，而是小写英文字母 x\n",
    "# 设定标签\n",
    "Chinese='您好'\n",
    "# Chinese.decode('gbk')\n",
    "lab=tk.Label(root,text=Chinese,bg='green' ,font=('Arial', 12), width=60, height=2)\n",
    "# 放置标签\n",
    "lab.pack()\n",
    "# 第5步，定义两个触发事件时的函数insert_point和insert_end（注意：因为Python的执行顺序是从上往下，所以函数一定要放在按钮的上面）\n",
    "def insert_point(): # 在鼠标焦点处插入输入内容\n",
    "    var = e.get()\n",
    "    t.insert('insert', var)\n",
    "def insert_end():   # 在文本框内容最后接着插入输入内容\n",
    "    var = e.get()\n",
    "    t.insert('end', var)\n",
    "# 第6步，创建并放置两个按钮分别触发两种情况\n",
    "b1 = tk.Button(root, text='import files to delete', width=18,\n",
    "               height=2, command=insert_point)\n",
    "b1.pack()\n",
    "b2 = tk.Button(root, text='delete', width=10,\n",
    "               height=2, command=insert_end)\n",
    "b2.pack()\n",
    "\n",
    "exitButton = tk.Button(root, text=\"Exit\", command=clickExitButton)\n",
    "        # place button at (0,0)\n",
    "exitButton.place(x=320, y=320)\n",
    "\n",
    " \n",
    "# 第7步，创建并放置一个多行文本框text用以显示，指定height=3为文本框是三个字符高度\n",
    "t = tk.Text(root, height=3)\n",
    "t.pack()\n",
    "root.mainloop()"
   ]
  },
  {
   "cell_type": "code",
   "execution_count": 1,
   "metadata": {},
   "outputs": [
    {
     "ename": "SyntaxError",
     "evalue": "invalid syntax (<ipython-input-1-5633e0e1d8d3>, line 28)",
     "output_type": "error",
     "traceback": [
      "\u001b[0;36m  File \u001b[0;32m\"<ipython-input-1-5633e0e1d8d3>\"\u001b[0;36m, line \u001b[0;32m28\u001b[0m\n\u001b[0;31m    https://pythonbasics.org/tkinter-checkbox/\u001b[0m\n\u001b[0m           ^\u001b[0m\n\u001b[0;31mSyntaxError\u001b[0m\u001b[0;31m:\u001b[0m invalid syntax\n"
     ]
    }
   ],
   "source": [
    "from tkinter import *\n",
    "\n",
    "class Window(Frame):\n",
    "\n",
    "    def __init__(self, master=None):\n",
    "        Frame.__init__(self, master)        \n",
    "        self.master = master\n",
    "\n",
    "        # widget can take all window\n",
    "        self.pack(fill=BOTH, expand=1)\n",
    "\n",
    "        # create button, link it to clickExitButton()\n",
    "        exitButton = Button(self, text=\"Exit\", command=self.clickExitButton)\n",
    "\n",
    "        # place button at (0,0)\n",
    "        exitButton.place(x=0, y=0)\n",
    "\n",
    "    def clickExitButton(self):\n",
    "        exit()\n",
    "        \n",
    "root = Tk()\n",
    "app = Window(root)\n",
    "root.wm_title(\"Tkinter button\")\n",
    "root.geometry(\"320x200\")\n",
    "root.mainloop()\n",
    "\n",
    "\n",
    "https://pythonbasics.org/tkinter-checkbox/\n",
    "    \n",
    "    https://blog.csdn.net/jane_xing/article/details/108484133\n",
    "#         Python PyQt5 Qt Designer (Qt设计师)\n",
    "        https://blog.csdn.net/Rozol/article/details/87705426\n",
    "#             在PyQt5中使用数据库\n",
    "            https://blog.csdn.net/u011146423/article/details/85242887\n",
    "#         PyQt Designer 官网\n",
    "        \n",
    "        \n",
    "#         python 之 Qt Designer工具的使用方法\n",
    "        \n",
    "        https://blog.csdn.net/zhaochongsi/article/details/108642031?spm=1001.2101.3001.6650.1&utm_medium=distribute.pc_relevant.none-task-blog-2%7Edefault%7ECTRLIST%7ERate-1-108642031-blog-87705426.topnsimilarv1&depth_1-utm_source=distribute.pc_relevant.none-task-blog-2%7Edefault%7ECTRLIST%7ERate-1-108642031-blog-87705426.topnsimilarv1&utm_relevant_index=2"
   ]
  },
  {
   "cell_type": "code",
   "execution_count": 1,
   "metadata": {},
   "outputs": [],
   "source": [
    "# 深度盘点！史上最全的34个Python 自动化办公库https://zhuanlan.zhihu.com/p/387698681"
   ]
  }
 ],
 "metadata": {
  "kernelspec": {
   "display_name": "Python 3 (ipykernel)",
   "language": "python",
   "name": "python3"
  },
  "language_info": {
   "codemirror_mode": {
    "name": "ipython",
    "version": 3
   },
   "file_extension": ".py",
   "mimetype": "text/x-python",
   "name": "python",
   "nbconvert_exporter": "python",
   "pygments_lexer": "ipython3",
   "version": "3.10.10"
  }
 },
 "nbformat": 4,
 "nbformat_minor": 2
}
