{
 "cells": [
  {
   "cell_type": "markdown",
   "metadata": {},
   "source": [
    "画函数图像、画几何图形 结合小学生的数学教育。"
   ]
  },
  {
   "cell_type": "code",
   "execution_count": 4,
   "metadata": {},
   "outputs": [],
   "source": [
    "import numpy as np\n",
    "import matplotlib.pyplot as plt"
   ]
  },
  {
   "cell_type": "code",
   "execution_count": 26,
   "metadata": {},
   "outputs": [],
   "source": [
    "from matplotlib.font_manager import FontManager\n",
    "import subprocess\n",
    "fm=FontManager()\n",
    "mat_fonts=set(f.name for f in fm.ttflist)\n",
    "output=subprocess.check_output('fc-list :lang=zh-f \"%{family}\\n\"',shell=True)\n",
    "output=output.decode('utf-8')\n",
    "# print(output)"
   ]
  },
  {
   "cell_type": "code",
   "execution_count": 25,
   "metadata": {},
   "outputs": [
    {
     "name": "stdout",
     "output_type": "stream",
     "text": [
      "\n"
     ]
    }
   ],
   "source": [
    "print(output)"
   ]
  },
  {
   "cell_type": "markdown",
   "metadata": {},
   "source": [
    "# 几何图形"
   ]
  },
  {
   "cell_type": "code",
   "execution_count": 5,
   "metadata": {},
   "outputs": [],
   "source": [
    "from PIL import Image\n",
    "from PIL import ImageDraw\n",
    "from PIL import ImageFont"
   ]
  },
  {
   "cell_type": "code",
   "execution_count": 8,
   "metadata": {},
   "outputs": [],
   "source": [
    "def draw_test():\n",
    "  \n",
    " #生成深蓝色绘图画布\n",
    " array = np.ndarray((480, 640, 3), np.uint8)\n",
    "  \n",
    " array[:, :, 0] = 0\n",
    " array[:, :, 1] = 0\n",
    " array[:, :, 2] = 100\n",
    "  \n",
    " image = Image.fromarray(array)\n",
    "  \n",
    " #创建绘制对象\n",
    " draw = ImageDraw.Draw(image)\n",
    "  \n",
    " #绘制直线\n",
    " draw.line((20, 20, 150, 150), 'cyan')\n",
    "  \n",
    " #绘制矩形\n",
    " draw.rectangle((100, 200, 300, 400), 'black', 'red')\n",
    "  \n",
    " #绘制弧\n",
    " draw.arc((100, 200, 300, 400), 0, 180, 'yellow')\n",
    " draw.arc((100, 200, 300, 400), -90, 0, 'green')\n",
    "  \n",
    " #绘制弦\n",
    " draw.chord((350, 50, 500, 200), 0, 120, 'khaki', 'orange')\n",
    "  \n",
    " #绘制圆饼图\n",
    " draw.pieslice((350, 50, 500, 200), -150, -30, 'pink', 'crimson')\n",
    "  \n",
    " #绘制椭圆\n",
    " draw.ellipse((350, 300, 500, 400), 'yellowgreen', 'wheat')\n",
    " #外切矩形为正方形时椭圆即为圆\n",
    " draw.ellipse((550, 50, 600, 100), 'seagreen', 'skyblue') \n",
    "  \n",
    " #绘制多边形\n",
    " draw.polygon((150, 180, 200, 180, 250, 120, 230, 90, 130, 100), 'olive', 'hotpink')\n",
    "  \n",
    " #绘制文本\n",
    "#  font = ImageFont.truetype(\"consola.ttf\", 40, encoding=\"unic\")#设置字体\n",
    "#  draw.text((100, 50), u'Hello World', 'fuchsia', font)\n",
    "  \n",
    " image.show()\n",
    "  \n",
    " return"
   ]
  },
  {
   "cell_type": "code",
   "execution_count": 10,
   "metadata": {},
   "outputs": [],
   "source": [
    "draw_test()"
   ]
  },
  {
   "cell_type": "code",
   "execution_count": 13,
   "metadata": {},
   "outputs": [],
   "source": [
    "import cv2\n",
    "import numpy as np\n",
    "import os\n",
    "  \n",
    "class Drawing(object):\n",
    " \"\"\"\n",
    " 使用opencv绘制图形，支持直线，矩形，圆形，椭圆，多边形以及被标注文字添加\n",
    " \"\"\"\n",
    " chart_list = ['line', 'rectangle', 'circle', 'ellipse', 'polylines', 'puttext']\n",
    "  \n",
    " def __init__(self, src_img, dst_img, chart, dict_args):\n",
    "  self.src_img = os.path.normpath(src_img)\n",
    "  self.dst_img = os.path.normpath(dst_img)\n",
    "  self.chart = chart\n",
    "  self.dict_args = dict_args\n",
    "  # 颜色不传默认为红色\n",
    "  self.color = dict_args['color'] if dict_args.has_key('color') else (0,0,255)\n",
    "  # 线条粗细不传默认为 2\n",
    "  self.thickness = dict_args['thickness'] if dict_args.has_key('thickness') else 2\n",
    "  \n",
    " def handle(self):\n",
    "  # 导入图片\n",
    "  self.src_img = cv2.imread(self.src_img)\n",
    "  if self.chart not in self.chart_list:\n",
    "   print('must input your right parameter')\n",
    "   return\n",
    "  if self.chart == 'line':\n",
    "   # 画直线\n",
    "   self.start = self.dict_args['start']\n",
    "   self.end = self.dict_args['end']\n",
    "   self.draw_line()\n",
    "  elif self.chart == 'rectangle':\n",
    "   # 画矩形\n",
    "   self.top_left = self.dict_args['top_left']\n",
    "   self.bottom_right = self.dict_args['bottom_right']\n",
    "   self.draw_rectangle()\n",
    "  elif self.chart == 'circle':\n",
    "   # 画圆形\n",
    "   self.center = self.dict_args['center']\n",
    "   self.radius = self.dict_args['radius']\n",
    "   self.draw_circle()\n",
    "  elif self.chart == 'ellipse':\n",
    "   # 画椭圆\n",
    "   self.center = self.dict_args['center']\n",
    "   self.axes = self.dict_args['axes']\n",
    "   # 旋转角度，起始角度，终止角度 可不传参，使用默认值\n",
    "   self.angle = self.dict_args['angle'] if self.dict_args.has_key('angle') else 0\n",
    "   self.startangle = self.dict_args['startangle'] if self.dict_args.has_key('startangle') else 0\n",
    "   self.endangle = self.dict_args['endangle'] if self.dict_args.has_key('endangle') else 360\n",
    "   self.draw_ellipse()\n",
    "  elif self.chart == 'polylines':\n",
    "   # 画多边形\n",
    "   if not isinstance(self.dict_args['points'], list):\n",
    "    self.pts = list(self.dict_args['points'])\n",
    "   self.pts = np.array(self.dict_args['points'], np.int32)\n",
    "   self.close = self.dict_args['close'] if self.dict_args.has_key('close') else True\n",
    "   self.draw_polylines()\n",
    "  else:\n",
    "   # 标注文本\n",
    "   self.text = self.dict_args['text']\n",
    "   self.position = self.dict_args['position']\n",
    "   # 字体，文字大小 可不传参，使用默认值\n",
    "   self.font = self.dict_args['font'] if self.dict_args.has_key('font') else cv2.FONT_HERSHEY_SIMPLEX\n",
    "   self.size = self.dict_args['size'] if self.dict_args.has_key('size') else 1\n",
    "   self.add_text()\n",
    "  cv2.imwrite(self.dst_img, self.src_img)\n",
    "  \n",
    " def draw_line(self):\n",
    "  # 划线\n",
    "  # 输入参数分别为图像，开始坐标，结束坐标，颜色数组，粗细\n",
    "  cv2.line(self.src_img, self.start, self.end, self.color, self.thickness)\n",
    "  \n",
    " def draw_rectangle(self):\n",
    "  # 画矩形\n",
    "  # 输入参数分别为图像、左上角坐标、右下角坐标、颜色数组、粗细\n",
    "  cv2.rectangle(self.src_img, self.top_left, self.bottom_right, self.color, self.thickness)\n",
    "  \n",
    " def draw_circle(self):\n",
    "  # 画圆形\n",
    "  # 输入参数为图像，圆心，半径，线条颜色，粗细\n",
    "  cv2.circle(self.src_img, self.center, self.radius, self.color, self.thickness)\n",
    "  \n",
    " def draw_ellipse(self):\n",
    "  # 画椭圆\n",
    "  # 输入参数为图像，中心，（长轴，短轴），旋转角度，起始角度，终止角度，线条颜色，粗细\n",
    "  cv2.ellipse(self.src_img, self.center, self.axes, self.angle, self.startangle,self.endangle, self.color, self.thickness)\n",
    "  \n",
    " def draw_polylines(self):\n",
    "  # 画多边形\n",
    "  # 输入参数为图像，多边形各个顶点坐标，是否连成封闭图形，线的颜色，粗细\n",
    "  cv2.polylines(self.src_img, [self.pts], self.close, self.color, self.thickness)\n",
    "  \n",
    " def add_text(self):\n",
    "  # 标注文本\n",
    "  # 输入参数为图像、文本、位置、字体、大小、颜色数组、粗细\n",
    "  cv2.putText(self.src_img, self.text, self.position, self.font, self.size, self.color, self.thickness)"
   ]
  },
  {
   "cell_type": "code",
   "execution_count": 15,
   "metadata": {},
   "outputs": [
    {
     "ename": "TypeError",
     "evalue": "__init__() missing 4 required positional arguments: 'src_img', 'dst_img', 'chart', and 'dict_args'",
     "output_type": "error",
     "traceback": [
      "\u001b[0;31m---------------------------------------------------------------------------\u001b[0m",
      "\u001b[0;31mTypeError\u001b[0m                                 Traceback (most recent call last)",
      "\u001b[0;32m<ipython-input-15-047f1c79bbd5>\u001b[0m in \u001b[0;36m<module>\u001b[0;34m\u001b[0m\n\u001b[0;32m----> 1\u001b[0;31m \u001b[0mdrawing\u001b[0m\u001b[0;34m=\u001b[0m \u001b[0mDrawing\u001b[0m\u001b[0;34m(\u001b[0m\u001b[0;34m)\u001b[0m\u001b[0;34m\u001b[0m\u001b[0;34m\u001b[0m\u001b[0m\n\u001b[0m",
      "\u001b[0;31mTypeError\u001b[0m: __init__() missing 4 required positional arguments: 'src_img', 'dst_img', 'chart', and 'dict_args'"
     ]
    }
   ],
   "source": [
    "drawing= Drawing()"
   ]
  },
  {
   "cell_type": "markdown",
   "metadata": {},
   "source": [
    "# 函数图形（由简单到复杂、高等数学、线性代数）"
   ]
  },
  {
   "cell_type": "code",
   "execution_count": 17,
   "metadata": {},
   "outputs": [],
   "source": [
    "x = np.linspace(0, 10, 1000)\n",
    "y1=np.sin(x)\n",
    "y2=x**2\n",
    "y3=x"
   ]
  },
  {
   "cell_type": "code",
   "execution_count": 18,
   "metadata": {
    "scrolled": true
   },
   "outputs": [
    {
     "data": {
      "text/plain": [
       "[<matplotlib.lines.Line2D at 0x7fa2d8314828>]"
      ]
     },
     "execution_count": 18,
     "metadata": {},
     "output_type": "execute_result"
    },
    {
     "data": {
      "image/png": "[encoded data removed]",
      "text/plain": [
       "<Figure size 432x288 with 1 Axes>"
      ]
     },
     "metadata": {
      "needs_background": "light"
     },
     "output_type": "display_data"
    }
   ],
   "source": [
    "plt.plot(x,y1,'r',linewidth=2)\n",
    "# plt.plot(x,y2,'b',linewidth=2)"
   ]
  },
  {
   "cell_type": "code",
   "execution_count": 26,
   "metadata": {},
   "outputs": [
    {
     "data": {
      "text/plain": [
       "[<matplotlib.lines.Line2D at 0x7f89178c5b00>]"
      ]
     },
     "execution_count": 26,
     "metadata": {},
     "output_type": "execute_result"
    },
    {
     "data": {
      "image/png": "[encoded data removed]",
      "text/plain": [
       "<Figure size 432x288 with 1 Axes>"
      ]
     },
     "metadata": {
      "needs_background": "light"
     },
     "output_type": "display_data"
    }
   ],
   "source": [
    "plt.plot(x,y2,'b',linewidth=2)"
   ]
  },
  {
   "cell_type": "code",
   "execution_count": 29,
   "metadata": {},
   "outputs": [
    {
     "data": {
      "text/plain": [
       "[<matplotlib.lines.Line2D at 0x7f891780d320>]"
      ]
     },
     "execution_count": 29,
     "metadata": {},
     "output_type": "execute_result"
    },
    {
     "data": {
      "image/png": "[encoded data removed]",
      "text/plain": [
       "<Figure size 432x288 with 1 Axes>"
      ]
     },
     "metadata": {
      "needs_background": "light"
     },
     "output_type": "display_data"
    }
   ],
   "source": [
    "plt.plot(x,y3,'b',linewidth=2)"
   ]
  },
  {
   "cell_type": "code",
   "execution_count": 19,
   "metadata": {},
   "outputs": [
    {
     "data": {
      "text/plain": [
       "[<matplotlib.lines.Line2D at 0x7fa2d8261cc0>]"
      ]
     },
     "execution_count": 19,
     "metadata": {},
     "output_type": "execute_result"
    },
    {
     "data": {
      "image/png": "[encoded data removed]",
      "text/plain": [
       "<Figure size 432x288 with 3 Axes>"
      ]
     },
     "metadata": {
      "needs_background": "light"
     },
     "output_type": "display_data"
    }
   ],
   "source": [
    "f, (ax1, ax2,ax3) = plt.subplots(1, 3, sharey=True)\n",
    "ax1.plot(x,y1)\n",
    "ax1.set_title('正弦')\n",
    "ax2.plot(x,y2)\n",
    "ax3.plot(x,y3)"
   ]
  },
  {
   "cell_type": "markdown",
   "metadata": {},
   "source": [
    "方程式：Y=X"
   ]
  }
 ],
 "metadata": {
  "kernelspec": {
   "display_name": "Python 3",
   "language": "python",
   "name": "python3"
  },
  "language_info": {
   "codemirror_mode": {
    "name": "ipython",
    "version": 3
   },
   "file_extension": ".py",
   "mimetype": "text/x-python",
   "name": "python",
   "nbconvert_exporter": "python",
   "pygments_lexer": "ipython3",
   "version": "3.7.3"
  }
 },
 "nbformat": 4,
 "nbformat_minor": 2
}
