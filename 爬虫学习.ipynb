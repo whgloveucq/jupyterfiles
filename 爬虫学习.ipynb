{
 "cells": [
  {
   "cell_type": "code",
   "execution_count": null,
   "metadata": {},
   "outputs": [],
   "source": [
    "# from notebook.auth import passwd\n",
    "# p=passwd()\n",
    "# print(p)"
   ]
  },
  {
   "cell_type": "markdown",
   "metadata": {},
   "source": [
    "# import requests\n",
    "# 引入BS库\n",
    "from bs4 import BeautifulSoup\n",
    "res = requests.get('https://localprod.pandateacher.com/python-manuscript/crawler-html/spider-men5.0.html') \n",
    "#获取网页源代码，得到的res是response对象\n",
    "print(res.status_code) #检查请求是否正确响应\n",
    "html = res.text #把res的内容以字符串的形式返回\n",
    "# print(html)#打印html\n",
    "soup=BeautifulSoup(html,'html.parser')\n",
    "items=soup.find_all(class_='books')\n",
    "for item in items:\n",
    "#     print('要找的都在这里了\\n ----%s----\\n %s'%(type(item),item))\n",
    "#     print(item.text)\n",
    "# print(type(items))\n",
    "# print(items)\n",
    "    kind=item.find('h2')\n",
    "    title = item.find(class_='title')\n",
    "    brief = item.find(class_='info') \n",
    "    print(kind.text,'\\n',title.text,'\\n',brief.text) \n",
    "    print(type(kind))"
   ]
  },
  {
   "cell_type": "code",
   "execution_count": 75,
   "metadata": {},
   "outputs": [
    {
     "name": "stdout",
     "output_type": "stream",
     "text": [
      "<class 'bs4.element.Tag'>\n",
      "\n",
      "\n",
      "\t\t\t“未来已来（四）——Python学习进阶图谱”的21,652个回复\t\t\n",
      "\n",
      "\n",
      "\n",
      "\n",
      "\n",
      " spiderman说道： \n",
      "\n",
      "\n",
      "\n",
      "\t\t\t\t\t\t\t\t2020-07-30 11:39\t\t\t\t\t\t\t\n",
      "\n",
      "\n",
      "\n",
      "\n",
      "ksdfjsdkfj\n",
      "\n",
      "\n",
      "\n",
      "\n",
      "\n",
      "\n",
      "\n",
      " spiderman说道： \n",
      "\n",
      "\n",
      "\n",
      "\t\t\t\t\t\t\t\t2020-07-30 11:36\t\t\t\t\t\t\t\n",
      "\n",
      "\n",
      "\n",
      "\n",
      "测试测试aacb\n",
      "\n",
      "\n",
      "\n",
      "\n",
      "\n",
      "评论导航\n",
      "  上一篇\n",
      "1\n",
      "…\n",
      "2,164\n",
      "2,165\n",
      "2,166\n",
      " \n",
      "发表评论 取消回复要发表评论，您必须先登录。 \n",
      "\n"
     ]
    }
   ],
   "source": [
    "import requests\n",
    "from bs4 import BeautifulSoup\n",
    "res=requests.get('https://wordpress-edu-3autumn.localprod.oc.forchange.cn/all-about-the-future_04/')\n",
    "#print(res.text)\n",
    "bs=BeautifulSoup(res.text,'html.parser')\n",
    "items=bs.find_all('div',id='comments')\n",
    "for item in items:\n",
    "    print(type(item))\n",
    "    print(item.text)\n",
    "#     print(item.find('h2').text)\n",
    "#     print(item.find('p').text)"
   ]
  }
 ],
 "metadata": {
  "kernelspec": {
   "display_name": "Python 3",
   "language": "python",
   "name": "python3"
  },
  "language_info": {
   "codemirror_mode": {
    "name": "ipython",
    "version": 3
   },
   "file_extension": ".py",
   "mimetype": "text/x-python",
   "name": "python",
   "nbconvert_exporter": "python",
   "pygments_lexer": "ipython3",
   "version": "3.7.3"
  }
 },
 "nbformat": 4,
 "nbformat_minor": 2
}
