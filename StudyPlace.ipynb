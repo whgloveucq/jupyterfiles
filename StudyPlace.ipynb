{
 "cells": [
  {
   "cell_type": "code",
   "execution_count": null,
   "metadata": {},
   "outputs": [],
   "source": [
    "#研究pandas ,python 的学习园地"
   ]
  },
  {
   "cell_type": "code",
   "execution_count": 2,
   "metadata": {},
   "outputs": [
    {
     "ename": "SyntaxError",
     "evalue": "invalid syntax (<ipython-input-2-ff22023ab1c2>, line 10)",
     "output_type": "error",
     "traceback": [
      "\u001b[0;36m  File \u001b[0;32m\"<ipython-input-2-ff22023ab1c2>\"\u001b[0;36m, line \u001b[0;32m10\u001b[0m\n\u001b[0;31m    df[[\"col1\",\"col2\",\"col3\"]] 或df.filter(items=[\"col1\",\"col2\",\"col3\"])\u001b[0m\n\u001b[0m                                 ^\u001b[0m\n\u001b[0;31mSyntaxError\u001b[0m\u001b[0;31m:\u001b[0m invalid syntax\n"
     ]
    }
   ],
   "source": [
    "#pandas与sql的对比\n",
    "#选择\n",
    "df \n",
    "#前4条\n",
    "df.head(4)\n",
    "#后4条\n",
    "df.tail(4)\n",
    "#切片数据,4、5、6、7\n",
    "df[3:7]\n",
    "#选择某字段\n",
    "df[[\"col1\",\"col2\",\"col3\"]] 或df.filter(items=[\"col1\",\"col2\",\"col3\"])\n",
    "#指定条件\n",
    "df[df[\"col1\"]==\"男\"] 或df.query('col1==\"男\"') 或df[df[\"col1\"]!=\"男\"] 或df.query('col1！=\"男\"')\n",
    "#制定多条件选择\n",
    "df[（df[\"col1\"]==\"男\")& (df[\"col2\"]==\"小明\")] 或df.query('col1==\"男\" & col2==\"小明\")\n",
    "df[df[\"col1\"]%2==0] 为偶数，df[df[\"col1\"]%3==0] 为奇数\n",
    "#左匹配、右匹配、全匹配\n",
    "df[df[\"col1\"].str.startwith(\"王\")]、df[df[\"col1\"].str.endwith(\"王\")]、df[df[\"col1\"].str.contains(\"王\")]    \n",
    "#排序、单字段排序、多字段排序\n",
    "df.sort_values(\"birth\",ascending=False) 、df.sort_values(by=[\"birth\",\"fee\"],ascending=[True,False])\n",
    "#分组\n",
    "df.groupby(\"name\").agg({\"price\":\"sum\"}).reset_index() #方式1\n",
    "df.groupby(\"name\")[\"price\"].sum().reset_index()       #方式2\n",
    "select name ,sum(price) from products group by name ;\n",
    "#分组后重命名列名\n",
    "df.groupby(\"name\").agg({\"price\":\"sum\"}).reset_index().rename(columns={\"name\":\"水果\",\"price\":\"价格\"})\n",
    "#已解决大部分的 疑惑问题。"
   ]
  },
  {
   "cell_type": "code",
   "execution_count": null,
   "metadata": {},
   "outputs": [],
   "source": [
    "#自动发邮件的程序"
   ]
  },
  {
   "cell_type": "code",
   "execution_count": null,
   "metadata": {},
   "outputs": [],
   "source": []
  }
 ],
 "metadata": {
  "kernelspec": {
   "display_name": "Python 3",
   "language": "python",
   "name": "python3"
  },
  "language_info": {
   "codemirror_mode": {
    "name": "ipython",
    "version": 3
   },
   "file_extension": ".py",
   "mimetype": "text/x-python",
   "name": "python",
   "nbconvert_exporter": "python",
   "pygments_lexer": "ipython3",
   "version": "3.7.6"
  }
 },
 "nbformat": 4,
 "nbformat_minor": 4
}
